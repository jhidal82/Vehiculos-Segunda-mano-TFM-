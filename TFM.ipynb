{
 "cells": [
  {
   "cell_type": "markdown",
   "id": "4aabdb01",
   "metadata": {},
   "source": [
    "\n",
    "\n",
    "\n",
    "La Ciencia de Datos y el Machine Learning han demostrado su valor en la predicción de precios en diversos sectores, y el mercado de automoviles  no es una excepción. \n",
    "\n",
    "En este proyecto, se aprovechará la abundante información disponible sobre vehículos usados, como características técnicas, antigüedad, kilometraje, etc., para desarrollar modelos de predicción precisos.\n",
    "\n",
    "Además, como complemento al modelo de predicción, se creará una aplicación web utilizando Streamlit, una herramienta para la creación de interfaces interactivas con Python. Esta aplicación permitirá a los usuarios introducir los datos de un vehículo y obtener una estimación del precio en tiempo real, facilitando así la toma de decisiones de compra o venta.\n",
    "\n",
    "Adicionalmente, se implementarán diferentes dashboards interactivos que ofrecerán visualizaciones y análisis detallados sobre el conjunto de datos de vehículos de segunda mano. Estos dashboards proporcionarán información valiosa sobre las tendencias del mercado, distribución de precios, relación entre variables, entre otros aspectos relevantes.\n",
    "\n",
    "El desarrollo de este TFM se dividirá en distintas etapas, desde la recopilación y preparación de los datos hasta la implementación de los modelos de Machine Learning y la construcción de la interfaz web\n",
    "\n",
    "En resumen, este TFM tiene como objetivo principal desarrollar un sistema de predicción del precio de vehículos mediante técnicas de Machine Learning, junto con una interfaz web interactiva para facilitar su uso. Además, se proporcionarán dashboards interactivos que ofrecerán una visión completa y detallada de los datos relacionados con vehículos de segunda mano. El resultado final será una herramienta útil tanto para compradores y vendedores de vehículos como para profesionales del sector del automovil en la toma de decisiones informadas y en el análisis de tendencias del mercado.\n",
    "\n"
   ]
  },
  {
   "cell_type": "markdown",
   "id": "a62249d4",
   "metadata": {},
   "source": [
    "\n",
    "\n",
    "\n",
    "\n",
    "# 1. OBTENCIÓN DE DATOS Y DEPENDENCIAS\n",
    "\n",
    "# 2. EXPLORATORY  DATA ANALYSIS (EDA)\n",
    "\n",
    "    * 2.1 Visión general del dataset \n",
    "    * 2.2 Eliminación de columnas innecesarias\n",
    "    * 2.3 Rellenar valores nulos\n",
    "        - 2.3.1 Rellenar \"KM\" vacíos\n",
    "        - 2.3.2 Rellenar \"FUEL\" y \"SHIFT\" vacíos\n",
    "        - 2.3.3 Rellenar \"POWER\" vacíos\n",
    "\n",
    "# 3. TRANSFORMACIÓN DE DATOS\n",
    "    * 3.1 Codificación de variables categóricas\n",
    "    * 3.2 Feature Engineering (antigüedad)\n",
    "    * 3.3 Identificación de valores atípicos\n",
    "\n",
    "# 4. MODELOS DE MACHINE LEARNING\n",
    "    * 4.1 División de datos en entrenamiento y prueba \n",
    "    * 4.2 Prueba de modelos de ML\n",
    "        - Regresión Lineal\n",
    "        - Ramdon Forest Regression\n",
    "        - K-Nearest Neighbors\n",
    "        - Decision Tree Regression\n",
    "    * 4.3 Selección del modelo\n",
    "\n",
    "\n"
   ]
  },
  {
   "cell_type": "markdown",
   "id": "280e0ba0",
   "metadata": {},
   "source": [
    "# 1.OBTENCIÓN DE DATOS Y DEPENDENCIAS"
   ]
  },
  {
   "cell_type": "markdown",
   "id": "6fa909b0",
   "metadata": {},
   "source": [
    "### Importamos las dependencias "
   ]
  },
  {
   "cell_type": "code",
   "execution_count": 1,
   "id": "c66d2a37",
   "metadata": {},
   "outputs": [],
   "source": [
    "import pandas as pd\n",
    "import matplotlib.pyplot as plt\n",
    "import seaborn as sns\n",
    "from sklearn.preprocessing import LabelEncoder\n",
    "import warnings\n",
    "warnings.filterwarnings('ignore')\n",
    "import pickle\n",
    "import datetime\n",
    "\n",
    "\n",
    "# Importamos algunos algoritmos de clasificación\n",
    "from sklearn.model_selection import train_test_split\n",
    "from sklearn.linear_model import LinearRegression\n",
    "from sklearn.ensemble import RandomForestRegressor\n",
    "from sklearn.neighbors import KNeighborsRegressor\n",
    "from sklearn.tree import DecisionTreeRegressor\n",
    "\n",
    "from sklearn.metrics import mean_squared_error, r2_score\n",
    "\n"
   ]
  },
  {
   "cell_type": "markdown",
   "id": "068d7e93",
   "metadata": {},
   "source": [
    "### Creamos dataframe leyendo el csv"
   ]
  },
  {
   "cell_type": "markdown",
   "id": "50140b06",
   "metadata": {},
   "source": [
    "Se trata de un dataset de vehiculos de segunda mano con 100.000 registros y 28 columnas.Observo que hay demasiadas columnas y que tendré que quedarme con la que verdaderamente vayan a servir para mi modelo de predicción de precio"
   ]
  },
  {
   "cell_type": "code",
   "execution_count": 2,
   "id": "e075644b",
   "metadata": {},
   "outputs": [
    {
     "data": {
      "text/html": [
       "<div>\n",
       "<style scoped>\n",
       "    .dataframe tbody tr th:only-of-type {\n",
       "        vertical-align: middle;\n",
       "    }\n",
       "\n",
       "    .dataframe tbody tr th {\n",
       "        vertical-align: top;\n",
       "    }\n",
       "\n",
       "    .dataframe thead th {\n",
       "        text-align: right;\n",
       "    }\n",
       "</style>\n",
       "<table border=\"1\" class=\"dataframe\">\n",
       "  <thead>\n",
       "    <tr style=\"text-align: right;\">\n",
       "      <th></th>\n",
       "      <th>vehicle_type</th>\n",
       "      <th>make</th>\n",
       "      <th>model</th>\n",
       "      <th>version</th>\n",
       "      <th>fuel</th>\n",
       "      <th>year</th>\n",
       "      <th>kms</th>\n",
       "      <th>power</th>\n",
       "      <th>doors</th>\n",
       "      <th>shift</th>\n",
       "      <th>...</th>\n",
       "      <th>dealer_name</th>\n",
       "      <th>dealer_description</th>\n",
       "      <th>dealer_address</th>\n",
       "      <th>dealer_zip_code</th>\n",
       "      <th>dealer_city</th>\n",
       "      <th>dealer_country_code</th>\n",
       "      <th>dealer_is_professional</th>\n",
       "      <th>dealer_website</th>\n",
       "      <th>dealer_registered_at</th>\n",
       "      <th>date</th>\n",
       "    </tr>\n",
       "  </thead>\n",
       "  <tbody>\n",
       "    <tr>\n",
       "      <th>0</th>\n",
       "      <td>car</td>\n",
       "      <td>Opel</td>\n",
       "      <td>Crossland</td>\n",
       "      <td>1.2 GAS 110 GS Line 5p S/S</td>\n",
       "      <td>Gasolina</td>\n",
       "      <td>2022</td>\n",
       "      <td>5.0</td>\n",
       "      <td>110.0</td>\n",
       "      <td>NaN</td>\n",
       "      <td>manual</td>\n",
       "      <td>...</td>\n",
       "      <td>Sergio Y.</td>\n",
       "      <td>NaN</td>\n",
       "      <td>2, Carrer de Jacint Benavente, Poblenou, Pined...</td>\n",
       "      <td>8397.0</td>\n",
       "      <td>Pineda de Mar</td>\n",
       "      <td>ES</td>\n",
       "      <td>True</td>\n",
       "      <td>www.cocheauto.com</td>\n",
       "      <td>2017-01-18</td>\n",
       "      <td>2023-02-06</td>\n",
       "    </tr>\n",
       "    <tr>\n",
       "      <th>1</th>\n",
       "      <td>car</td>\n",
       "      <td>Opel</td>\n",
       "      <td>Crossland</td>\n",
       "      <td>1.2 81kW (110CV) GS Line</td>\n",
       "      <td>Gasolina</td>\n",
       "      <td>2022</td>\n",
       "      <td>24847.0</td>\n",
       "      <td>110.0</td>\n",
       "      <td>NaN</td>\n",
       "      <td>manual</td>\n",
       "      <td>...</td>\n",
       "      <td>Peugeot Alcala 534</td>\n",
       "      <td>Concesionario Oficial Peugeot Alcalá 534. Disp...</td>\n",
       "      <td>Avenida de José Gárate, Coslada, Área metropol...</td>\n",
       "      <td>28823.0</td>\n",
       "      <td>Coslada</td>\n",
       "      <td>ES</td>\n",
       "      <td>True</td>\n",
       "      <td>www.alcala534.com/es/vehiculos-ocasion</td>\n",
       "      <td>2019-02-15</td>\n",
       "      <td>2023-02-06</td>\n",
       "    </tr>\n",
       "    <tr>\n",
       "      <th>2</th>\n",
       "      <td>car</td>\n",
       "      <td>Opel</td>\n",
       "      <td>Crossland</td>\n",
       "      <td>1.5D 88kW (120CV) Business Elegance Auto</td>\n",
       "      <td>Diésel</td>\n",
       "      <td>2021</td>\n",
       "      <td>41356.0</td>\n",
       "      <td>120.0</td>\n",
       "      <td>NaN</td>\n",
       "      <td>automatic</td>\n",
       "      <td>...</td>\n",
       "      <td>Clicars S.</td>\n",
       "      <td>Nº1 en Europa en venta de coches online. \\nYa ...</td>\n",
       "      <td>San Cristóbal, Avenida de Andalucía, San Crist...</td>\n",
       "      <td>28021.0</td>\n",
       "      <td>Madrid</td>\n",
       "      <td>ES</td>\n",
       "      <td>True</td>\n",
       "      <td>www.clicars.com/</td>\n",
       "      <td>2016-05-09</td>\n",
       "      <td>2023-02-06</td>\n",
       "    </tr>\n",
       "  </tbody>\n",
       "</table>\n",
       "<p>3 rows × 28 columns</p>\n",
       "</div>"
      ],
      "text/plain": [
       "  vehicle_type  make      model                                   version  \\\n",
       "0          car  Opel  Crossland                1.2 GAS 110 GS Line 5p S/S   \n",
       "1          car  Opel  Crossland                  1.2 81kW (110CV) GS Line   \n",
       "2          car  Opel  Crossland  1.5D 88kW (120CV) Business Elegance Auto   \n",
       "\n",
       "       fuel  year      kms  power  doors      shift  ...         dealer_name  \\\n",
       "0  Gasolina  2022      5.0  110.0    NaN     manual  ...           Sergio Y.   \n",
       "1  Gasolina  2022  24847.0  110.0    NaN     manual  ...  Peugeot Alcala 534   \n",
       "2    Diésel  2021  41356.0  120.0    NaN  automatic  ...          Clicars S.   \n",
       "\n",
       "                                  dealer_description  \\\n",
       "0                                                NaN   \n",
       "1  Concesionario Oficial Peugeot Alcalá 534. Disp...   \n",
       "2  Nº1 en Europa en venta de coches online. \\nYa ...   \n",
       "\n",
       "                                      dealer_address  dealer_zip_code  \\\n",
       "0  2, Carrer de Jacint Benavente, Poblenou, Pined...           8397.0   \n",
       "1  Avenida de José Gárate, Coslada, Área metropol...          28823.0   \n",
       "2  San Cristóbal, Avenida de Andalucía, San Crist...          28021.0   \n",
       "\n",
       "     dealer_city dealer_country_code dealer_is_professional  \\\n",
       "0  Pineda de Mar                  ES                   True   \n",
       "1        Coslada                  ES                   True   \n",
       "2         Madrid                  ES                   True   \n",
       "\n",
       "                           dealer_website dealer_registered_at        date  \n",
       "0                       www.cocheauto.com           2017-01-18  2023-02-06  \n",
       "1  www.alcala534.com/es/vehiculos-ocasion           2019-02-15  2023-02-06  \n",
       "2                        www.clicars.com/           2016-05-09  2023-02-06  \n",
       "\n",
       "[3 rows x 28 columns]"
      ]
     },
     "execution_count": 2,
     "metadata": {},
     "output_type": "execute_result"
    }
   ],
   "source": [
    "df = pd.read_csv(\"coches.csv\",sep=\",\")\n",
    "df.head(3)\n",
    "\n"
   ]
  },
  {
   "cell_type": "code",
   "execution_count": 3,
   "id": "cad624a0",
   "metadata": {},
   "outputs": [
    {
     "data": {
      "text/plain": [
       "(100000, 28)"
      ]
     },
     "execution_count": 3,
     "metadata": {},
     "output_type": "execute_result"
    }
   ],
   "source": [
    "df.shape"
   ]
  },
  {
   "cell_type": "code",
   "execution_count": 4,
   "id": "5ef3293b",
   "metadata": {},
   "outputs": [],
   "source": [
    "df = df.drop_duplicates()  # eliminamos los registros duplicados.\n"
   ]
  },
  {
   "cell_type": "code",
   "execution_count": 5,
   "id": "e8761f90",
   "metadata": {},
   "outputs": [
    {
     "data": {
      "text/plain": [
       "(99763, 28)"
      ]
     },
     "execution_count": 5,
     "metadata": {},
     "output_type": "execute_result"
    }
   ],
   "source": [
    "df.shape"
   ]
  },
  {
   "cell_type": "markdown",
   "id": "ce27bcb4",
   "metadata": {},
   "source": [
    "# 2. EXPLORATORY  DATA ANALYSIS (EDA)"
   ]
  },
  {
   "cell_type": "markdown",
   "id": "4e29afea",
   "metadata": {},
   "source": [
    "## 2.1 visión general del dataset "
   ]
  },
  {
   "cell_type": "code",
   "execution_count": 6,
   "id": "12ee6d3f",
   "metadata": {},
   "outputs": [
    {
     "data": {
      "text/html": [
       "<div>\n",
       "<style scoped>\n",
       "    .dataframe tbody tr th:only-of-type {\n",
       "        vertical-align: middle;\n",
       "    }\n",
       "\n",
       "    .dataframe tbody tr th {\n",
       "        vertical-align: top;\n",
       "    }\n",
       "\n",
       "    .dataframe thead th {\n",
       "        text-align: right;\n",
       "    }\n",
       "</style>\n",
       "<table border=\"1\" class=\"dataframe\">\n",
       "  <thead>\n",
       "    <tr style=\"text-align: right;\">\n",
       "      <th></th>\n",
       "      <th>vehicle_type</th>\n",
       "      <th>make</th>\n",
       "      <th>model</th>\n",
       "      <th>version</th>\n",
       "      <th>fuel</th>\n",
       "      <th>year</th>\n",
       "      <th>kms</th>\n",
       "      <th>power</th>\n",
       "      <th>doors</th>\n",
       "      <th>shift</th>\n",
       "      <th>...</th>\n",
       "      <th>dealer_name</th>\n",
       "      <th>dealer_description</th>\n",
       "      <th>dealer_address</th>\n",
       "      <th>dealer_zip_code</th>\n",
       "      <th>dealer_city</th>\n",
       "      <th>dealer_country_code</th>\n",
       "      <th>dealer_is_professional</th>\n",
       "      <th>dealer_website</th>\n",
       "      <th>dealer_registered_at</th>\n",
       "      <th>date</th>\n",
       "    </tr>\n",
       "  </thead>\n",
       "  <tbody>\n",
       "    <tr>\n",
       "      <th>count</th>\n",
       "      <td>99763</td>\n",
       "      <td>99763</td>\n",
       "      <td>99763</td>\n",
       "      <td>99605</td>\n",
       "      <td>96586</td>\n",
       "      <td>99763.000000</td>\n",
       "      <td>9.895400e+04</td>\n",
       "      <td>99480.000000</td>\n",
       "      <td>0.0</td>\n",
       "      <td>98745</td>\n",
       "      <td>...</td>\n",
       "      <td>99671</td>\n",
       "      <td>81418</td>\n",
       "      <td>99671</td>\n",
       "      <td>99671.000000</td>\n",
       "      <td>99671</td>\n",
       "      <td>99763</td>\n",
       "      <td>99763</td>\n",
       "      <td>79766</td>\n",
       "      <td>99671</td>\n",
       "      <td>99763</td>\n",
       "    </tr>\n",
       "    <tr>\n",
       "      <th>unique</th>\n",
       "      <td>1</td>\n",
       "      <td>66</td>\n",
       "      <td>748</td>\n",
       "      <td>8658</td>\n",
       "      <td>4</td>\n",
       "      <td>NaN</td>\n",
       "      <td>NaN</td>\n",
       "      <td>NaN</td>\n",
       "      <td>NaN</td>\n",
       "      <td>2</td>\n",
       "      <td>...</td>\n",
       "      <td>1678</td>\n",
       "      <td>1181</td>\n",
       "      <td>1675</td>\n",
       "      <td>NaN</td>\n",
       "      <td>665</td>\n",
       "      <td>1</td>\n",
       "      <td>1</td>\n",
       "      <td>888</td>\n",
       "      <td>1177</td>\n",
       "      <td>13</td>\n",
       "    </tr>\n",
       "    <tr>\n",
       "      <th>top</th>\n",
       "      <td>car</td>\n",
       "      <td>Citroen</td>\n",
       "      <td>C3</td>\n",
       "      <td>2.0L TD4 HSE 4x4 132 kW (180 CV)</td>\n",
       "      <td>Diésel</td>\n",
       "      <td>NaN</td>\n",
       "      <td>NaN</td>\n",
       "      <td>NaN</td>\n",
       "      <td>NaN</td>\n",
       "      <td>manual</td>\n",
       "      <td>...</td>\n",
       "      <td>OCASION P.</td>\n",
       "      <td>Para Comprar o Vender tu coche, Primero en FLE...</td>\n",
       "      <td>Colegio Privado Don Bosco Salesianos, avenida ...</td>\n",
       "      <td>NaN</td>\n",
       "      <td>Madrid</td>\n",
       "      <td>ES</td>\n",
       "      <td>True</td>\n",
       "      <td>www.flexicar.es</td>\n",
       "      <td>2019-10-31</td>\n",
       "      <td>2023-02-06</td>\n",
       "    </tr>\n",
       "    <tr>\n",
       "      <th>freq</th>\n",
       "      <td>99763</td>\n",
       "      <td>16495</td>\n",
       "      <td>4019</td>\n",
       "      <td>366</td>\n",
       "      <td>52983</td>\n",
       "      <td>NaN</td>\n",
       "      <td>NaN</td>\n",
       "      <td>NaN</td>\n",
       "      <td>NaN</td>\n",
       "      <td>59670</td>\n",
       "      <td>...</td>\n",
       "      <td>4445</td>\n",
       "      <td>24558</td>\n",
       "      <td>2194</td>\n",
       "      <td>NaN</td>\n",
       "      <td>5086</td>\n",
       "      <td>99763</td>\n",
       "      <td>99763</td>\n",
       "      <td>25860</td>\n",
       "      <td>5316</td>\n",
       "      <td>28276</td>\n",
       "    </tr>\n",
       "    <tr>\n",
       "      <th>mean</th>\n",
       "      <td>NaN</td>\n",
       "      <td>NaN</td>\n",
       "      <td>NaN</td>\n",
       "      <td>NaN</td>\n",
       "      <td>NaN</td>\n",
       "      <td>2016.257280</td>\n",
       "      <td>8.784539e+04</td>\n",
       "      <td>189.941747</td>\n",
       "      <td>NaN</td>\n",
       "      <td>NaN</td>\n",
       "      <td>...</td>\n",
       "      <td>NaN</td>\n",
       "      <td>NaN</td>\n",
       "      <td>NaN</td>\n",
       "      <td>24467.695699</td>\n",
       "      <td>NaN</td>\n",
       "      <td>NaN</td>\n",
       "      <td>NaN</td>\n",
       "      <td>NaN</td>\n",
       "      <td>NaN</td>\n",
       "      <td>NaN</td>\n",
       "    </tr>\n",
       "    <tr>\n",
       "      <th>std</th>\n",
       "      <td>NaN</td>\n",
       "      <td>NaN</td>\n",
       "      <td>NaN</td>\n",
       "      <td>NaN</td>\n",
       "      <td>NaN</td>\n",
       "      <td>4.607768</td>\n",
       "      <td>5.854226e+04</td>\n",
       "      <td>3233.338230</td>\n",
       "      <td>NaN</td>\n",
       "      <td>NaN</td>\n",
       "      <td>...</td>\n",
       "      <td>NaN</td>\n",
       "      <td>NaN</td>\n",
       "      <td>NaN</td>\n",
       "      <td>14553.601507</td>\n",
       "      <td>NaN</td>\n",
       "      <td>NaN</td>\n",
       "      <td>NaN</td>\n",
       "      <td>NaN</td>\n",
       "      <td>NaN</td>\n",
       "      <td>NaN</td>\n",
       "    </tr>\n",
       "    <tr>\n",
       "      <th>min</th>\n",
       "      <td>NaN</td>\n",
       "      <td>NaN</td>\n",
       "      <td>NaN</td>\n",
       "      <td>NaN</td>\n",
       "      <td>NaN</td>\n",
       "      <td>1967.000000</td>\n",
       "      <td>0.000000e+00</td>\n",
       "      <td>0.000000</td>\n",
       "      <td>NaN</td>\n",
       "      <td>NaN</td>\n",
       "      <td>...</td>\n",
       "      <td>NaN</td>\n",
       "      <td>NaN</td>\n",
       "      <td>NaN</td>\n",
       "      <td>1002.000000</td>\n",
       "      <td>NaN</td>\n",
       "      <td>NaN</td>\n",
       "      <td>NaN</td>\n",
       "      <td>NaN</td>\n",
       "      <td>NaN</td>\n",
       "      <td>NaN</td>\n",
       "    </tr>\n",
       "    <tr>\n",
       "      <th>25%</th>\n",
       "      <td>NaN</td>\n",
       "      <td>NaN</td>\n",
       "      <td>NaN</td>\n",
       "      <td>NaN</td>\n",
       "      <td>NaN</td>\n",
       "      <td>2015.000000</td>\n",
       "      <td>4.208100e+04</td>\n",
       "      <td>110.000000</td>\n",
       "      <td>NaN</td>\n",
       "      <td>NaN</td>\n",
       "      <td>...</td>\n",
       "      <td>NaN</td>\n",
       "      <td>NaN</td>\n",
       "      <td>NaN</td>\n",
       "      <td>8734.000000</td>\n",
       "      <td>NaN</td>\n",
       "      <td>NaN</td>\n",
       "      <td>NaN</td>\n",
       "      <td>NaN</td>\n",
       "      <td>NaN</td>\n",
       "      <td>NaN</td>\n",
       "    </tr>\n",
       "    <tr>\n",
       "      <th>50%</th>\n",
       "      <td>NaN</td>\n",
       "      <td>NaN</td>\n",
       "      <td>NaN</td>\n",
       "      <td>NaN</td>\n",
       "      <td>NaN</td>\n",
       "      <td>2017.000000</td>\n",
       "      <td>8.142400e+04</td>\n",
       "      <td>130.000000</td>\n",
       "      <td>NaN</td>\n",
       "      <td>NaN</td>\n",
       "      <td>...</td>\n",
       "      <td>NaN</td>\n",
       "      <td>NaN</td>\n",
       "      <td>NaN</td>\n",
       "      <td>28230.000000</td>\n",
       "      <td>NaN</td>\n",
       "      <td>NaN</td>\n",
       "      <td>NaN</td>\n",
       "      <td>NaN</td>\n",
       "      <td>NaN</td>\n",
       "      <td>NaN</td>\n",
       "    </tr>\n",
       "    <tr>\n",
       "      <th>75%</th>\n",
       "      <td>NaN</td>\n",
       "      <td>NaN</td>\n",
       "      <td>NaN</td>\n",
       "      <td>NaN</td>\n",
       "      <td>NaN</td>\n",
       "      <td>2019.000000</td>\n",
       "      <td>1.199990e+05</td>\n",
       "      <td>175.000000</td>\n",
       "      <td>NaN</td>\n",
       "      <td>NaN</td>\n",
       "      <td>...</td>\n",
       "      <td>NaN</td>\n",
       "      <td>NaN</td>\n",
       "      <td>NaN</td>\n",
       "      <td>33934.000000</td>\n",
       "      <td>NaN</td>\n",
       "      <td>NaN</td>\n",
       "      <td>NaN</td>\n",
       "      <td>NaN</td>\n",
       "      <td>NaN</td>\n",
       "      <td>NaN</td>\n",
       "    </tr>\n",
       "    <tr>\n",
       "      <th>max</th>\n",
       "      <td>NaN</td>\n",
       "      <td>NaN</td>\n",
       "      <td>NaN</td>\n",
       "      <td>NaN</td>\n",
       "      <td>NaN</td>\n",
       "      <td>2023.000000</td>\n",
       "      <td>1.330000e+06</td>\n",
       "      <td>360571.000000</td>\n",
       "      <td>NaN</td>\n",
       "      <td>NaN</td>\n",
       "      <td>...</td>\n",
       "      <td>NaN</td>\n",
       "      <td>NaN</td>\n",
       "      <td>NaN</td>\n",
       "      <td>50820.000000</td>\n",
       "      <td>NaN</td>\n",
       "      <td>NaN</td>\n",
       "      <td>NaN</td>\n",
       "      <td>NaN</td>\n",
       "      <td>NaN</td>\n",
       "      <td>NaN</td>\n",
       "    </tr>\n",
       "  </tbody>\n",
       "</table>\n",
       "<p>11 rows × 28 columns</p>\n",
       "</div>"
      ],
      "text/plain": [
       "       vehicle_type     make  model                           version    fuel  \\\n",
       "count         99763    99763  99763                             99605   96586   \n",
       "unique            1       66    748                              8658       4   \n",
       "top             car  Citroen     C3  2.0L TD4 HSE 4x4 132 kW (180 CV)  Diésel   \n",
       "freq          99763    16495   4019                               366   52983   \n",
       "mean            NaN      NaN    NaN                               NaN     NaN   \n",
       "std             NaN      NaN    NaN                               NaN     NaN   \n",
       "min             NaN      NaN    NaN                               NaN     NaN   \n",
       "25%             NaN      NaN    NaN                               NaN     NaN   \n",
       "50%             NaN      NaN    NaN                               NaN     NaN   \n",
       "75%             NaN      NaN    NaN                               NaN     NaN   \n",
       "max             NaN      NaN    NaN                               NaN     NaN   \n",
       "\n",
       "                year           kms          power  doors   shift  ...  \\\n",
       "count   99763.000000  9.895400e+04   99480.000000    0.0   98745  ...   \n",
       "unique           NaN           NaN            NaN    NaN       2  ...   \n",
       "top              NaN           NaN            NaN    NaN  manual  ...   \n",
       "freq             NaN           NaN            NaN    NaN   59670  ...   \n",
       "mean     2016.257280  8.784539e+04     189.941747    NaN     NaN  ...   \n",
       "std         4.607768  5.854226e+04    3233.338230    NaN     NaN  ...   \n",
       "min      1967.000000  0.000000e+00       0.000000    NaN     NaN  ...   \n",
       "25%      2015.000000  4.208100e+04     110.000000    NaN     NaN  ...   \n",
       "50%      2017.000000  8.142400e+04     130.000000    NaN     NaN  ...   \n",
       "75%      2019.000000  1.199990e+05     175.000000    NaN     NaN  ...   \n",
       "max      2023.000000  1.330000e+06  360571.000000    NaN     NaN  ...   \n",
       "\n",
       "        dealer_name                                 dealer_description  \\\n",
       "count         99671                                              81418   \n",
       "unique         1678                                               1181   \n",
       "top      OCASION P.  Para Comprar o Vender tu coche, Primero en FLE...   \n",
       "freq           4445                                              24558   \n",
       "mean            NaN                                                NaN   \n",
       "std             NaN                                                NaN   \n",
       "min             NaN                                                NaN   \n",
       "25%             NaN                                                NaN   \n",
       "50%             NaN                                                NaN   \n",
       "75%             NaN                                                NaN   \n",
       "max             NaN                                                NaN   \n",
       "\n",
       "                                           dealer_address  dealer_zip_code  \\\n",
       "count                                               99671     99671.000000   \n",
       "unique                                               1675              NaN   \n",
       "top     Colegio Privado Don Bosco Salesianos, avenida ...              NaN   \n",
       "freq                                                 2194              NaN   \n",
       "mean                                                  NaN     24467.695699   \n",
       "std                                                   NaN     14553.601507   \n",
       "min                                                   NaN      1002.000000   \n",
       "25%                                                   NaN      8734.000000   \n",
       "50%                                                   NaN     28230.000000   \n",
       "75%                                                   NaN     33934.000000   \n",
       "max                                                   NaN     50820.000000   \n",
       "\n",
       "       dealer_city dealer_country_code dealer_is_professional  \\\n",
       "count        99671               99763                  99763   \n",
       "unique         665                   1                      1   \n",
       "top         Madrid                  ES                   True   \n",
       "freq          5086               99763                  99763   \n",
       "mean           NaN                 NaN                    NaN   \n",
       "std            NaN                 NaN                    NaN   \n",
       "min            NaN                 NaN                    NaN   \n",
       "25%            NaN                 NaN                    NaN   \n",
       "50%            NaN                 NaN                    NaN   \n",
       "75%            NaN                 NaN                    NaN   \n",
       "max            NaN                 NaN                    NaN   \n",
       "\n",
       "         dealer_website dealer_registered_at        date  \n",
       "count             79766                99671       99763  \n",
       "unique              888                 1177          13  \n",
       "top     www.flexicar.es           2019-10-31  2023-02-06  \n",
       "freq              25860                 5316       28276  \n",
       "mean                NaN                  NaN         NaN  \n",
       "std                 NaN                  NaN         NaN  \n",
       "min                 NaN                  NaN         NaN  \n",
       "25%                 NaN                  NaN         NaN  \n",
       "50%                 NaN                  NaN         NaN  \n",
       "75%                 NaN                  NaN         NaN  \n",
       "max                 NaN                  NaN         NaN  \n",
       "\n",
       "[11 rows x 28 columns]"
      ]
     },
     "execution_count": 6,
     "metadata": {},
     "output_type": "execute_result"
    }
   ],
   "source": [
    "df.describe(include=\"all\")"
   ]
  },
  {
   "cell_type": "markdown",
   "id": "698b2b9d",
   "metadata": {},
   "source": [
    "## 2.2  Eliminación de columnas innecesarias"
   ]
  },
  {
   "cell_type": "code",
   "execution_count": 7,
   "id": "b8af3516",
   "metadata": {},
   "outputs": [
    {
     "data": {
      "text/plain": [
       "Index(['vehicle_type', 'make', 'model', 'version', 'fuel', 'year', 'kms',\n",
       "       'power', 'doors', 'shift', 'color', 'photos', 'description', 'price',\n",
       "       'currency', 'location', 'publish_date', 'update_date', 'dealer_name',\n",
       "       'dealer_description', 'dealer_address', 'dealer_zip_code',\n",
       "       'dealer_city', 'dealer_country_code', 'dealer_is_professional',\n",
       "       'dealer_website', 'dealer_registered_at', 'date'],\n",
       "      dtype='object')"
      ]
     },
     "execution_count": 7,
     "metadata": {},
     "output_type": "execute_result"
    }
   ],
   "source": [
    "df.columns  # mostramos todas las columnas disponibles"
   ]
  },
  {
   "cell_type": "code",
   "execution_count": 8,
   "id": "a137329c",
   "metadata": {},
   "outputs": [
    {
     "data": {
      "text/plain": [
       "vehicle_type                  0\n",
       "make                          0\n",
       "model                         0\n",
       "version                     158\n",
       "fuel                       3177\n",
       "year                          0\n",
       "kms                         809\n",
       "power                       283\n",
       "doors                     99763\n",
       "shift                      1018\n",
       "color                     99763\n",
       "photos                        0\n",
       "description               44014\n",
       "price                         0\n",
       "currency                      0\n",
       "location                      0\n",
       "publish_date                  0\n",
       "update_date                   0\n",
       "dealer_name                  92\n",
       "dealer_description        18345\n",
       "dealer_address               92\n",
       "dealer_zip_code              92\n",
       "dealer_city                  92\n",
       "dealer_country_code           0\n",
       "dealer_is_professional        0\n",
       "dealer_website            19997\n",
       "dealer_registered_at         92\n",
       "date                          0\n",
       "dtype: int64"
      ]
     },
     "execution_count": 8,
     "metadata": {},
     "output_type": "execute_result"
    }
   ],
   "source": [
    "df.isnull().sum()  # calculamos los valores vacios de cada columna"
   ]
  },
  {
   "cell_type": "markdown",
   "id": "181a4d86",
   "metadata": {},
   "source": [
    "#### Eliminamos todas las columnas  que no van a tener relevancia para calcular el precio de un vehiculo, asi como las que tienen demasiados valores vacíos."
   ]
  },
  {
   "cell_type": "code",
   "execution_count": 9,
   "id": "63fdffea",
   "metadata": {},
   "outputs": [],
   "source": [
    "columnas_a_eliminar = ['doors',\"color\",'photos', 'description'\n",
    "       , 'publish_date', 'update_date', 'dealer_name',\n",
    "       'dealer_description', 'dealer_address', 'dealer_zip_code',\n",
    "       'dealer_city', 'dealer_country_code', 'dealer_is_professional',\n",
    "       'dealer_website', 'dealer_registered_at', 'date']\n",
    "      "
   ]
  },
  {
   "cell_type": "code",
   "execution_count": 10,
   "id": "c0f617fc",
   "metadata": {},
   "outputs": [],
   "source": [
    "df_limpio = df.drop(columnas_a_eliminar, axis=1)"
   ]
  },
  {
   "cell_type": "code",
   "execution_count": 11,
   "id": "d23fa423",
   "metadata": {},
   "outputs": [
    {
     "data": {
      "text/plain": [
       "(99763, 12)"
      ]
     },
     "execution_count": 11,
     "metadata": {},
     "output_type": "execute_result"
    }
   ],
   "source": [
    "df_limpio.shape # de momento nos hemos quedado con 12 columnas"
   ]
  },
  {
   "cell_type": "code",
   "execution_count": 12,
   "id": "dca711bd",
   "metadata": {},
   "outputs": [],
   "source": [
    "df_limpio = df_limpio.drop_duplicates() # el dataset contiene numerosos registros duplicados"
   ]
  },
  {
   "cell_type": "code",
   "execution_count": 13,
   "id": "e6299cde",
   "metadata": {},
   "outputs": [
    {
     "data": {
      "text/plain": [
       "(41784, 12)"
      ]
     },
     "execution_count": 13,
     "metadata": {},
     "output_type": "execute_result"
    }
   ],
   "source": [
    "df_limpio.shape  # nos quedamos con la mitad de los registros"
   ]
  },
  {
   "cell_type": "code",
   "execution_count": 14,
   "id": "26b00243",
   "metadata": {},
   "outputs": [
    {
     "data": {
      "text/html": [
       "<div>\n",
       "<style scoped>\n",
       "    .dataframe tbody tr th:only-of-type {\n",
       "        vertical-align: middle;\n",
       "    }\n",
       "\n",
       "    .dataframe tbody tr th {\n",
       "        vertical-align: top;\n",
       "    }\n",
       "\n",
       "    .dataframe thead th {\n",
       "        text-align: right;\n",
       "    }\n",
       "</style>\n",
       "<table border=\"1\" class=\"dataframe\">\n",
       "  <thead>\n",
       "    <tr style=\"text-align: right;\">\n",
       "      <th></th>\n",
       "      <th>vehicle_type</th>\n",
       "      <th>make</th>\n",
       "      <th>model</th>\n",
       "      <th>version</th>\n",
       "      <th>fuel</th>\n",
       "      <th>year</th>\n",
       "      <th>kms</th>\n",
       "      <th>power</th>\n",
       "      <th>shift</th>\n",
       "      <th>price</th>\n",
       "      <th>currency</th>\n",
       "      <th>location</th>\n",
       "    </tr>\n",
       "  </thead>\n",
       "  <tbody>\n",
       "    <tr>\n",
       "      <th>0</th>\n",
       "      <td>car</td>\n",
       "      <td>Opel</td>\n",
       "      <td>Crossland</td>\n",
       "      <td>1.2 GAS 110 GS Line 5p S/S</td>\n",
       "      <td>Gasolina</td>\n",
       "      <td>2022</td>\n",
       "      <td>5.0</td>\n",
       "      <td>110.0</td>\n",
       "      <td>manual</td>\n",
       "      <td>22900</td>\n",
       "      <td>EUR</td>\n",
       "      <td>Pineda de Mar</td>\n",
       "    </tr>\n",
       "    <tr>\n",
       "      <th>1</th>\n",
       "      <td>car</td>\n",
       "      <td>Opel</td>\n",
       "      <td>Crossland</td>\n",
       "      <td>1.2 81kW (110CV) GS Line</td>\n",
       "      <td>Gasolina</td>\n",
       "      <td>2022</td>\n",
       "      <td>24847.0</td>\n",
       "      <td>110.0</td>\n",
       "      <td>manual</td>\n",
       "      <td>19990</td>\n",
       "      <td>EUR</td>\n",
       "      <td>Coslada</td>\n",
       "    </tr>\n",
       "    <tr>\n",
       "      <th>2</th>\n",
       "      <td>car</td>\n",
       "      <td>Opel</td>\n",
       "      <td>Crossland</td>\n",
       "      <td>1.5D 88kW (120CV) Business Elegance Auto</td>\n",
       "      <td>Diésel</td>\n",
       "      <td>2021</td>\n",
       "      <td>41356.0</td>\n",
       "      <td>120.0</td>\n",
       "      <td>automatic</td>\n",
       "      <td>18590</td>\n",
       "      <td>EUR</td>\n",
       "      <td>Madrid</td>\n",
       "    </tr>\n",
       "    <tr>\n",
       "      <th>3</th>\n",
       "      <td>car</td>\n",
       "      <td>Opel</td>\n",
       "      <td>Crossland</td>\n",
       "      <td>GS-Line 1.2 GAS MT6 S/S 110cv</td>\n",
       "      <td>Gasolina</td>\n",
       "      <td>2022</td>\n",
       "      <td>11.0</td>\n",
       "      <td>110.0</td>\n",
       "      <td>manual</td>\n",
       "      <td>22700</td>\n",
       "      <td>EUR</td>\n",
       "      <td>Sabadell</td>\n",
       "    </tr>\n",
       "    <tr>\n",
       "      <th>4</th>\n",
       "      <td>car</td>\n",
       "      <td>Opel</td>\n",
       "      <td>Crossland</td>\n",
       "      <td>GS-Line 1.2 GAS MT6 S/S 110cv</td>\n",
       "      <td>Gasolina</td>\n",
       "      <td>2022</td>\n",
       "      <td>11.0</td>\n",
       "      <td>110.0</td>\n",
       "      <td>manual</td>\n",
       "      <td>22700</td>\n",
       "      <td>EUR</td>\n",
       "      <td>Mollet del Vallès</td>\n",
       "    </tr>\n",
       "  </tbody>\n",
       "</table>\n",
       "</div>"
      ],
      "text/plain": [
       "  vehicle_type  make      model                                   version  \\\n",
       "0          car  Opel  Crossland                1.2 GAS 110 GS Line 5p S/S   \n",
       "1          car  Opel  Crossland                  1.2 81kW (110CV) GS Line   \n",
       "2          car  Opel  Crossland  1.5D 88kW (120CV) Business Elegance Auto   \n",
       "3          car  Opel  Crossland             GS-Line 1.2 GAS MT6 S/S 110cv   \n",
       "4          car  Opel  Crossland             GS-Line 1.2 GAS MT6 S/S 110cv   \n",
       "\n",
       "       fuel  year      kms  power      shift  price currency  \\\n",
       "0  Gasolina  2022      5.0  110.0     manual  22900      EUR   \n",
       "1  Gasolina  2022  24847.0  110.0     manual  19990      EUR   \n",
       "2    Diésel  2021  41356.0  120.0  automatic  18590      EUR   \n",
       "3  Gasolina  2022     11.0  110.0     manual  22700      EUR   \n",
       "4  Gasolina  2022     11.0  110.0     manual  22700      EUR   \n",
       "\n",
       "            location  \n",
       "0      Pineda de Mar  \n",
       "1            Coslada  \n",
       "2             Madrid  \n",
       "3           Sabadell  \n",
       "4  Mollet del Vallès  "
      ]
     },
     "execution_count": 14,
     "metadata": {},
     "output_type": "execute_result"
    }
   ],
   "source": [
    "df_limpio.head()"
   ]
  },
  {
   "cell_type": "code",
   "execution_count": 15,
   "id": "95e0f4ad",
   "metadata": {},
   "outputs": [],
   "source": [
    "df_limpio = df_limpio.drop_duplicates(subset=df_limpio.columns.difference(['location'])) #eliminamos duplicados "
   ]
  },
  {
   "cell_type": "code",
   "execution_count": 16,
   "id": "268262d1",
   "metadata": {},
   "outputs": [
    {
     "data": {
      "text/plain": [
       "(13749, 12)"
      ]
     },
     "execution_count": 16,
     "metadata": {},
     "output_type": "execute_result"
    }
   ],
   "source": [
    "df_limpio.shape "
   ]
  },
  {
   "cell_type": "code",
   "execution_count": 17,
   "id": "41b0ebde",
   "metadata": {},
   "outputs": [
    {
     "data": {
      "text/html": [
       "<div>\n",
       "<style scoped>\n",
       "    .dataframe tbody tr th:only-of-type {\n",
       "        vertical-align: middle;\n",
       "    }\n",
       "\n",
       "    .dataframe tbody tr th {\n",
       "        vertical-align: top;\n",
       "    }\n",
       "\n",
       "    .dataframe thead th {\n",
       "        text-align: right;\n",
       "    }\n",
       "</style>\n",
       "<table border=\"1\" class=\"dataframe\">\n",
       "  <thead>\n",
       "    <tr style=\"text-align: right;\">\n",
       "      <th></th>\n",
       "      <th>vehicle_type</th>\n",
       "      <th>make</th>\n",
       "      <th>model</th>\n",
       "      <th>version</th>\n",
       "      <th>fuel</th>\n",
       "      <th>year</th>\n",
       "      <th>kms</th>\n",
       "      <th>power</th>\n",
       "      <th>shift</th>\n",
       "      <th>price</th>\n",
       "      <th>currency</th>\n",
       "      <th>location</th>\n",
       "    </tr>\n",
       "  </thead>\n",
       "  <tbody>\n",
       "    <tr>\n",
       "      <th>0</th>\n",
       "      <td>car</td>\n",
       "      <td>Opel</td>\n",
       "      <td>Crossland</td>\n",
       "      <td>1.2 GAS 110 GS Line 5p S/S</td>\n",
       "      <td>Gasolina</td>\n",
       "      <td>2022</td>\n",
       "      <td>5.0</td>\n",
       "      <td>110.0</td>\n",
       "      <td>manual</td>\n",
       "      <td>22900</td>\n",
       "      <td>EUR</td>\n",
       "      <td>Pineda de Mar</td>\n",
       "    </tr>\n",
       "    <tr>\n",
       "      <th>1</th>\n",
       "      <td>car</td>\n",
       "      <td>Opel</td>\n",
       "      <td>Crossland</td>\n",
       "      <td>1.2 81kW (110CV) GS Line</td>\n",
       "      <td>Gasolina</td>\n",
       "      <td>2022</td>\n",
       "      <td>24847.0</td>\n",
       "      <td>110.0</td>\n",
       "      <td>manual</td>\n",
       "      <td>19990</td>\n",
       "      <td>EUR</td>\n",
       "      <td>Coslada</td>\n",
       "    </tr>\n",
       "    <tr>\n",
       "      <th>2</th>\n",
       "      <td>car</td>\n",
       "      <td>Opel</td>\n",
       "      <td>Crossland</td>\n",
       "      <td>1.5D 88kW (120CV) Business Elegance Auto</td>\n",
       "      <td>Diésel</td>\n",
       "      <td>2021</td>\n",
       "      <td>41356.0</td>\n",
       "      <td>120.0</td>\n",
       "      <td>automatic</td>\n",
       "      <td>18590</td>\n",
       "      <td>EUR</td>\n",
       "      <td>Madrid</td>\n",
       "    </tr>\n",
       "    <tr>\n",
       "      <th>3</th>\n",
       "      <td>car</td>\n",
       "      <td>Opel</td>\n",
       "      <td>Crossland</td>\n",
       "      <td>GS-Line 1.2 GAS MT6 S/S 110cv</td>\n",
       "      <td>Gasolina</td>\n",
       "      <td>2022</td>\n",
       "      <td>11.0</td>\n",
       "      <td>110.0</td>\n",
       "      <td>manual</td>\n",
       "      <td>22700</td>\n",
       "      <td>EUR</td>\n",
       "      <td>Sabadell</td>\n",
       "    </tr>\n",
       "    <tr>\n",
       "      <th>5</th>\n",
       "      <td>car</td>\n",
       "      <td>Opel</td>\n",
       "      <td>Crossland</td>\n",
       "      <td>1.2 GS LINE 110 CV 5P</td>\n",
       "      <td>Gasolina</td>\n",
       "      <td>2021</td>\n",
       "      <td>51390.0</td>\n",
       "      <td>110.0</td>\n",
       "      <td>manual</td>\n",
       "      <td>18200</td>\n",
       "      <td>EUR</td>\n",
       "      <td>Málaga</td>\n",
       "    </tr>\n",
       "  </tbody>\n",
       "</table>\n",
       "</div>"
      ],
      "text/plain": [
       "  vehicle_type  make      model                                   version  \\\n",
       "0          car  Opel  Crossland                1.2 GAS 110 GS Line 5p S/S   \n",
       "1          car  Opel  Crossland                  1.2 81kW (110CV) GS Line   \n",
       "2          car  Opel  Crossland  1.5D 88kW (120CV) Business Elegance Auto   \n",
       "3          car  Opel  Crossland             GS-Line 1.2 GAS MT6 S/S 110cv   \n",
       "5          car  Opel  Crossland                     1.2 GS LINE 110 CV 5P   \n",
       "\n",
       "       fuel  year      kms  power      shift  price currency       location  \n",
       "0  Gasolina  2022      5.0  110.0     manual  22900      EUR  Pineda de Mar  \n",
       "1  Gasolina  2022  24847.0  110.0     manual  19990      EUR        Coslada  \n",
       "2    Diésel  2021  41356.0  120.0  automatic  18590      EUR         Madrid  \n",
       "3  Gasolina  2022     11.0  110.0     manual  22700      EUR       Sabadell  \n",
       "5  Gasolina  2021  51390.0  110.0     manual  18200      EUR         Málaga  "
      ]
     },
     "execution_count": 17,
     "metadata": {},
     "output_type": "execute_result"
    }
   ],
   "source": [
    "df_limpio.head()"
   ]
  },
  {
   "cell_type": "code",
   "execution_count": 18,
   "id": "9541e7de",
   "metadata": {},
   "outputs": [
    {
     "name": "stdout",
     "output_type": "stream",
     "text": [
      "la columna vehicle_type tiene:  1 registros únicos\n",
      "la columna make tiene:  66 registros únicos\n",
      "la columna model tiene:  748 registros únicos\n",
      "la columna version tiene:  8658 registros únicos\n",
      "la columna fuel tiene:  4 registros únicos\n",
      "la columna year tiene:  43 registros únicos\n",
      "la columna kms tiene:  6643 registros únicos\n",
      "la columna power tiene:  349 registros únicos\n",
      "la columna shift tiene:  2 registros únicos\n",
      "la columna price tiene:  2665 registros únicos\n",
      "la columna currency tiene:  1 registros únicos\n",
      "la columna location tiene:  669 registros únicos\n"
     ]
    }
   ],
   "source": [
    "columnas = df_limpio.columns.tolist()\n",
    "for columna in columnas:\n",
    "    print(\"la columna\",columna,\"tiene: \",df[columna].nunique(),\"registros únicos\")"
   ]
  },
  {
   "cell_type": "markdown",
   "id": "a1aa591b",
   "metadata": {},
   "source": [
    "con esta informacion podemos eliminar la columna \"currency\" y \"vehicle_type\" ya que no nos aportará nada.\n",
    "En un principio tambien vamos a elimnar la version ya que puede alterar los resultados al haver demasiados registros únicos.\n",
    "\n",
    "La decisión de eliminar la variable \"Versión\" del dataset se basa en su elevado número de registros únicos, lo que dificulta su análisis y modelado. Esta eliminación contribuye a simplificar el modelo y centrar el enfoque en variables más significativas para la predicción precisa del precio de los vehículos.\n",
    "\n",
    "Procederemos a la eliminación de esas columnas antes del proceso de transformación"
   ]
  },
  {
   "cell_type": "code",
   "execution_count": 19,
   "id": "91580805",
   "metadata": {},
   "outputs": [],
   "source": [
    "df = df_limpio\n"
   ]
  },
  {
   "cell_type": "code",
   "execution_count": 20,
   "id": "21d0ee4f",
   "metadata": {},
   "outputs": [
    {
     "data": {
      "image/png": "[encoded data removed]",
      "text/plain": [
       "<Figure size 640x480 with 2 Axes>"
      ]
     },
     "metadata": {},
     "output_type": "display_data"
    }
   ],
   "source": [
    "sns.heatmap(df.corr(method='pearson'),annot = True)\n",
    "plt.show()"
   ]
  },
  {
   "cell_type": "code",
   "execution_count": 21,
   "id": "5ad2c3f8",
   "metadata": {},
   "outputs": [
    {
     "data": {
      "text/plain": [
       "price    1.000000\n",
       "year     0.238717\n",
       "power    0.016339\n",
       "kms     -0.292433\n",
       "Name: price, dtype: float64"
      ]
     },
     "execution_count": 21,
     "metadata": {},
     "output_type": "execute_result"
    }
   ],
   "source": [
    "corr_matrix = df.corr()\n",
    "corr_matrix[\"price\"].sort_values(ascending=False)"
   ]
  },
  {
   "cell_type": "markdown",
   "id": "9fb27f3b",
   "metadata": {},
   "source": [
    "según el análisis de correlación, parece que el año y los kilómetros tienen cierta influencia en el precio del producto, mientras que la potencia tiene una correlación muy débil con el precio."
   ]
  },
  {
   "cell_type": "markdown",
   "id": "2edcf863",
   "metadata": {},
   "source": [
    "## 2.3 Rellenar valores nulos"
   ]
  },
  {
   "cell_type": "markdown",
   "id": "e6cb1d31",
   "metadata": {},
   "source": [
    "#### Tenemos que rellenar los valores vacios de forma que el modelo de predicción sea lo mas preciso posible"
   ]
  },
  {
   "cell_type": "code",
   "execution_count": 22,
   "id": "9ffb0746",
   "metadata": {},
   "outputs": [
    {
     "data": {
      "text/plain": [
       "vehicle_type      0\n",
       "make              0\n",
       "model             0\n",
       "version          55\n",
       "fuel            547\n",
       "year              0\n",
       "kms             249\n",
       "power            82\n",
       "shift           458\n",
       "price             0\n",
       "currency          0\n",
       "location          0\n",
       "dtype: int64"
      ]
     },
     "execution_count": 22,
     "metadata": {},
     "output_type": "execute_result"
    }
   ],
   "source": [
    "df.isnull().sum()"
   ]
  },
  {
   "cell_type": "markdown",
   "id": "1badbd12",
   "metadata": {},
   "source": [
    "la versión no la vamos a utilizar para el modelo de predicción."
   ]
  },
  {
   "cell_type": "markdown",
   "id": "7bc1ca3c",
   "metadata": {},
   "source": [
    "### los valores a rellenar son:\n",
    "\n",
    "* fuel     547 valores.\n",
    "* kms      249 valores.\n",
    "* power    82 valores.\n",
    "* shift     458 valores."
   ]
  },
  {
   "cell_type": "code",
   "execution_count": 23,
   "id": "df9a67e4",
   "metadata": {},
   "outputs": [
    {
     "data": {
      "text/html": [
       "<div>\n",
       "<style scoped>\n",
       "    .dataframe tbody tr th:only-of-type {\n",
       "        vertical-align: middle;\n",
       "    }\n",
       "\n",
       "    .dataframe tbody tr th {\n",
       "        vertical-align: top;\n",
       "    }\n",
       "\n",
       "    .dataframe thead th {\n",
       "        text-align: right;\n",
       "    }\n",
       "</style>\n",
       "<table border=\"1\" class=\"dataframe\">\n",
       "  <thead>\n",
       "    <tr style=\"text-align: right;\">\n",
       "      <th></th>\n",
       "      <th>vehicle_type</th>\n",
       "      <th>make</th>\n",
       "      <th>model</th>\n",
       "      <th>version</th>\n",
       "      <th>fuel</th>\n",
       "      <th>year</th>\n",
       "      <th>kms</th>\n",
       "      <th>power</th>\n",
       "      <th>shift</th>\n",
       "      <th>price</th>\n",
       "      <th>currency</th>\n",
       "      <th>location</th>\n",
       "    </tr>\n",
       "  </thead>\n",
       "  <tbody>\n",
       "    <tr>\n",
       "      <th>count</th>\n",
       "      <td>13749</td>\n",
       "      <td>13749</td>\n",
       "      <td>13749</td>\n",
       "      <td>13694</td>\n",
       "      <td>13202</td>\n",
       "      <td>13749.000000</td>\n",
       "      <td>1.350000e+04</td>\n",
       "      <td>13667.000000</td>\n",
       "      <td>13291</td>\n",
       "      <td>13749.000000</td>\n",
       "      <td>13749</td>\n",
       "      <td>13749</td>\n",
       "    </tr>\n",
       "    <tr>\n",
       "      <th>unique</th>\n",
       "      <td>1</td>\n",
       "      <td>66</td>\n",
       "      <td>748</td>\n",
       "      <td>8658</td>\n",
       "      <td>4</td>\n",
       "      <td>NaN</td>\n",
       "      <td>NaN</td>\n",
       "      <td>NaN</td>\n",
       "      <td>2</td>\n",
       "      <td>NaN</td>\n",
       "      <td>1</td>\n",
       "      <td>668</td>\n",
       "    </tr>\n",
       "    <tr>\n",
       "      <th>top</th>\n",
       "      <td>car</td>\n",
       "      <td>Citroen</td>\n",
       "      <td>C3</td>\n",
       "      <td>ZEN TCE 66KW (90CV)</td>\n",
       "      <td>Diésel</td>\n",
       "      <td>NaN</td>\n",
       "      <td>NaN</td>\n",
       "      <td>NaN</td>\n",
       "      <td>manual</td>\n",
       "      <td>NaN</td>\n",
       "      <td>EUR</td>\n",
       "      <td>Madrid</td>\n",
       "    </tr>\n",
       "    <tr>\n",
       "      <th>freq</th>\n",
       "      <td>13749</td>\n",
       "      <td>2961</td>\n",
       "      <td>891</td>\n",
       "      <td>41</td>\n",
       "      <td>7688</td>\n",
       "      <td>NaN</td>\n",
       "      <td>NaN</td>\n",
       "      <td>NaN</td>\n",
       "      <td>9253</td>\n",
       "      <td>NaN</td>\n",
       "      <td>13749</td>\n",
       "      <td>1893</td>\n",
       "    </tr>\n",
       "    <tr>\n",
       "      <th>mean</th>\n",
       "      <td>NaN</td>\n",
       "      <td>NaN</td>\n",
       "      <td>NaN</td>\n",
       "      <td>NaN</td>\n",
       "      <td>NaN</td>\n",
       "      <td>2015.714743</td>\n",
       "      <td>9.742466e+04</td>\n",
       "      <td>174.690788</td>\n",
       "      <td>NaN</td>\n",
       "      <td>19581.132301</td>\n",
       "      <td>NaN</td>\n",
       "      <td>NaN</td>\n",
       "    </tr>\n",
       "    <tr>\n",
       "      <th>std</th>\n",
       "      <td>NaN</td>\n",
       "      <td>NaN</td>\n",
       "      <td>NaN</td>\n",
       "      <td>NaN</td>\n",
       "      <td>NaN</td>\n",
       "      <td>5.419091</td>\n",
       "      <td>7.129775e+04</td>\n",
       "      <td>3084.369160</td>\n",
       "      <td>NaN</td>\n",
       "      <td>23633.132211</td>\n",
       "      <td>NaN</td>\n",
       "      <td>NaN</td>\n",
       "    </tr>\n",
       "    <tr>\n",
       "      <th>min</th>\n",
       "      <td>NaN</td>\n",
       "      <td>NaN</td>\n",
       "      <td>NaN</td>\n",
       "      <td>NaN</td>\n",
       "      <td>NaN</td>\n",
       "      <td>1967.000000</td>\n",
       "      <td>0.000000e+00</td>\n",
       "      <td>0.000000</td>\n",
       "      <td>NaN</td>\n",
       "      <td>0.000000</td>\n",
       "      <td>NaN</td>\n",
       "      <td>NaN</td>\n",
       "    </tr>\n",
       "    <tr>\n",
       "      <th>25%</th>\n",
       "      <td>NaN</td>\n",
       "      <td>NaN</td>\n",
       "      <td>NaN</td>\n",
       "      <td>NaN</td>\n",
       "      <td>NaN</td>\n",
       "      <td>2014.000000</td>\n",
       "      <td>4.500000e+04</td>\n",
       "      <td>100.000000</td>\n",
       "      <td>NaN</td>\n",
       "      <td>8600.000000</td>\n",
       "      <td>NaN</td>\n",
       "      <td>NaN</td>\n",
       "    </tr>\n",
       "    <tr>\n",
       "      <th>50%</th>\n",
       "      <td>NaN</td>\n",
       "      <td>NaN</td>\n",
       "      <td>NaN</td>\n",
       "      <td>NaN</td>\n",
       "      <td>NaN</td>\n",
       "      <td>2018.000000</td>\n",
       "      <td>8.700000e+04</td>\n",
       "      <td>121.000000</td>\n",
       "      <td>NaN</td>\n",
       "      <td>14999.000000</td>\n",
       "      <td>NaN</td>\n",
       "      <td>NaN</td>\n",
       "    </tr>\n",
       "    <tr>\n",
       "      <th>75%</th>\n",
       "      <td>NaN</td>\n",
       "      <td>NaN</td>\n",
       "      <td>NaN</td>\n",
       "      <td>NaN</td>\n",
       "      <td>NaN</td>\n",
       "      <td>2019.000000</td>\n",
       "      <td>1.340000e+05</td>\n",
       "      <td>150.000000</td>\n",
       "      <td>NaN</td>\n",
       "      <td>23490.000000</td>\n",
       "      <td>NaN</td>\n",
       "      <td>NaN</td>\n",
       "    </tr>\n",
       "    <tr>\n",
       "      <th>max</th>\n",
       "      <td>NaN</td>\n",
       "      <td>NaN</td>\n",
       "      <td>NaN</td>\n",
       "      <td>NaN</td>\n",
       "      <td>NaN</td>\n",
       "      <td>2023.000000</td>\n",
       "      <td>1.330000e+06</td>\n",
       "      <td>360571.000000</td>\n",
       "      <td>NaN</td>\n",
       "      <td>498000.000000</td>\n",
       "      <td>NaN</td>\n",
       "      <td>NaN</td>\n",
       "    </tr>\n",
       "  </tbody>\n",
       "</table>\n",
       "</div>"
      ],
      "text/plain": [
       "       vehicle_type     make  model              version    fuel  \\\n",
       "count         13749    13749  13749                13694   13202   \n",
       "unique            1       66    748                 8658       4   \n",
       "top             car  Citroen     C3  ZEN TCE 66KW (90CV)  Diésel   \n",
       "freq          13749     2961    891                   41    7688   \n",
       "mean            NaN      NaN    NaN                  NaN     NaN   \n",
       "std             NaN      NaN    NaN                  NaN     NaN   \n",
       "min             NaN      NaN    NaN                  NaN     NaN   \n",
       "25%             NaN      NaN    NaN                  NaN     NaN   \n",
       "50%             NaN      NaN    NaN                  NaN     NaN   \n",
       "75%             NaN      NaN    NaN                  NaN     NaN   \n",
       "max             NaN      NaN    NaN                  NaN     NaN   \n",
       "\n",
       "                year           kms          power   shift          price  \\\n",
       "count   13749.000000  1.350000e+04   13667.000000   13291   13749.000000   \n",
       "unique           NaN           NaN            NaN       2            NaN   \n",
       "top              NaN           NaN            NaN  manual            NaN   \n",
       "freq             NaN           NaN            NaN    9253            NaN   \n",
       "mean     2015.714743  9.742466e+04     174.690788     NaN   19581.132301   \n",
       "std         5.419091  7.129775e+04    3084.369160     NaN   23633.132211   \n",
       "min      1967.000000  0.000000e+00       0.000000     NaN       0.000000   \n",
       "25%      2014.000000  4.500000e+04     100.000000     NaN    8600.000000   \n",
       "50%      2018.000000  8.700000e+04     121.000000     NaN   14999.000000   \n",
       "75%      2019.000000  1.340000e+05     150.000000     NaN   23490.000000   \n",
       "max      2023.000000  1.330000e+06  360571.000000     NaN  498000.000000   \n",
       "\n",
       "       currency location  \n",
       "count     13749    13749  \n",
       "unique        1      668  \n",
       "top         EUR   Madrid  \n",
       "freq      13749     1893  \n",
       "mean        NaN      NaN  \n",
       "std         NaN      NaN  \n",
       "min         NaN      NaN  \n",
       "25%         NaN      NaN  \n",
       "50%         NaN      NaN  \n",
       "75%         NaN      NaN  \n",
       "max         NaN      NaN  "
      ]
     },
     "execution_count": 23,
     "metadata": {},
     "output_type": "execute_result"
    }
   ],
   "source": [
    "df.describe(include=\"all\")"
   ]
  },
  {
   "cell_type": "markdown",
   "id": "1d034873",
   "metadata": {},
   "source": [
    "#### Voy a agrupar el dataframe por marcas para hacer alguna visualizacion"
   ]
  },
  {
   "cell_type": "code",
   "execution_count": 24,
   "id": "2e523a74",
   "metadata": {},
   "outputs": [],
   "source": [
    "df_marcas = df.groupby('make')\n",
    "conteo_marcas = df['make'].value_counts()\n",
    "top_marcas = conteo_marcas.nlargest(30) # las 30 marcas con más registros"
   ]
  },
  {
   "cell_type": "code",
   "execution_count": 25,
   "id": "e7762aec",
   "metadata": {},
   "outputs": [],
   "source": [
    "media_precios_por_marca = df_marcas['price'].mean()\n"
   ]
  },
  {
   "cell_type": "markdown",
   "id": "f71b3f2c",
   "metadata": {},
   "source": [
    "#### Grafica del precio medio de las 30 marcas con más registros."
   ]
  },
  {
   "cell_type": "code",
   "execution_count": 26,
   "id": "d8d6a1c6",
   "metadata": {},
   "outputs": [
    {
     "data": {
      "image/png": "[encoded data removed]",
      "text/plain": [
       "<Figure size 1200x600 with 1 Axes>"
      ]
     },
     "metadata": {},
     "output_type": "display_data"
    }
   ],
   "source": [
    "# Creamos la figura y los ejes \n",
    "fig, ax = plt.subplots(figsize=(12, 6))\n",
    "media_precios_por_marca[top_marcas.index].plot(kind='bar', ax=ax)\n",
    "#  títulos y etiquetas\n",
    "ax.set_title('Media de Precios por Marca(Top 30)')\n",
    "ax.set_xlabel('Marca')\n",
    "ax.set_ylabel('Media de Precio €')\n",
    "# Rotamos las etiquetas del eje x en 45 grados para mejorar la legibilidad\n",
    "plt.xticks(rotation=45)\n",
    "# Ajustar los márgenes para evitar que las etiquetas se superpongan\n",
    "plt.tight_layout()\n",
    "plt.show()\n"
   ]
  },
  {
   "cell_type": "markdown",
   "id": "15878bb3",
   "metadata": {},
   "source": [
    "## 2.3.1 Rellenar los valores vacios de la columna \"KM\""
   ]
  },
  {
   "cell_type": "markdown",
   "id": "4591063b",
   "metadata": {},
   "source": [
    "#### Para que el modelo sea lo más preciso posible, voy a rellenar los km , teniendo en cuenta el año del vehiculo,ya que son dos variables intimamente relacionadas. "
   ]
  },
  {
   "cell_type": "markdown",
   "id": "21b4bf9d",
   "metadata": {},
   "source": [
    "#### Calculamos la media de kilometros agrupando los vehiculos por año."
   ]
  },
  {
   "cell_type": "code",
   "execution_count": 27,
   "id": "41f37e20",
   "metadata": {},
   "outputs": [],
   "source": [
    "df_año = df.groupby('year')\n",
    "media_km_dependiendo_año_vehiculo = df_año['kms'].mean() \n"
   ]
  },
  {
   "cell_type": "code",
   "execution_count": 28,
   "id": "938a78ec",
   "metadata": {},
   "outputs": [
    {
     "data": {
      "image/png": "[encoded data removed]",
      "text/plain": [
       "<Figure size 640x480 with 1 Axes>"
      ]
     },
     "metadata": {},
     "output_type": "display_data"
    }
   ],
   "source": [
    "# Crear la figura y los ejes\n",
    "fig, ax = plt.subplots()\n",
    "\n",
    "# Graficar la media de kilómetros por año\n",
    "media_km_dependiendo_año_vehiculo.plot(kind='bar', ax=ax)\n",
    "\n",
    "# Configurar los títulos y etiquetas\n",
    "ax.set_title('Media de Kilómetros dependiendo el año del coche')\n",
    "ax.set_xlabel('Año')\n",
    "ax.set_ylabel('Media de Kilómetros')\n",
    "\n",
    "# Rotar las etiquetas del eje x en 45 grados para mejorar la legibilidad\n",
    "plt.xticks(rotation=90)\n",
    "\n",
    "plt.show()"
   ]
  },
  {
   "cell_type": "code",
   "execution_count": 29,
   "id": "74e7cd6d",
   "metadata": {},
   "outputs": [
    {
     "data": {
      "text/plain": [
       "(249, 12)"
      ]
     },
     "execution_count": 29,
     "metadata": {},
     "output_type": "execute_result"
    }
   ],
   "source": [
    "df_kms_vacios = df[df['kms'].isnull()]  # creo un dataframe con los registros que tienen lo km vacíos\n",
    "df_kms_vacios.shape"
   ]
  },
  {
   "cell_type": "code",
   "execution_count": 30,
   "id": "8bf0d55d",
   "metadata": {},
   "outputs": [
    {
     "data": {
      "text/plain": [
       "year\n",
       "2022    51\n",
       "2019    20\n",
       "2023    16\n",
       "2017    16\n",
       "2015    16\n",
       "2018    15\n",
       "2020    11\n",
       "2004     9\n",
       "2014     8\n",
       "2010     8\n",
       "2005     8\n",
       "2008     7\n",
       "2012     7\n",
       "2007     7\n",
       "2021     7\n",
       "2009     6\n",
       "2011     6\n",
       "2016     6\n",
       "2013     4\n",
       "2002     4\n",
       "2003     3\n",
       "1999     3\n",
       "2000     3\n",
       "1998     2\n",
       "2006     2\n",
       "2001     2\n",
       "1997     1\n",
       "1995     1\n",
       "dtype: int64"
      ]
     },
     "execution_count": 30,
     "metadata": {},
     "output_type": "execute_result"
    }
   ],
   "source": [
    "df_kms_vacios.value_counts(\"year\") # voy a mostrarlo por años "
   ]
  },
  {
   "cell_type": "markdown",
   "id": "a95a50de",
   "metadata": {},
   "source": [
    "#### En el grafico podemos observar que la media para el año 1980 es cero, pero esto no nos va  a afectar a la hora de rellenar los valores vacíos, porque no hay ningún valor vacio del año 1980"
   ]
  },
  {
   "cell_type": "code",
   "execution_count": 31,
   "id": "e3871051",
   "metadata": {},
   "outputs": [
    {
     "data": {
      "image/png": "[encoded data removed]",
      "text/plain": [
       "<Figure size 800x400 with 2 Axes>"
      ]
     },
     "metadata": {},
     "output_type": "display_data"
    }
   ],
   "source": [
    "# Obtener la matriz de correlación\n",
    "correlation_matrix = df.corr()\n",
    "\n",
    "# Crear el mapa de calor\n",
    "plt.figure(figsize=(8, 4))\n",
    "sns.heatmap(correlation_matrix, annot=True, cmap='coolwarm')\n",
    "\n",
    "# Configurar el título\n",
    "plt.title('Mapa de Calor - Relación de Variables con los Kilómetros')\n",
    "\n",
    "# Mostrar el mapa de calor\n",
    "plt.show()"
   ]
  },
  {
   "cell_type": "markdown",
   "id": "238c9248",
   "metadata": {},
   "source": [
    "#### Tal y como pensaba, los kilometros se relacionan con el año del vehiculo.por tanto rellenamos los valores vacios con la media de kms dependiendo del año del vehiculo"
   ]
  },
  {
   "cell_type": "markdown",
   "id": "e2954528",
   "metadata": {},
   "source": [
    "#### Relleno los registros vacíos de la columna \"kms\",con la media de kilómetros dependiendo del año del vehículo"
   ]
  },
  {
   "cell_type": "code",
   "execution_count": 32,
   "id": "ab4e71bb",
   "metadata": {},
   "outputs": [],
   "source": [
    "for index, row in df.iterrows():\n",
    "    if pd.isnull(row['kms']):  # Compruebo si el valor de 'kms' está vacío\n",
    "        year = row['year']  # Obtener el año del coche\n",
    "        if year in media_km_dependiendo_año_vehiculo.index:\n",
    "            media_km = media_km_dependiendo_año_vehiculo[year]  # Obtener la media de kms para el año\n",
    "            \n",
    "            df.loc[index, 'kms'] = media_km  # Rellenar el valor vacío con \n",
    "                                             #la media de kms correspondiente al año    "
   ]
  },
  {
   "cell_type": "markdown",
   "id": "42765c2b",
   "metadata": {},
   "source": [
    "#### comprobamos si se ha rellenado correctamente comparando la media antes de rellenar los valores nulos y la media después"
   ]
  },
  {
   "cell_type": "code",
   "execution_count": 33,
   "id": "dcfe670a",
   "metadata": {},
   "outputs": [
    {
     "data": {
      "text/plain": [
       "vehicle_type      0\n",
       "make              0\n",
       "model             0\n",
       "version          55\n",
       "fuel            547\n",
       "year              0\n",
       "kms               0\n",
       "power            82\n",
       "shift           458\n",
       "price             0\n",
       "currency          0\n",
       "location          0\n",
       "dtype: int64"
      ]
     },
     "execution_count": 33,
     "metadata": {},
     "output_type": "execute_result"
    }
   ],
   "source": [
    "df.isnull().sum()"
   ]
  },
  {
   "cell_type": "markdown",
   "id": "3acd611c",
   "metadata": {},
   "source": [
    "#### Media por años después de rellenar los valores vacíos."
   ]
  },
  {
   "cell_type": "code",
   "execution_count": 34,
   "id": "6c90d9d6",
   "metadata": {},
   "outputs": [],
   "source": [
    "df_año_2 = df.groupby('year')\n",
    "media_km__dependiendo_año_vehiculo_TEST = df_año['kms'].mean()"
   ]
  },
  {
   "cell_type": "code",
   "execution_count": 35,
   "id": "1be435c9",
   "metadata": {},
   "outputs": [
    {
     "data": {
      "text/plain": [
       "year\n",
       "1967     True\n",
       "1973     True\n",
       "1976     True\n",
       "1979     True\n",
       "1980     True\n",
       "1983     True\n",
       "1987     True\n",
       "1988     True\n",
       "1989     True\n",
       "1990     True\n",
       "1991     True\n",
       "1992     True\n",
       "1993     True\n",
       "1994     True\n",
       "1995     True\n",
       "1996     True\n",
       "1997     True\n",
       "1998     True\n",
       "1999     True\n",
       "2000     True\n",
       "2001     True\n",
       "2002     True\n",
       "2003     True\n",
       "2004     True\n",
       "2005     True\n",
       "2006     True\n",
       "2007     True\n",
       "2008     True\n",
       "2009     True\n",
       "2010     True\n",
       "2011     True\n",
       "2012     True\n",
       "2013     True\n",
       "2014     True\n",
       "2015     True\n",
       "2016     True\n",
       "2017    False\n",
       "2018     True\n",
       "2019    False\n",
       "2020     True\n",
       "2021    False\n",
       "2022     True\n",
       "2023     True\n",
       "Name: kms, dtype: bool"
      ]
     },
     "execution_count": 35,
     "metadata": {},
     "output_type": "execute_result"
    }
   ],
   "source": [
    "media_km_dependiendo_año_vehiculo==media_km__dependiendo_año_vehiculo_TEST\n"
   ]
  },
  {
   "cell_type": "code",
   "execution_count": 36,
   "id": "4997c63f",
   "metadata": {},
   "outputs": [
    {
     "data": {
      "text/plain": [
       "year\n",
       "1967    0.000000e+00\n",
       "1973    0.000000e+00\n",
       "1976    0.000000e+00\n",
       "1979    0.000000e+00\n",
       "1980    0.000000e+00\n",
       "1983    0.000000e+00\n",
       "1987    0.000000e+00\n",
       "1988    0.000000e+00\n",
       "1989    0.000000e+00\n",
       "1990    0.000000e+00\n",
       "1991    0.000000e+00\n",
       "1992    0.000000e+00\n",
       "1993    0.000000e+00\n",
       "1994    0.000000e+00\n",
       "1995    0.000000e+00\n",
       "1996    0.000000e+00\n",
       "1997    0.000000e+00\n",
       "1998    0.000000e+00\n",
       "1999    0.000000e+00\n",
       "2000    0.000000e+00\n",
       "2001    0.000000e+00\n",
       "2002    0.000000e+00\n",
       "2003    0.000000e+00\n",
       "2004    0.000000e+00\n",
       "2005    0.000000e+00\n",
       "2006    0.000000e+00\n",
       "2007    0.000000e+00\n",
       "2008    0.000000e+00\n",
       "2009    0.000000e+00\n",
       "2010    0.000000e+00\n",
       "2011    0.000000e+00\n",
       "2012    0.000000e+00\n",
       "2013    0.000000e+00\n",
       "2014    0.000000e+00\n",
       "2015    0.000000e+00\n",
       "2016    0.000000e+00\n",
       "2017   -1.455192e-11\n",
       "2018    0.000000e+00\n",
       "2019   -1.455192e-11\n",
       "2020    0.000000e+00\n",
       "2021    3.637979e-12\n",
       "2022    0.000000e+00\n",
       "2023    0.000000e+00\n",
       "Name: kms, dtype: float64"
      ]
     },
     "execution_count": 36,
     "metadata": {},
     "output_type": "execute_result"
    }
   ],
   "source": [
    "diferencia= media_km_dependiendo_año_vehiculo - media_km__dependiendo_año_vehiculo_TEST\n",
    "diferencia"
   ]
  },
  {
   "cell_type": "markdown",
   "id": "92a6eca5",
   "metadata": {},
   "source": [
    "#### verificamos que se ha hecho bien porque los registros que dan una diferencia es minima."
   ]
  },
  {
   "cell_type": "markdown",
   "id": "2cb7cefe",
   "metadata": {},
   "source": [
    "## 2.3.2  Rellenar valores vacíos de \"FUEL\" Y \"SHIFT\"."
   ]
  },
  {
   "cell_type": "markdown",
   "id": "df714ab3",
   "metadata": {},
   "source": [
    "#### voy a rellenar los valores vacios y \"Otros\" de \"fuel\" y \"shift\" con la moda"
   ]
  },
  {
   "cell_type": "code",
   "execution_count": 37,
   "id": "aa4c60bc",
   "metadata": {},
   "outputs": [
    {
     "data": {
      "text/plain": [
       "array(['Gasolina', 'Diésel', 'Eléctrico', nan, 'Otros'], dtype=object)"
      ]
     },
     "execution_count": 37,
     "metadata": {},
     "output_type": "execute_result"
    }
   ],
   "source": [
    "df['fuel'].unique()"
   ]
  },
  {
   "cell_type": "code",
   "execution_count": 38,
   "id": "cea4c37c",
   "metadata": {},
   "outputs": [
    {
     "data": {
      "text/plain": [
       "fuel\n",
       "Diésel       7688\n",
       "Gasolina     4834\n",
       "Eléctrico     600\n",
       "Otros          80\n",
       "dtype: int64"
      ]
     },
     "execution_count": 38,
     "metadata": {},
     "output_type": "execute_result"
    }
   ],
   "source": [
    "df.value_counts(\"fuel\")"
   ]
  },
  {
   "cell_type": "code",
   "execution_count": 39,
   "id": "53f70138",
   "metadata": {},
   "outputs": [
    {
     "data": {
      "text/plain": [
       "array(['manual', 'automatic', nan], dtype=object)"
      ]
     },
     "execution_count": 39,
     "metadata": {},
     "output_type": "execute_result"
    }
   ],
   "source": [
    "df['shift'].unique()"
   ]
  },
  {
   "cell_type": "code",
   "execution_count": 40,
   "id": "ae09e960",
   "metadata": {},
   "outputs": [],
   "source": [
    "# Obtener la moda de la columna 'fuel'\n",
    "moda_fuel = df['fuel'].mode()[0]\n",
    "\n",
    "# Rellenar los valores vacíos y \"Otros\" con la moda\n",
    "df['fuel'] = df['fuel'].fillna(moda_fuel )\n",
    "df['fuel'] = df['fuel'].replace('Otros', moda_fuel )"
   ]
  },
  {
   "cell_type": "code",
   "execution_count": 41,
   "id": "925ae75b",
   "metadata": {},
   "outputs": [],
   "source": [
    "moda_shift = df['shift'].mode()[0]\n",
    "\n",
    "# Rellenar los valores vacíos con la moda\n",
    "df['shift'] = df['shift'].fillna(moda_shift )"
   ]
  },
  {
   "cell_type": "code",
   "execution_count": 42,
   "id": "fdf388e9",
   "metadata": {},
   "outputs": [
    {
     "data": {
      "text/plain": [
       "vehicle_type     0\n",
       "make             0\n",
       "model            0\n",
       "version         55\n",
       "fuel             0\n",
       "year             0\n",
       "kms              0\n",
       "power           82\n",
       "shift            0\n",
       "price            0\n",
       "currency         0\n",
       "location         0\n",
       "dtype: int64"
      ]
     },
     "execution_count": 42,
     "metadata": {},
     "output_type": "execute_result"
    }
   ],
   "source": [
    "df.isnull().sum()"
   ]
  },
  {
   "cell_type": "markdown",
   "id": "dd8c2975",
   "metadata": {},
   "source": [
    "## 2.3.3  Rellenar valores vacios de  \"POWER\"."
   ]
  },
  {
   "cell_type": "markdown",
   "id": "cc3ad80c",
   "metadata": {},
   "source": [
    "#### Relleno la columna power con la potencia más repetida en todos los registros"
   ]
  },
  {
   "cell_type": "code",
   "execution_count": 43,
   "id": "9d72b66d",
   "metadata": {},
   "outputs": [
    {
     "data": {
      "text/plain": [
       "150.0    946\n",
       "110.0    904\n",
       "130.0    764\n",
       "100.0    689\n",
       "115.0    576\n",
       "        ... \n",
       "740.0      1\n",
       "527.0      1\n",
       "244.0      1\n",
       "523.0      1\n",
       "341.0      1\n",
       "Name: power, Length: 349, dtype: int64"
      ]
     },
     "execution_count": 43,
     "metadata": {},
     "output_type": "execute_result"
    }
   ],
   "source": [
    "df['power'].value_counts()"
   ]
  },
  {
   "cell_type": "code",
   "execution_count": 44,
   "id": "41e89837",
   "metadata": {},
   "outputs": [],
   "source": [
    "moda_power = df['power'].mode()[0]\n",
    "\n",
    "# Rellenar los valores vacíos con la moda\n",
    "df['power'] = df['power'].fillna(moda_power)"
   ]
  },
  {
   "cell_type": "code",
   "execution_count": 45,
   "id": "21b350dc",
   "metadata": {},
   "outputs": [
    {
     "data": {
      "text/plain": [
       "vehicle_type     0\n",
       "make             0\n",
       "model            0\n",
       "version         55\n",
       "fuel             0\n",
       "year             0\n",
       "kms              0\n",
       "power            0\n",
       "shift            0\n",
       "price            0\n",
       "currency         0\n",
       "location         0\n",
       "dtype: int64"
      ]
     },
     "execution_count": 45,
     "metadata": {},
     "output_type": "execute_result"
    }
   ],
   "source": [
    "df.isnull().sum()"
   ]
  },
  {
   "cell_type": "code",
   "execution_count": 46,
   "id": "a1f1cbed",
   "metadata": {},
   "outputs": [],
   "source": [
    "df_streamlit = df.copy()\n",
    "df_streamlit.to_csv(\"df_streamlit.csv\", index=False)    # hacemos una copia de este dataframe, que será el que usemos \n",
    "                                                        # para la App de Streamlit\n"
   ]
  },
  {
   "cell_type": "code",
   "execution_count": 47,
   "id": "081d4ca0",
   "metadata": {},
   "outputs": [
    {
     "data": {
      "text/html": [
       "<div>\n",
       "<style scoped>\n",
       "    .dataframe tbody tr th:only-of-type {\n",
       "        vertical-align: middle;\n",
       "    }\n",
       "\n",
       "    .dataframe tbody tr th {\n",
       "        vertical-align: top;\n",
       "    }\n",
       "\n",
       "    .dataframe thead th {\n",
       "        text-align: right;\n",
       "    }\n",
       "</style>\n",
       "<table border=\"1\" class=\"dataframe\">\n",
       "  <thead>\n",
       "    <tr style=\"text-align: right;\">\n",
       "      <th></th>\n",
       "      <th>vehicle_type</th>\n",
       "      <th>make</th>\n",
       "      <th>model</th>\n",
       "      <th>version</th>\n",
       "      <th>fuel</th>\n",
       "      <th>year</th>\n",
       "      <th>kms</th>\n",
       "      <th>power</th>\n",
       "      <th>shift</th>\n",
       "      <th>price</th>\n",
       "      <th>currency</th>\n",
       "      <th>location</th>\n",
       "    </tr>\n",
       "  </thead>\n",
       "  <tbody>\n",
       "    <tr>\n",
       "      <th>0</th>\n",
       "      <td>car</td>\n",
       "      <td>Opel</td>\n",
       "      <td>Crossland</td>\n",
       "      <td>1.2 GAS 110 GS Line 5p S/S</td>\n",
       "      <td>Gasolina</td>\n",
       "      <td>2022</td>\n",
       "      <td>5.0</td>\n",
       "      <td>110.0</td>\n",
       "      <td>manual</td>\n",
       "      <td>22900</td>\n",
       "      <td>EUR</td>\n",
       "      <td>Pineda de Mar</td>\n",
       "    </tr>\n",
       "    <tr>\n",
       "      <th>1</th>\n",
       "      <td>car</td>\n",
       "      <td>Opel</td>\n",
       "      <td>Crossland</td>\n",
       "      <td>1.2 81kW (110CV) GS Line</td>\n",
       "      <td>Gasolina</td>\n",
       "      <td>2022</td>\n",
       "      <td>24847.0</td>\n",
       "      <td>110.0</td>\n",
       "      <td>manual</td>\n",
       "      <td>19990</td>\n",
       "      <td>EUR</td>\n",
       "      <td>Coslada</td>\n",
       "    </tr>\n",
       "    <tr>\n",
       "      <th>2</th>\n",
       "      <td>car</td>\n",
       "      <td>Opel</td>\n",
       "      <td>Crossland</td>\n",
       "      <td>1.5D 88kW (120CV) Business Elegance Auto</td>\n",
       "      <td>Diésel</td>\n",
       "      <td>2021</td>\n",
       "      <td>41356.0</td>\n",
       "      <td>120.0</td>\n",
       "      <td>automatic</td>\n",
       "      <td>18590</td>\n",
       "      <td>EUR</td>\n",
       "      <td>Madrid</td>\n",
       "    </tr>\n",
       "    <tr>\n",
       "      <th>3</th>\n",
       "      <td>car</td>\n",
       "      <td>Opel</td>\n",
       "      <td>Crossland</td>\n",
       "      <td>GS-Line 1.2 GAS MT6 S/S 110cv</td>\n",
       "      <td>Gasolina</td>\n",
       "      <td>2022</td>\n",
       "      <td>11.0</td>\n",
       "      <td>110.0</td>\n",
       "      <td>manual</td>\n",
       "      <td>22700</td>\n",
       "      <td>EUR</td>\n",
       "      <td>Sabadell</td>\n",
       "    </tr>\n",
       "    <tr>\n",
       "      <th>5</th>\n",
       "      <td>car</td>\n",
       "      <td>Opel</td>\n",
       "      <td>Crossland</td>\n",
       "      <td>1.2 GS LINE 110 CV 5P</td>\n",
       "      <td>Gasolina</td>\n",
       "      <td>2021</td>\n",
       "      <td>51390.0</td>\n",
       "      <td>110.0</td>\n",
       "      <td>manual</td>\n",
       "      <td>18200</td>\n",
       "      <td>EUR</td>\n",
       "      <td>Málaga</td>\n",
       "    </tr>\n",
       "  </tbody>\n",
       "</table>\n",
       "</div>"
      ],
      "text/plain": [
       "  vehicle_type  make      model                                   version  \\\n",
       "0          car  Opel  Crossland                1.2 GAS 110 GS Line 5p S/S   \n",
       "1          car  Opel  Crossland                  1.2 81kW (110CV) GS Line   \n",
       "2          car  Opel  Crossland  1.5D 88kW (120CV) Business Elegance Auto   \n",
       "3          car  Opel  Crossland             GS-Line 1.2 GAS MT6 S/S 110cv   \n",
       "5          car  Opel  Crossland                     1.2 GS LINE 110 CV 5P   \n",
       "\n",
       "       fuel  year      kms  power      shift  price currency       location  \n",
       "0  Gasolina  2022      5.0  110.0     manual  22900      EUR  Pineda de Mar  \n",
       "1  Gasolina  2022  24847.0  110.0     manual  19990      EUR        Coslada  \n",
       "2    Diésel  2021  41356.0  120.0  automatic  18590      EUR         Madrid  \n",
       "3  Gasolina  2022     11.0  110.0     manual  22700      EUR       Sabadell  \n",
       "5  Gasolina  2021  51390.0  110.0     manual  18200      EUR         Málaga  "
      ]
     },
     "execution_count": 47,
     "metadata": {},
     "output_type": "execute_result"
    }
   ],
   "source": [
    "df_streamlit.head()"
   ]
  },
  {
   "cell_type": "code",
   "execution_count": 48,
   "id": "9ebb7345",
   "metadata": {},
   "outputs": [
    {
     "data": {
      "text/plain": [
       "(13749, 12)"
      ]
     },
     "execution_count": 48,
     "metadata": {},
     "output_type": "execute_result"
    }
   ],
   "source": [
    "df_streamlit.shape"
   ]
  },
  {
   "cell_type": "markdown",
   "id": "35245567",
   "metadata": {},
   "source": [
    "Antes de la trasnformación de los datos :\n",
    "\n",
    "tras el análisis de los datos, vamos a eliminar la columna \"currency\" y \"vehicle_type\" ya que no nos aportará nada. En un principio tambien vamos a elimnar la version ya que puede alterar los resultados al haber demasiados registros únicos.\n",
    "\n",
    "La decisión de eliminar la variable \"Versión\" del dataset se basa en su elevado número de registros únicos, lo que dificulta su análisis y modelado. Esta eliminación contribuye a simplificar el modelo y centrar el enfoque en variables más significativas para la predicción precisa del precio de los vehículos."
   ]
  },
  {
   "cell_type": "code",
   "execution_count": 49,
   "id": "a65f66b9",
   "metadata": {},
   "outputs": [
    {
     "data": {
      "text/html": [
       "<div>\n",
       "<style scoped>\n",
       "    .dataframe tbody tr th:only-of-type {\n",
       "        vertical-align: middle;\n",
       "    }\n",
       "\n",
       "    .dataframe tbody tr th {\n",
       "        vertical-align: top;\n",
       "    }\n",
       "\n",
       "    .dataframe thead th {\n",
       "        text-align: right;\n",
       "    }\n",
       "</style>\n",
       "<table border=\"1\" class=\"dataframe\">\n",
       "  <thead>\n",
       "    <tr style=\"text-align: right;\">\n",
       "      <th></th>\n",
       "      <th>vehicle_type</th>\n",
       "      <th>make</th>\n",
       "      <th>model</th>\n",
       "      <th>version</th>\n",
       "      <th>fuel</th>\n",
       "      <th>year</th>\n",
       "      <th>kms</th>\n",
       "      <th>power</th>\n",
       "      <th>shift</th>\n",
       "      <th>price</th>\n",
       "      <th>currency</th>\n",
       "      <th>location</th>\n",
       "    </tr>\n",
       "  </thead>\n",
       "  <tbody>\n",
       "    <tr>\n",
       "      <th>0</th>\n",
       "      <td>car</td>\n",
       "      <td>Opel</td>\n",
       "      <td>Crossland</td>\n",
       "      <td>1.2 GAS 110 GS Line 5p S/S</td>\n",
       "      <td>Gasolina</td>\n",
       "      <td>2022</td>\n",
       "      <td>5.0</td>\n",
       "      <td>110.0</td>\n",
       "      <td>manual</td>\n",
       "      <td>22900</td>\n",
       "      <td>EUR</td>\n",
       "      <td>Pineda de Mar</td>\n",
       "    </tr>\n",
       "    <tr>\n",
       "      <th>1</th>\n",
       "      <td>car</td>\n",
       "      <td>Opel</td>\n",
       "      <td>Crossland</td>\n",
       "      <td>1.2 81kW (110CV) GS Line</td>\n",
       "      <td>Gasolina</td>\n",
       "      <td>2022</td>\n",
       "      <td>24847.0</td>\n",
       "      <td>110.0</td>\n",
       "      <td>manual</td>\n",
       "      <td>19990</td>\n",
       "      <td>EUR</td>\n",
       "      <td>Coslada</td>\n",
       "    </tr>\n",
       "    <tr>\n",
       "      <th>2</th>\n",
       "      <td>car</td>\n",
       "      <td>Opel</td>\n",
       "      <td>Crossland</td>\n",
       "      <td>1.5D 88kW (120CV) Business Elegance Auto</td>\n",
       "      <td>Diésel</td>\n",
       "      <td>2021</td>\n",
       "      <td>41356.0</td>\n",
       "      <td>120.0</td>\n",
       "      <td>automatic</td>\n",
       "      <td>18590</td>\n",
       "      <td>EUR</td>\n",
       "      <td>Madrid</td>\n",
       "    </tr>\n",
       "    <tr>\n",
       "      <th>3</th>\n",
       "      <td>car</td>\n",
       "      <td>Opel</td>\n",
       "      <td>Crossland</td>\n",
       "      <td>GS-Line 1.2 GAS MT6 S/S 110cv</td>\n",
       "      <td>Gasolina</td>\n",
       "      <td>2022</td>\n",
       "      <td>11.0</td>\n",
       "      <td>110.0</td>\n",
       "      <td>manual</td>\n",
       "      <td>22700</td>\n",
       "      <td>EUR</td>\n",
       "      <td>Sabadell</td>\n",
       "    </tr>\n",
       "    <tr>\n",
       "      <th>5</th>\n",
       "      <td>car</td>\n",
       "      <td>Opel</td>\n",
       "      <td>Crossland</td>\n",
       "      <td>1.2 GS LINE 110 CV 5P</td>\n",
       "      <td>Gasolina</td>\n",
       "      <td>2021</td>\n",
       "      <td>51390.0</td>\n",
       "      <td>110.0</td>\n",
       "      <td>manual</td>\n",
       "      <td>18200</td>\n",
       "      <td>EUR</td>\n",
       "      <td>Málaga</td>\n",
       "    </tr>\n",
       "  </tbody>\n",
       "</table>\n",
       "</div>"
      ],
      "text/plain": [
       "  vehicle_type  make      model                                   version  \\\n",
       "0          car  Opel  Crossland                1.2 GAS 110 GS Line 5p S/S   \n",
       "1          car  Opel  Crossland                  1.2 81kW (110CV) GS Line   \n",
       "2          car  Opel  Crossland  1.5D 88kW (120CV) Business Elegance Auto   \n",
       "3          car  Opel  Crossland             GS-Line 1.2 GAS MT6 S/S 110cv   \n",
       "5          car  Opel  Crossland                     1.2 GS LINE 110 CV 5P   \n",
       "\n",
       "       fuel  year      kms  power      shift  price currency       location  \n",
       "0  Gasolina  2022      5.0  110.0     manual  22900      EUR  Pineda de Mar  \n",
       "1  Gasolina  2022  24847.0  110.0     manual  19990      EUR        Coslada  \n",
       "2    Diésel  2021  41356.0  120.0  automatic  18590      EUR         Madrid  \n",
       "3  Gasolina  2022     11.0  110.0     manual  22700      EUR       Sabadell  \n",
       "5  Gasolina  2021  51390.0  110.0     manual  18200      EUR         Málaga  "
      ]
     },
     "execution_count": 49,
     "metadata": {},
     "output_type": "execute_result"
    }
   ],
   "source": [
    "df.head()"
   ]
  },
  {
   "cell_type": "code",
   "execution_count": 51,
   "id": "55b643cf",
   "metadata": {},
   "outputs": [
    {
     "ename": "KeyError",
     "evalue": "\"['currency', 'version', 'location', 'vehicle_type'] not found in axis\"",
     "output_type": "error",
     "traceback": [
      "\u001b[1;31m---------------------------------------------------------------------------\u001b[0m",
      "\u001b[1;31mKeyError\u001b[0m                                  Traceback (most recent call last)",
      "Cell \u001b[1;32mIn [51], line 1\u001b[0m\n\u001b[1;32m----> 1\u001b[0m df \u001b[38;5;241m=\u001b[39m \u001b[43mdf\u001b[49m\u001b[38;5;241;43m.\u001b[39;49m\u001b[43m \u001b[49m\u001b[43mdrop\u001b[49m\u001b[43m(\u001b[49m\u001b[43m[\u001b[49m\u001b[38;5;124;43m\"\u001b[39;49m\u001b[38;5;124;43mcurrency\u001b[39;49m\u001b[38;5;124;43m\"\u001b[39;49m\u001b[43m,\u001b[49m\u001b[43m \u001b[49m\u001b[38;5;124;43m\"\u001b[39;49m\u001b[38;5;124;43mversion\u001b[39;49m\u001b[38;5;124;43m\"\u001b[39;49m\u001b[43m,\u001b[49m\u001b[38;5;124;43m\"\u001b[39;49m\u001b[38;5;124;43mlocation\u001b[39;49m\u001b[38;5;124;43m\"\u001b[39;49m\u001b[43m,\u001b[49m\u001b[38;5;124;43m'\u001b[39;49m\u001b[38;5;124;43mvehicle_type\u001b[39;49m\u001b[38;5;124;43m'\u001b[39;49m\u001b[43m]\u001b[49m\u001b[43m,\u001b[49m\u001b[43m \u001b[49m\u001b[43maxis\u001b[49m\u001b[38;5;241;43m=\u001b[39;49m\u001b[38;5;241;43m1\u001b[39;49m\u001b[43m)\u001b[49m\n\u001b[0;32m      2\u001b[0m df\u001b[38;5;241m.\u001b[39mhead()\n",
      "File \u001b[1;32mc:\\users\\javier hidalgo\\appdata\\local\\programs\\python\\python38\\lib\\site-packages\\pandas\\util\\_decorators.py:331\u001b[0m, in \u001b[0;36mdeprecate_nonkeyword_arguments.<locals>.decorate.<locals>.wrapper\u001b[1;34m(*args, **kwargs)\u001b[0m\n\u001b[0;32m    325\u001b[0m \u001b[38;5;28;01mif\u001b[39;00m \u001b[38;5;28mlen\u001b[39m(args) \u001b[38;5;241m>\u001b[39m num_allow_args:\n\u001b[0;32m    326\u001b[0m     warnings\u001b[38;5;241m.\u001b[39mwarn(\n\u001b[0;32m    327\u001b[0m         msg\u001b[38;5;241m.\u001b[39mformat(arguments\u001b[38;5;241m=\u001b[39m_format_argument_list(allow_args)),\n\u001b[0;32m    328\u001b[0m         \u001b[38;5;167;01mFutureWarning\u001b[39;00m,\n\u001b[0;32m    329\u001b[0m         stacklevel\u001b[38;5;241m=\u001b[39mfind_stack_level(),\n\u001b[0;32m    330\u001b[0m     )\n\u001b[1;32m--> 331\u001b[0m \u001b[38;5;28;01mreturn\u001b[39;00m \u001b[43mfunc\u001b[49m\u001b[43m(\u001b[49m\u001b[38;5;241;43m*\u001b[39;49m\u001b[43margs\u001b[49m\u001b[43m,\u001b[49m\u001b[43m \u001b[49m\u001b[38;5;241;43m*\u001b[39;49m\u001b[38;5;241;43m*\u001b[39;49m\u001b[43mkwargs\u001b[49m\u001b[43m)\u001b[49m\n",
      "File \u001b[1;32mc:\\users\\javier hidalgo\\appdata\\local\\programs\\python\\python38\\lib\\site-packages\\pandas\\core\\frame.py:5388\u001b[0m, in \u001b[0;36mDataFrame.drop\u001b[1;34m(self, labels, axis, index, columns, level, inplace, errors)\u001b[0m\n\u001b[0;32m   5240\u001b[0m \u001b[38;5;129m@deprecate_nonkeyword_arguments\u001b[39m(version\u001b[38;5;241m=\u001b[39m\u001b[38;5;28;01mNone\u001b[39;00m, allowed_args\u001b[38;5;241m=\u001b[39m[\u001b[38;5;124m\"\u001b[39m\u001b[38;5;124mself\u001b[39m\u001b[38;5;124m\"\u001b[39m, \u001b[38;5;124m\"\u001b[39m\u001b[38;5;124mlabels\u001b[39m\u001b[38;5;124m\"\u001b[39m])\n\u001b[0;32m   5241\u001b[0m \u001b[38;5;28;01mdef\u001b[39;00m \u001b[38;5;21mdrop\u001b[39m(  \u001b[38;5;66;03m# type: ignore[override]\u001b[39;00m\n\u001b[0;32m   5242\u001b[0m     \u001b[38;5;28mself\u001b[39m,\n\u001b[1;32m   (...)\u001b[0m\n\u001b[0;32m   5249\u001b[0m     errors: IgnoreRaise \u001b[38;5;241m=\u001b[39m \u001b[38;5;124m\"\u001b[39m\u001b[38;5;124mraise\u001b[39m\u001b[38;5;124m\"\u001b[39m,\n\u001b[0;32m   5250\u001b[0m ) \u001b[38;5;241m-\u001b[39m\u001b[38;5;241m>\u001b[39m DataFrame \u001b[38;5;241m|\u001b[39m \u001b[38;5;28;01mNone\u001b[39;00m:\n\u001b[0;32m   5251\u001b[0m \u001b[38;5;250m    \u001b[39m\u001b[38;5;124;03m\"\"\"\u001b[39;00m\n\u001b[0;32m   5252\u001b[0m \u001b[38;5;124;03m    Drop specified labels from rows or columns.\u001b[39;00m\n\u001b[0;32m   5253\u001b[0m \n\u001b[1;32m   (...)\u001b[0m\n\u001b[0;32m   5386\u001b[0m \u001b[38;5;124;03m            weight  1.0     0.8\u001b[39;00m\n\u001b[0;32m   5387\u001b[0m \u001b[38;5;124;03m    \"\"\"\u001b[39;00m\n\u001b[1;32m-> 5388\u001b[0m     \u001b[38;5;28;01mreturn\u001b[39;00m \u001b[38;5;28;43msuper\u001b[39;49m\u001b[43m(\u001b[49m\u001b[43m)\u001b[49m\u001b[38;5;241;43m.\u001b[39;49m\u001b[43mdrop\u001b[49m\u001b[43m(\u001b[49m\n\u001b[0;32m   5389\u001b[0m \u001b[43m        \u001b[49m\u001b[43mlabels\u001b[49m\u001b[38;5;241;43m=\u001b[39;49m\u001b[43mlabels\u001b[49m\u001b[43m,\u001b[49m\n\u001b[0;32m   5390\u001b[0m \u001b[43m        \u001b[49m\u001b[43maxis\u001b[49m\u001b[38;5;241;43m=\u001b[39;49m\u001b[43maxis\u001b[49m\u001b[43m,\u001b[49m\n\u001b[0;32m   5391\u001b[0m \u001b[43m        \u001b[49m\u001b[43mindex\u001b[49m\u001b[38;5;241;43m=\u001b[39;49m\u001b[43mindex\u001b[49m\u001b[43m,\u001b[49m\n\u001b[0;32m   5392\u001b[0m \u001b[43m        \u001b[49m\u001b[43mcolumns\u001b[49m\u001b[38;5;241;43m=\u001b[39;49m\u001b[43mcolumns\u001b[49m\u001b[43m,\u001b[49m\n\u001b[0;32m   5393\u001b[0m \u001b[43m        \u001b[49m\u001b[43mlevel\u001b[49m\u001b[38;5;241;43m=\u001b[39;49m\u001b[43mlevel\u001b[49m\u001b[43m,\u001b[49m\n\u001b[0;32m   5394\u001b[0m \u001b[43m        \u001b[49m\u001b[43minplace\u001b[49m\u001b[38;5;241;43m=\u001b[39;49m\u001b[43minplace\u001b[49m\u001b[43m,\u001b[49m\n\u001b[0;32m   5395\u001b[0m \u001b[43m        \u001b[49m\u001b[43merrors\u001b[49m\u001b[38;5;241;43m=\u001b[39;49m\u001b[43merrors\u001b[49m\u001b[43m,\u001b[49m\n\u001b[0;32m   5396\u001b[0m \u001b[43m    \u001b[49m\u001b[43m)\u001b[49m\n",
      "File \u001b[1;32mc:\\users\\javier hidalgo\\appdata\\local\\programs\\python\\python38\\lib\\site-packages\\pandas\\util\\_decorators.py:331\u001b[0m, in \u001b[0;36mdeprecate_nonkeyword_arguments.<locals>.decorate.<locals>.wrapper\u001b[1;34m(*args, **kwargs)\u001b[0m\n\u001b[0;32m    325\u001b[0m \u001b[38;5;28;01mif\u001b[39;00m \u001b[38;5;28mlen\u001b[39m(args) \u001b[38;5;241m>\u001b[39m num_allow_args:\n\u001b[0;32m    326\u001b[0m     warnings\u001b[38;5;241m.\u001b[39mwarn(\n\u001b[0;32m    327\u001b[0m         msg\u001b[38;5;241m.\u001b[39mformat(arguments\u001b[38;5;241m=\u001b[39m_format_argument_list(allow_args)),\n\u001b[0;32m    328\u001b[0m         \u001b[38;5;167;01mFutureWarning\u001b[39;00m,\n\u001b[0;32m    329\u001b[0m         stacklevel\u001b[38;5;241m=\u001b[39mfind_stack_level(),\n\u001b[0;32m    330\u001b[0m     )\n\u001b[1;32m--> 331\u001b[0m \u001b[38;5;28;01mreturn\u001b[39;00m \u001b[43mfunc\u001b[49m\u001b[43m(\u001b[49m\u001b[38;5;241;43m*\u001b[39;49m\u001b[43margs\u001b[49m\u001b[43m,\u001b[49m\u001b[43m \u001b[49m\u001b[38;5;241;43m*\u001b[39;49m\u001b[38;5;241;43m*\u001b[39;49m\u001b[43mkwargs\u001b[49m\u001b[43m)\u001b[49m\n",
      "File \u001b[1;32mc:\\users\\javier hidalgo\\appdata\\local\\programs\\python\\python38\\lib\\site-packages\\pandas\\core\\generic.py:4505\u001b[0m, in \u001b[0;36mNDFrame.drop\u001b[1;34m(self, labels, axis, index, columns, level, inplace, errors)\u001b[0m\n\u001b[0;32m   4503\u001b[0m \u001b[38;5;28;01mfor\u001b[39;00m axis, labels \u001b[38;5;129;01min\u001b[39;00m axes\u001b[38;5;241m.\u001b[39mitems():\n\u001b[0;32m   4504\u001b[0m     \u001b[38;5;28;01mif\u001b[39;00m labels \u001b[38;5;129;01mis\u001b[39;00m \u001b[38;5;129;01mnot\u001b[39;00m \u001b[38;5;28;01mNone\u001b[39;00m:\n\u001b[1;32m-> 4505\u001b[0m         obj \u001b[38;5;241m=\u001b[39m \u001b[43mobj\u001b[49m\u001b[38;5;241;43m.\u001b[39;49m\u001b[43m_drop_axis\u001b[49m\u001b[43m(\u001b[49m\u001b[43mlabels\u001b[49m\u001b[43m,\u001b[49m\u001b[43m \u001b[49m\u001b[43maxis\u001b[49m\u001b[43m,\u001b[49m\u001b[43m \u001b[49m\u001b[43mlevel\u001b[49m\u001b[38;5;241;43m=\u001b[39;49m\u001b[43mlevel\u001b[49m\u001b[43m,\u001b[49m\u001b[43m \u001b[49m\u001b[43merrors\u001b[49m\u001b[38;5;241;43m=\u001b[39;49m\u001b[43merrors\u001b[49m\u001b[43m)\u001b[49m\n\u001b[0;32m   4507\u001b[0m \u001b[38;5;28;01mif\u001b[39;00m inplace:\n\u001b[0;32m   4508\u001b[0m     \u001b[38;5;28mself\u001b[39m\u001b[38;5;241m.\u001b[39m_update_inplace(obj)\n",
      "File \u001b[1;32mc:\\users\\javier hidalgo\\appdata\\local\\programs\\python\\python38\\lib\\site-packages\\pandas\\core\\generic.py:4546\u001b[0m, in \u001b[0;36mNDFrame._drop_axis\u001b[1;34m(self, labels, axis, level, errors, only_slice)\u001b[0m\n\u001b[0;32m   4544\u001b[0m         new_axis \u001b[38;5;241m=\u001b[39m axis\u001b[38;5;241m.\u001b[39mdrop(labels, level\u001b[38;5;241m=\u001b[39mlevel, errors\u001b[38;5;241m=\u001b[39merrors)\n\u001b[0;32m   4545\u001b[0m     \u001b[38;5;28;01melse\u001b[39;00m:\n\u001b[1;32m-> 4546\u001b[0m         new_axis \u001b[38;5;241m=\u001b[39m \u001b[43maxis\u001b[49m\u001b[38;5;241;43m.\u001b[39;49m\u001b[43mdrop\u001b[49m\u001b[43m(\u001b[49m\u001b[43mlabels\u001b[49m\u001b[43m,\u001b[49m\u001b[43m \u001b[49m\u001b[43merrors\u001b[49m\u001b[38;5;241;43m=\u001b[39;49m\u001b[43merrors\u001b[49m\u001b[43m)\u001b[49m\n\u001b[0;32m   4547\u001b[0m     indexer \u001b[38;5;241m=\u001b[39m axis\u001b[38;5;241m.\u001b[39mget_indexer(new_axis)\n\u001b[0;32m   4549\u001b[0m \u001b[38;5;66;03m# Case for non-unique axis\u001b[39;00m\n\u001b[0;32m   4550\u001b[0m \u001b[38;5;28;01melse\u001b[39;00m:\n",
      "File \u001b[1;32mc:\\users\\javier hidalgo\\appdata\\local\\programs\\python\\python38\\lib\\site-packages\\pandas\\core\\indexes\\base.py:6975\u001b[0m, in \u001b[0;36mIndex.drop\u001b[1;34m(self, labels, errors)\u001b[0m\n\u001b[0;32m   6973\u001b[0m \u001b[38;5;28;01mif\u001b[39;00m mask\u001b[38;5;241m.\u001b[39many():\n\u001b[0;32m   6974\u001b[0m     \u001b[38;5;28;01mif\u001b[39;00m errors \u001b[38;5;241m!=\u001b[39m \u001b[38;5;124m\"\u001b[39m\u001b[38;5;124mignore\u001b[39m\u001b[38;5;124m\"\u001b[39m:\n\u001b[1;32m-> 6975\u001b[0m         \u001b[38;5;28;01mraise\u001b[39;00m \u001b[38;5;167;01mKeyError\u001b[39;00m(\u001b[38;5;124mf\u001b[39m\u001b[38;5;124m\"\u001b[39m\u001b[38;5;132;01m{\u001b[39;00m\u001b[38;5;28mlist\u001b[39m(labels[mask])\u001b[38;5;132;01m}\u001b[39;00m\u001b[38;5;124m not found in axis\u001b[39m\u001b[38;5;124m\"\u001b[39m)\n\u001b[0;32m   6976\u001b[0m     indexer \u001b[38;5;241m=\u001b[39m indexer[\u001b[38;5;241m~\u001b[39mmask]\n\u001b[0;32m   6977\u001b[0m \u001b[38;5;28;01mreturn\u001b[39;00m \u001b[38;5;28mself\u001b[39m\u001b[38;5;241m.\u001b[39mdelete(indexer)\n",
      "\u001b[1;31mKeyError\u001b[0m: \"['currency', 'version', 'location', 'vehicle_type'] not found in axis\""
     ]
    }
   ],
   "source": [
    "df = df. drop([\"currency\", \"version\",\"location\",'vehicle_type'], axis=1)\n"
   ]
  },
  {
   "cell_type": "code",
   "execution_count": 52,
   "id": "5e790657",
   "metadata": {},
   "outputs": [
    {
     "data": {
      "text/html": [
       "<div>\n",
       "<style scoped>\n",
       "    .dataframe tbody tr th:only-of-type {\n",
       "        vertical-align: middle;\n",
       "    }\n",
       "\n",
       "    .dataframe tbody tr th {\n",
       "        vertical-align: top;\n",
       "    }\n",
       "\n",
       "    .dataframe thead th {\n",
       "        text-align: right;\n",
       "    }\n",
       "</style>\n",
       "<table border=\"1\" class=\"dataframe\">\n",
       "  <thead>\n",
       "    <tr style=\"text-align: right;\">\n",
       "      <th></th>\n",
       "      <th>make</th>\n",
       "      <th>model</th>\n",
       "      <th>fuel</th>\n",
       "      <th>year</th>\n",
       "      <th>kms</th>\n",
       "      <th>power</th>\n",
       "      <th>shift</th>\n",
       "      <th>price</th>\n",
       "    </tr>\n",
       "  </thead>\n",
       "  <tbody>\n",
       "    <tr>\n",
       "      <th>0</th>\n",
       "      <td>Opel</td>\n",
       "      <td>Crossland</td>\n",
       "      <td>Gasolina</td>\n",
       "      <td>2022</td>\n",
       "      <td>5.0</td>\n",
       "      <td>110.0</td>\n",
       "      <td>manual</td>\n",
       "      <td>22900</td>\n",
       "    </tr>\n",
       "    <tr>\n",
       "      <th>1</th>\n",
       "      <td>Opel</td>\n",
       "      <td>Crossland</td>\n",
       "      <td>Gasolina</td>\n",
       "      <td>2022</td>\n",
       "      <td>24847.0</td>\n",
       "      <td>110.0</td>\n",
       "      <td>manual</td>\n",
       "      <td>19990</td>\n",
       "    </tr>\n",
       "    <tr>\n",
       "      <th>2</th>\n",
       "      <td>Opel</td>\n",
       "      <td>Crossland</td>\n",
       "      <td>Diésel</td>\n",
       "      <td>2021</td>\n",
       "      <td>41356.0</td>\n",
       "      <td>120.0</td>\n",
       "      <td>automatic</td>\n",
       "      <td>18590</td>\n",
       "    </tr>\n",
       "    <tr>\n",
       "      <th>3</th>\n",
       "      <td>Opel</td>\n",
       "      <td>Crossland</td>\n",
       "      <td>Gasolina</td>\n",
       "      <td>2022</td>\n",
       "      <td>11.0</td>\n",
       "      <td>110.0</td>\n",
       "      <td>manual</td>\n",
       "      <td>22700</td>\n",
       "    </tr>\n",
       "    <tr>\n",
       "      <th>5</th>\n",
       "      <td>Opel</td>\n",
       "      <td>Crossland</td>\n",
       "      <td>Gasolina</td>\n",
       "      <td>2021</td>\n",
       "      <td>51390.0</td>\n",
       "      <td>110.0</td>\n",
       "      <td>manual</td>\n",
       "      <td>18200</td>\n",
       "    </tr>\n",
       "  </tbody>\n",
       "</table>\n",
       "</div>"
      ],
      "text/plain": [
       "   make      model      fuel  year      kms  power      shift  price\n",
       "0  Opel  Crossland  Gasolina  2022      5.0  110.0     manual  22900\n",
       "1  Opel  Crossland  Gasolina  2022  24847.0  110.0     manual  19990\n",
       "2  Opel  Crossland    Diésel  2021  41356.0  120.0  automatic  18590\n",
       "3  Opel  Crossland  Gasolina  2022     11.0  110.0     manual  22700\n",
       "5  Opel  Crossland  Gasolina  2021  51390.0  110.0     manual  18200"
      ]
     },
     "execution_count": 52,
     "metadata": {},
     "output_type": "execute_result"
    }
   ],
   "source": [
    "df.head()"
   ]
  },
  {
   "cell_type": "markdown",
   "id": "1ed27858",
   "metadata": {},
   "source": [
    "# 3. TRANSFORMACION DE DATOS"
   ]
  },
  {
   "cell_type": "markdown",
   "id": "d2724f6f",
   "metadata": {},
   "source": [
    "## 3.1 Codificación de variables categoricas."
   ]
  },
  {
   "cell_type": "code",
   "execution_count": 53,
   "id": "85fe4e03",
   "metadata": {},
   "outputs": [
    {
     "name": "stdout",
     "output_type": "stream",
     "text": [
      "make      object\n",
      "model     object\n",
      "fuel      object\n",
      "year       int64\n",
      "kms      float64\n",
      "power    float64\n",
      "shift     object\n",
      "price      int64\n",
      "dtype: object\n"
     ]
    }
   ],
   "source": [
    "# Obtener el tipo de cada columna en el DataFrame\n",
    "tipos_columnas = df.dtypes\n",
    "\n",
    "# Imprimir el tipo de cada columna\n",
    "print(tipos_columnas)"
   ]
  },
  {
   "cell_type": "markdown",
   "id": "60c1c515",
   "metadata": {},
   "source": [
    "### En este caso tenemos 4 variables categoricas:\n",
    "* make      object\n",
    "* model     object\n",
    "* fuel      object\n",
    "* shift     object"
   ]
  },
  {
   "cell_type": "markdown",
   "id": "7790557a",
   "metadata": {},
   "source": [
    "### - Transformamos la columna \"fuel\" "
   ]
  },
  {
   "cell_type": "code",
   "execution_count": 54,
   "id": "dd719087",
   "metadata": {},
   "outputs": [],
   "source": [
    "mapeo = {'Diésel': 1, 'Gasolina': 0, 'Eléctrico': 2} \n",
    "df['fuel_codificada'] =  df['fuel'].map(mapeo)"
   ]
  },
  {
   "cell_type": "markdown",
   "id": "16b9be55",
   "metadata": {},
   "source": [
    "### - Transformamos la columna \"shift\" "
   ]
  },
  {
   "cell_type": "code",
   "execution_count": 55,
   "id": "f7cdfd6b",
   "metadata": {},
   "outputs": [
    {
     "data": {
      "text/plain": [
       "manual       9711\n",
       "automatic    4038\n",
       "Name: shift, dtype: int64"
      ]
     },
     "execution_count": 55,
     "metadata": {},
     "output_type": "execute_result"
    }
   ],
   "source": [
    "df[\"shift\"].value_counts()"
   ]
  },
  {
   "cell_type": "code",
   "execution_count": 56,
   "id": "8dfc02b0",
   "metadata": {},
   "outputs": [],
   "source": [
    "mapeo_shift = {'manual': 0, 'automatic': 1 }\n",
    "df[\"shift_codificada\"]=df[\"shift\"].map(mapeo_shift)"
   ]
  },
  {
   "cell_type": "markdown",
   "id": "3d8ca44b",
   "metadata": {},
   "source": [
    "### - Transformamos las columnas \"make\"y \"model\""
   ]
  },
  {
   "cell_type": "markdown",
   "id": "d03850bb",
   "metadata": {},
   "source": [
    "### La clave de este proyecto,es unir marca y modelo en una sola columna"
   ]
  },
  {
   "cell_type": "markdown",
   "id": "d3eff636",
   "metadata": {},
   "source": [
    "La marca y el modelo son dos atributos clave que influyen significativamente en el precio de un vehículo. Combinarlos en un solo campo puede ayudar a capturar mejor esta información relevante y potencialmente mejorar el rendimiento del modelo de machine learning.\n",
    "\n",
    "Al tener una gran cantidad de marcas y modelos únicos en mi conjunto de datos, al unir las columnas puedo reducir la dimensionalidad y simplificar el procesamiento de los datos.\n",
    "\n",
    "#### Además,cada marca tiene sólo unos determinados modelos, al unirlos, estamos asignando a cada marca los modelos existentes de esa marca.Si no los unimos, nuestro modelo de machine learning trabajaría con combinaciones de marca y modelos que no existen y falsearía la predicción.\n",
    "\n"
   ]
  },
  {
   "cell_type": "code",
   "execution_count": 57,
   "id": "c2149223",
   "metadata": {},
   "outputs": [],
   "source": [
    "df['marca_modelo'] = df['make'] + ' ' + df['model']\n",
    "df = df.drop([\"make\",\"model\"],axis=1)"
   ]
  },
  {
   "cell_type": "code",
   "execution_count": 58,
   "id": "85368498",
   "metadata": {},
   "outputs": [
    {
     "data": {
      "text/plain": [
       "763"
      ]
     },
     "execution_count": 58,
     "metadata": {},
     "output_type": "execute_result"
    }
   ],
   "source": [
    "df[\"marca_modelo\"].nunique()"
   ]
  },
  {
   "cell_type": "markdown",
   "id": "da687c99",
   "metadata": {},
   "source": [
    "#### Una vez que tenemos la columna Marca y modelo, la vamos a categorizar numericamente en función del precio. Se asignará el valor 1 a la marca y modelo más barata y el 763 a la más cara"
   ]
  },
  {
   "cell_type": "markdown",
   "id": "5027e987",
   "metadata": {},
   "source": [
    "#### Calculamos el precio promedio para cada modelo de vehículo y lo ordenamos de menor a mayor:\n"
   ]
  },
  {
   "cell_type": "code",
   "execution_count": 59,
   "id": "86e6e24c",
   "metadata": {},
   "outputs": [
    {
     "data": {
      "text/html": [
       "<div>\n",
       "<style scoped>\n",
       "    .dataframe tbody tr th:only-of-type {\n",
       "        vertical-align: middle;\n",
       "    }\n",
       "\n",
       "    .dataframe tbody tr th {\n",
       "        vertical-align: top;\n",
       "    }\n",
       "\n",
       "    .dataframe thead th {\n",
       "        text-align: right;\n",
       "    }\n",
       "</style>\n",
       "<table border=\"1\" class=\"dataframe\">\n",
       "  <thead>\n",
       "    <tr style=\"text-align: right;\">\n",
       "      <th></th>\n",
       "      <th>marca_modelo</th>\n",
       "      <th>price</th>\n",
       "    </tr>\n",
       "  </thead>\n",
       "  <tbody>\n",
       "    <tr>\n",
       "      <th>562</th>\n",
       "      <td>Opel Vectra</td>\n",
       "      <td>450.5</td>\n",
       "    </tr>\n",
       "    <tr>\n",
       "      <th>647</th>\n",
       "      <td>Skoda Enyaq iV</td>\n",
       "      <td>625.0</td>\n",
       "    </tr>\n",
       "    <tr>\n",
       "      <th>187</th>\n",
       "      <td>Daewoo Lanos</td>\n",
       "      <td>800.0</td>\n",
       "    </tr>\n",
       "    <tr>\n",
       "      <th>164</th>\n",
       "      <td>Citroen Saxo</td>\n",
       "      <td>825.0</td>\n",
       "    </tr>\n",
       "  </tbody>\n",
       "</table>\n",
       "</div>"
      ],
      "text/plain": [
       "       marca_modelo  price\n",
       "562     Opel Vectra  450.5\n",
       "647  Skoda Enyaq iV  625.0\n",
       "187    Daewoo Lanos  800.0\n",
       "164    Citroen Saxo  825.0"
      ]
     },
     "execution_count": 59,
     "metadata": {},
     "output_type": "execute_result"
    }
   ],
   "source": [
    "# Calculamos el precio promedio para cada marca y modelo de vehículo\n",
    "df_precio_medio_marca_modelo = df.groupby('marca_modelo')['price'].mean().reset_index()\n",
    "#reset_index() se utiliza para restablecer el índice del DataFrame resultante \n",
    "\n",
    "# Ordenamos el DataFrame por el precio promedio en orden ascendente\n",
    "df_precio_medio_marca_modelo_sorted = df_precio_medio_marca_modelo.sort_values('price', ascending=True)\n",
    "df_precio_medio_marca_modelo_sorted.head(4)\n"
   ]
  },
  {
   "cell_type": "code",
   "execution_count": 60,
   "id": "b4224767",
   "metadata": {},
   "outputs": [
    {
     "data": {
      "text/html": [
       "<div>\n",
       "<style scoped>\n",
       "    .dataframe tbody tr th:only-of-type {\n",
       "        vertical-align: middle;\n",
       "    }\n",
       "\n",
       "    .dataframe tbody tr th {\n",
       "        vertical-align: top;\n",
       "    }\n",
       "\n",
       "    .dataframe thead th {\n",
       "        text-align: right;\n",
       "    }\n",
       "</style>\n",
       "<table border=\"1\" class=\"dataframe\">\n",
       "  <thead>\n",
       "    <tr style=\"text-align: right;\">\n",
       "      <th></th>\n",
       "      <th>marca_modelo</th>\n",
       "      <th>price</th>\n",
       "    </tr>\n",
       "  </thead>\n",
       "  <tbody>\n",
       "    <tr>\n",
       "      <th>480</th>\n",
       "      <td>Mercedes-Benz SLR</td>\n",
       "      <td>299999.0</td>\n",
       "    </tr>\n",
       "    <tr>\n",
       "      <th>24</th>\n",
       "      <td>Aston Martin DBX</td>\n",
       "      <td>310000.0</td>\n",
       "    </tr>\n",
       "    <tr>\n",
       "      <th>377</th>\n",
       "      <td>Lamborghini Aventador</td>\n",
       "      <td>342000.0</td>\n",
       "    </tr>\n",
       "    <tr>\n",
       "      <th>205</th>\n",
       "      <td>Ferrari F8</td>\n",
       "      <td>398000.0</td>\n",
       "    </tr>\n",
       "  </tbody>\n",
       "</table>\n",
       "</div>"
      ],
      "text/plain": [
       "              marca_modelo     price\n",
       "480      Mercedes-Benz SLR  299999.0\n",
       "24        Aston Martin DBX  310000.0\n",
       "377  Lamborghini Aventador  342000.0\n",
       "205             Ferrari F8  398000.0"
      ]
     },
     "execution_count": 60,
     "metadata": {},
     "output_type": "execute_result"
    }
   ],
   "source": [
    "df_precio_medio_marca_modelo_sorted.tail(4)\n"
   ]
  },
  {
   "cell_type": "code",
   "execution_count": 61,
   "id": "4f09af24",
   "metadata": {},
   "outputs": [
    {
     "name": "stdout",
     "output_type": "stream",
     "text": [
      "              marca_modelo     price  marca_modelo_codificada\n",
      "562            Opel Vectra     450.5                        1\n",
      "647         Skoda Enyaq iV     625.0                        2\n",
      "187           Daewoo Lanos     800.0                        3\n",
      "164           Citroen Saxo     825.0                        4\n",
      "5           Alfa Romeo 145     990.0                        5\n",
      "..                     ...       ...                      ...\n",
      "381       Lamborghini Urus  278062.5                      759\n",
      "480      Mercedes-Benz SLR  299999.0                      760\n",
      "24        Aston Martin DBX  310000.0                      761\n",
      "377  Lamborghini Aventador  342000.0                      762\n",
      "205             Ferrari F8  398000.0                      763\n",
      "\n",
      "[763 rows x 3 columns]\n"
     ]
    }
   ],
   "source": [
    "# Crear un diccionario que asigne valores numéricos basados en el orden de precios\n",
    "precio_numerico_dict = {marca_modelo: i for i, marca_modelo in \n",
    "                        enumerate(df_precio_medio_marca_modelo_sorted['marca_modelo'], start=1)}\n",
    "\n",
    "# Crear una nueva columna \"marca_modelo_codificada\" en el DataFrame y \n",
    "#asignar los valores numéricos utilizando el diccionario\n",
    "\n",
    "df_precio_medio_marca_modelo_sorted['marca_modelo_codificada'] = df_precio_medio_marca_modelo_sorted \\\n",
    "                                                                 ['marca_modelo'].map(precio_numerico_dict)\n",
    "\n",
    "\n",
    "# Imprimir el DataFrame resultante\n",
    "print(df_precio_medio_marca_modelo_sorted)"
   ]
  },
  {
   "cell_type": "markdown",
   "id": "04c5170c",
   "metadata": {},
   "source": [
    "#### * Guardo este diccionario porque me servirá para luego hacer la decodificación "
   ]
  },
  {
   "cell_type": "code",
   "execution_count": 62,
   "id": "a60ee339",
   "metadata": {},
   "outputs": [],
   "source": [
    "# Guardar el diccionario en un archivo\n",
    "with open('precio_numerico_dict2.pkl', 'wb') as f:\n",
    "    pickle.dump(precio_numerico_dict, f)"
   ]
  },
  {
   "cell_type": "markdown",
   "id": "c689356c",
   "metadata": {},
   "source": [
    "#### Unimos ambos dataframes por la columna marca_modelo"
   ]
  },
  {
   "cell_type": "code",
   "execution_count": 63,
   "id": "b9f7f8a7",
   "metadata": {},
   "outputs": [
    {
     "data": {
      "text/html": [
       "<div>\n",
       "<style scoped>\n",
       "    .dataframe tbody tr th:only-of-type {\n",
       "        vertical-align: middle;\n",
       "    }\n",
       "\n",
       "    .dataframe tbody tr th {\n",
       "        vertical-align: top;\n",
       "    }\n",
       "\n",
       "    .dataframe thead th {\n",
       "        text-align: right;\n",
       "    }\n",
       "</style>\n",
       "<table border=\"1\" class=\"dataframe\">\n",
       "  <thead>\n",
       "    <tr style=\"text-align: right;\">\n",
       "      <th></th>\n",
       "      <th>fuel</th>\n",
       "      <th>year</th>\n",
       "      <th>kms</th>\n",
       "      <th>power</th>\n",
       "      <th>shift</th>\n",
       "      <th>price</th>\n",
       "      <th>fuel_codificada</th>\n",
       "      <th>shift_codificada</th>\n",
       "      <th>marca_modelo</th>\n",
       "      <th>marca_modelo_codificada</th>\n",
       "    </tr>\n",
       "  </thead>\n",
       "  <tbody>\n",
       "    <tr>\n",
       "      <th>3415</th>\n",
       "      <td>Gasolina</td>\n",
       "      <td>2020</td>\n",
       "      <td>55000.0</td>\n",
       "      <td>69.0</td>\n",
       "      <td>manual</td>\n",
       "      <td>308</td>\n",
       "      <td>0</td>\n",
       "      <td>0</td>\n",
       "      <td>Fiat 500</td>\n",
       "      <td>203</td>\n",
       "    </tr>\n",
       "    <tr>\n",
       "      <th>9843</th>\n",
       "      <td>Gasolina</td>\n",
       "      <td>2018</td>\n",
       "      <td>65835.0</td>\n",
       "      <td>125.0</td>\n",
       "      <td>manual</td>\n",
       "      <td>16990</td>\n",
       "      <td>0</td>\n",
       "      <td>0</td>\n",
       "      <td>Ford Focus</td>\n",
       "      <td>266</td>\n",
       "    </tr>\n",
       "    <tr>\n",
       "      <th>709</th>\n",
       "      <td>Gasolina</td>\n",
       "      <td>2009</td>\n",
       "      <td>105000.0</td>\n",
       "      <td>150.0</td>\n",
       "      <td>automatic</td>\n",
       "      <td>39999</td>\n",
       "      <td>0</td>\n",
       "      <td>1</td>\n",
       "      <td>Maserati GranTurismo</td>\n",
       "      <td>662</td>\n",
       "    </tr>\n",
       "    <tr>\n",
       "      <th>1389</th>\n",
       "      <td>Gasolina</td>\n",
       "      <td>2021</td>\n",
       "      <td>29476.0</td>\n",
       "      <td>125.0</td>\n",
       "      <td>manual</td>\n",
       "      <td>23575</td>\n",
       "      <td>0</td>\n",
       "      <td>0</td>\n",
       "      <td>Ford Puma</td>\n",
       "      <td>498</td>\n",
       "    </tr>\n",
       "    <tr>\n",
       "      <th>7709</th>\n",
       "      <td>Diésel</td>\n",
       "      <td>2007</td>\n",
       "      <td>270500.0</td>\n",
       "      <td>150.0</td>\n",
       "      <td>automatic</td>\n",
       "      <td>4299</td>\n",
       "      <td>1</td>\n",
       "      <td>1</td>\n",
       "      <td>Chrysler Voyager</td>\n",
       "      <td>82</td>\n",
       "    </tr>\n",
       "    <tr>\n",
       "      <th>11362</th>\n",
       "      <td>Diésel</td>\n",
       "      <td>2015</td>\n",
       "      <td>140000.0</td>\n",
       "      <td>150.0</td>\n",
       "      <td>manual</td>\n",
       "      <td>9900</td>\n",
       "      <td>1</td>\n",
       "      <td>0</td>\n",
       "      <td>Citroen C5</td>\n",
       "      <td>160</td>\n",
       "    </tr>\n",
       "    <tr>\n",
       "      <th>1334</th>\n",
       "      <td>Diésel</td>\n",
       "      <td>2017</td>\n",
       "      <td>98077.0</td>\n",
       "      <td>80.0</td>\n",
       "      <td>manual</td>\n",
       "      <td>8490</td>\n",
       "      <td>1</td>\n",
       "      <td>0</td>\n",
       "      <td>Fiat Fiorino</td>\n",
       "      <td>168</td>\n",
       "    </tr>\n",
       "    <tr>\n",
       "      <th>12921</th>\n",
       "      <td>Diésel</td>\n",
       "      <td>2019</td>\n",
       "      <td>43500.0</td>\n",
       "      <td>102.0</td>\n",
       "      <td>manual</td>\n",
       "      <td>24500</td>\n",
       "      <td>1</td>\n",
       "      <td>0</td>\n",
       "      <td>Citroen Berlingo</td>\n",
       "      <td>378</td>\n",
       "    </tr>\n",
       "    <tr>\n",
       "      <th>9300</th>\n",
       "      <td>Diésel</td>\n",
       "      <td>2017</td>\n",
       "      <td>46325.0</td>\n",
       "      <td>75.0</td>\n",
       "      <td>manual</td>\n",
       "      <td>13500</td>\n",
       "      <td>1</td>\n",
       "      <td>0</td>\n",
       "      <td>Peugeot Partner</td>\n",
       "      <td>270</td>\n",
       "    </tr>\n",
       "  </tbody>\n",
       "</table>\n",
       "</div>"
      ],
      "text/plain": [
       "           fuel  year       kms  power      shift  price  fuel_codificada  \\\n",
       "3415   Gasolina  2020   55000.0   69.0     manual    308                0   \n",
       "9843   Gasolina  2018   65835.0  125.0     manual  16990                0   \n",
       "709    Gasolina  2009  105000.0  150.0  automatic  39999                0   \n",
       "1389   Gasolina  2021   29476.0  125.0     manual  23575                0   \n",
       "7709     Diésel  2007  270500.0  150.0  automatic   4299                1   \n",
       "11362    Diésel  2015  140000.0  150.0     manual   9900                1   \n",
       "1334     Diésel  2017   98077.0   80.0     manual   8490                1   \n",
       "12921    Diésel  2019   43500.0  102.0     manual  24500                1   \n",
       "9300     Diésel  2017   46325.0   75.0     manual  13500                1   \n",
       "\n",
       "       shift_codificada          marca_modelo  marca_modelo_codificada  \n",
       "3415                  0              Fiat 500                      203  \n",
       "9843                  0            Ford Focus                      266  \n",
       "709                   1  Maserati GranTurismo                      662  \n",
       "1389                  0             Ford Puma                      498  \n",
       "7709                  1      Chrysler Voyager                       82  \n",
       "11362                 0            Citroen C5                      160  \n",
       "1334                  0          Fiat Fiorino                      168  \n",
       "12921                 0      Citroen Berlingo                      378  \n",
       "9300                  0       Peugeot Partner                      270  "
      ]
     },
     "execution_count": 63,
     "metadata": {},
     "output_type": "execute_result"
    }
   ],
   "source": [
    "df = df.merge(df_precio_medio_marca_modelo_sorted[['marca_modelo', 'marca_modelo_codificada']]\\\n",
    "              , on='marca_modelo', how='left') \n",
    "df.sample(9)"
   ]
  },
  {
   "cell_type": "markdown",
   "id": "fc54a5d0",
   "metadata": {},
   "source": [
    "#### Finalmente he codificado la columna marca modelo en función del precio promedio "
   ]
  },
  {
   "cell_type": "code",
   "execution_count": 64,
   "id": "909aea04",
   "metadata": {},
   "outputs": [
    {
     "data": {
      "text/plain": [
       "price                      1.000000\n",
       "marca_modelo_codificada    0.623769\n",
       "shift_codificada           0.438908\n",
       "year                       0.238717\n",
       "power                      0.016164\n",
       "fuel_codificada           -0.029244\n",
       "kms                       -0.292687\n",
       "Name: price, dtype: float64"
      ]
     },
     "execution_count": 64,
     "metadata": {},
     "output_type": "execute_result"
    }
   ],
   "source": [
    "corr_matrix = df.corr()\n",
    "corr_matrix[\"price\"].sort_values(ascending=False)"
   ]
  },
  {
   "cell_type": "code",
   "execution_count": 65,
   "id": "fdfa94f8",
   "metadata": {},
   "outputs": [
    {
     "data": {
      "text/html": [
       "<div>\n",
       "<style scoped>\n",
       "    .dataframe tbody tr th:only-of-type {\n",
       "        vertical-align: middle;\n",
       "    }\n",
       "\n",
       "    .dataframe tbody tr th {\n",
       "        vertical-align: top;\n",
       "    }\n",
       "\n",
       "    .dataframe thead th {\n",
       "        text-align: right;\n",
       "    }\n",
       "</style>\n",
       "<table border=\"1\" class=\"dataframe\">\n",
       "  <thead>\n",
       "    <tr style=\"text-align: right;\">\n",
       "      <th></th>\n",
       "      <th>fuel</th>\n",
       "      <th>year</th>\n",
       "      <th>kms</th>\n",
       "      <th>power</th>\n",
       "      <th>shift</th>\n",
       "      <th>price</th>\n",
       "      <th>fuel_codificada</th>\n",
       "      <th>shift_codificada</th>\n",
       "      <th>marca_modelo</th>\n",
       "      <th>marca_modelo_codificada</th>\n",
       "    </tr>\n",
       "  </thead>\n",
       "  <tbody>\n",
       "    <tr>\n",
       "      <th>0</th>\n",
       "      <td>Gasolina</td>\n",
       "      <td>2022</td>\n",
       "      <td>5.000000</td>\n",
       "      <td>110.0</td>\n",
       "      <td>manual</td>\n",
       "      <td>22900</td>\n",
       "      <td>0</td>\n",
       "      <td>0</td>\n",
       "      <td>Opel Crossland</td>\n",
       "      <td>427</td>\n",
       "    </tr>\n",
       "    <tr>\n",
       "      <th>1</th>\n",
       "      <td>Gasolina</td>\n",
       "      <td>2022</td>\n",
       "      <td>24847.000000</td>\n",
       "      <td>110.0</td>\n",
       "      <td>manual</td>\n",
       "      <td>19990</td>\n",
       "      <td>0</td>\n",
       "      <td>0</td>\n",
       "      <td>Opel Crossland</td>\n",
       "      <td>427</td>\n",
       "    </tr>\n",
       "    <tr>\n",
       "      <th>2</th>\n",
       "      <td>Diésel</td>\n",
       "      <td>2021</td>\n",
       "      <td>41356.000000</td>\n",
       "      <td>120.0</td>\n",
       "      <td>automatic</td>\n",
       "      <td>18590</td>\n",
       "      <td>1</td>\n",
       "      <td>1</td>\n",
       "      <td>Opel Crossland</td>\n",
       "      <td>427</td>\n",
       "    </tr>\n",
       "    <tr>\n",
       "      <th>3</th>\n",
       "      <td>Gasolina</td>\n",
       "      <td>2022</td>\n",
       "      <td>11.000000</td>\n",
       "      <td>110.0</td>\n",
       "      <td>manual</td>\n",
       "      <td>22700</td>\n",
       "      <td>0</td>\n",
       "      <td>0</td>\n",
       "      <td>Opel Crossland</td>\n",
       "      <td>427</td>\n",
       "    </tr>\n",
       "    <tr>\n",
       "      <th>4</th>\n",
       "      <td>Gasolina</td>\n",
       "      <td>2021</td>\n",
       "      <td>51390.000000</td>\n",
       "      <td>110.0</td>\n",
       "      <td>manual</td>\n",
       "      <td>18200</td>\n",
       "      <td>0</td>\n",
       "      <td>0</td>\n",
       "      <td>Opel Crossland</td>\n",
       "      <td>427</td>\n",
       "    </tr>\n",
       "    <tr>\n",
       "      <th>5</th>\n",
       "      <td>Gasolina</td>\n",
       "      <td>2021</td>\n",
       "      <td>30536.000000</td>\n",
       "      <td>110.0</td>\n",
       "      <td>manual</td>\n",
       "      <td>17100</td>\n",
       "      <td>0</td>\n",
       "      <td>0</td>\n",
       "      <td>Opel Crossland</td>\n",
       "      <td>427</td>\n",
       "    </tr>\n",
       "    <tr>\n",
       "      <th>6</th>\n",
       "      <td>Gasolina</td>\n",
       "      <td>2022</td>\n",
       "      <td>8431.816296</td>\n",
       "      <td>131.0</td>\n",
       "      <td>manual</td>\n",
       "      <td>24870</td>\n",
       "      <td>0</td>\n",
       "      <td>0</td>\n",
       "      <td>Opel Crossland</td>\n",
       "      <td>427</td>\n",
       "    </tr>\n",
       "    <tr>\n",
       "      <th>7</th>\n",
       "      <td>Gasolina</td>\n",
       "      <td>2022</td>\n",
       "      <td>8431.816296</td>\n",
       "      <td>110.0</td>\n",
       "      <td>manual</td>\n",
       "      <td>21225</td>\n",
       "      <td>0</td>\n",
       "      <td>0</td>\n",
       "      <td>Opel Crossland</td>\n",
       "      <td>427</td>\n",
       "    </tr>\n",
       "    <tr>\n",
       "      <th>8</th>\n",
       "      <td>Gasolina</td>\n",
       "      <td>2022</td>\n",
       "      <td>10.000000</td>\n",
       "      <td>130.0</td>\n",
       "      <td>manual</td>\n",
       "      <td>23800</td>\n",
       "      <td>0</td>\n",
       "      <td>0</td>\n",
       "      <td>Opel Crossland</td>\n",
       "      <td>427</td>\n",
       "    </tr>\n",
       "  </tbody>\n",
       "</table>\n",
       "</div>"
      ],
      "text/plain": [
       "       fuel  year           kms  power      shift  price  fuel_codificada  \\\n",
       "0  Gasolina  2022      5.000000  110.0     manual  22900                0   \n",
       "1  Gasolina  2022  24847.000000  110.0     manual  19990                0   \n",
       "2    Diésel  2021  41356.000000  120.0  automatic  18590                1   \n",
       "3  Gasolina  2022     11.000000  110.0     manual  22700                0   \n",
       "4  Gasolina  2021  51390.000000  110.0     manual  18200                0   \n",
       "5  Gasolina  2021  30536.000000  110.0     manual  17100                0   \n",
       "6  Gasolina  2022   8431.816296  131.0     manual  24870                0   \n",
       "7  Gasolina  2022   8431.816296  110.0     manual  21225                0   \n",
       "8  Gasolina  2022     10.000000  130.0     manual  23800                0   \n",
       "\n",
       "   shift_codificada    marca_modelo  marca_modelo_codificada  \n",
       "0                 0  Opel Crossland                      427  \n",
       "1                 0  Opel Crossland                      427  \n",
       "2                 1  Opel Crossland                      427  \n",
       "3                 0  Opel Crossland                      427  \n",
       "4                 0  Opel Crossland                      427  \n",
       "5                 0  Opel Crossland                      427  \n",
       "6                 0  Opel Crossland                      427  \n",
       "7                 0  Opel Crossland                      427  \n",
       "8                 0  Opel Crossland                      427  "
      ]
     },
     "execution_count": 65,
     "metadata": {},
     "output_type": "execute_result"
    }
   ],
   "source": [
    "df.head(9)"
   ]
  },
  {
   "cell_type": "markdown",
   "id": "60a5d484",
   "metadata": {},
   "source": [
    "## 3.2 Feature Engineering (creación de la columna antigüedad)"
   ]
  },
  {
   "cell_type": "markdown",
   "id": "db02681b",
   "metadata": {},
   "source": [
    "para obtener una representación más adecuada de los datos,en lugar de utilizar el año directamente, convertirlo a años de antigüedad permitirá que el modelo de machine learning capture mejor la relación entre la antigüedad y el precio del vehículo"
   ]
  },
  {
   "cell_type": "code",
   "execution_count": 66,
   "id": "4a274b58",
   "metadata": {},
   "outputs": [
    {
     "data": {
      "text/html": [
       "<div>\n",
       "<style scoped>\n",
       "    .dataframe tbody tr th:only-of-type {\n",
       "        vertical-align: middle;\n",
       "    }\n",
       "\n",
       "    .dataframe tbody tr th {\n",
       "        vertical-align: top;\n",
       "    }\n",
       "\n",
       "    .dataframe thead th {\n",
       "        text-align: right;\n",
       "    }\n",
       "</style>\n",
       "<table border=\"1\" class=\"dataframe\">\n",
       "  <thead>\n",
       "    <tr style=\"text-align: right;\">\n",
       "      <th></th>\n",
       "      <th>fuel</th>\n",
       "      <th>year</th>\n",
       "      <th>kms</th>\n",
       "      <th>power</th>\n",
       "      <th>shift</th>\n",
       "      <th>price</th>\n",
       "      <th>fuel_codificada</th>\n",
       "      <th>shift_codificada</th>\n",
       "      <th>marca_modelo</th>\n",
       "      <th>marca_modelo_codificada</th>\n",
       "      <th>years_old</th>\n",
       "    </tr>\n",
       "  </thead>\n",
       "  <tbody>\n",
       "    <tr>\n",
       "      <th>0</th>\n",
       "      <td>Gasolina</td>\n",
       "      <td>2022</td>\n",
       "      <td>5.0</td>\n",
       "      <td>110.0</td>\n",
       "      <td>manual</td>\n",
       "      <td>22900</td>\n",
       "      <td>0</td>\n",
       "      <td>0</td>\n",
       "      <td>Opel Crossland</td>\n",
       "      <td>427</td>\n",
       "      <td>1</td>\n",
       "    </tr>\n",
       "    <tr>\n",
       "      <th>1</th>\n",
       "      <td>Gasolina</td>\n",
       "      <td>2022</td>\n",
       "      <td>24847.0</td>\n",
       "      <td>110.0</td>\n",
       "      <td>manual</td>\n",
       "      <td>19990</td>\n",
       "      <td>0</td>\n",
       "      <td>0</td>\n",
       "      <td>Opel Crossland</td>\n",
       "      <td>427</td>\n",
       "      <td>1</td>\n",
       "    </tr>\n",
       "    <tr>\n",
       "      <th>2</th>\n",
       "      <td>Diésel</td>\n",
       "      <td>2021</td>\n",
       "      <td>41356.0</td>\n",
       "      <td>120.0</td>\n",
       "      <td>automatic</td>\n",
       "      <td>18590</td>\n",
       "      <td>1</td>\n",
       "      <td>1</td>\n",
       "      <td>Opel Crossland</td>\n",
       "      <td>427</td>\n",
       "      <td>2</td>\n",
       "    </tr>\n",
       "  </tbody>\n",
       "</table>\n",
       "</div>"
      ],
      "text/plain": [
       "       fuel  year      kms  power      shift  price  fuel_codificada  \\\n",
       "0  Gasolina  2022      5.0  110.0     manual  22900                0   \n",
       "1  Gasolina  2022  24847.0  110.0     manual  19990                0   \n",
       "2    Diésel  2021  41356.0  120.0  automatic  18590                1   \n",
       "\n",
       "   shift_codificada    marca_modelo  marca_modelo_codificada  years_old  \n",
       "0                 0  Opel Crossland                      427          1  \n",
       "1                 0  Opel Crossland                      427          1  \n",
       "2                 1  Opel Crossland                      427          2  "
      ]
     },
     "execution_count": 66,
     "metadata": {},
     "output_type": "execute_result"
    }
   ],
   "source": [
    "\n",
    "current_year = datetime.datetime.now().year\n",
    "df[\"years_old\"]= current_year -df[\"year\"]\n",
    "df.head(3)"
   ]
  },
  {
   "cell_type": "markdown",
   "id": "e5982800",
   "metadata": {},
   "source": [
    "#### Obtenemos nuestro dataframe sobre el que vamos a realizar los modelos de ML"
   ]
  },
  {
   "cell_type": "code",
   "execution_count": 67,
   "id": "b9801eea",
   "metadata": {},
   "outputs": [
    {
     "name": "stdout",
     "output_type": "stream",
     "text": [
      "int32\n"
     ]
    },
    {
     "data": {
      "text/html": [
       "<div>\n",
       "<style scoped>\n",
       "    .dataframe tbody tr th:only-of-type {\n",
       "        vertical-align: middle;\n",
       "    }\n",
       "\n",
       "    .dataframe tbody tr th {\n",
       "        vertical-align: top;\n",
       "    }\n",
       "\n",
       "    .dataframe thead th {\n",
       "        text-align: right;\n",
       "    }\n",
       "</style>\n",
       "<table border=\"1\" class=\"dataframe\">\n",
       "  <thead>\n",
       "    <tr style=\"text-align: right;\">\n",
       "      <th></th>\n",
       "      <th>price</th>\n",
       "      <th>marca_modelo_codificada</th>\n",
       "      <th>kms</th>\n",
       "      <th>shift_codificada</th>\n",
       "      <th>power</th>\n",
       "      <th>fuel_codificada</th>\n",
       "      <th>years_old</th>\n",
       "    </tr>\n",
       "  </thead>\n",
       "  <tbody>\n",
       "    <tr>\n",
       "      <th>0</th>\n",
       "      <td>22900</td>\n",
       "      <td>427</td>\n",
       "      <td>5.0</td>\n",
       "      <td>0</td>\n",
       "      <td>110.0</td>\n",
       "      <td>0</td>\n",
       "      <td>1</td>\n",
       "    </tr>\n",
       "    <tr>\n",
       "      <th>1</th>\n",
       "      <td>19990</td>\n",
       "      <td>427</td>\n",
       "      <td>24847.0</td>\n",
       "      <td>0</td>\n",
       "      <td>110.0</td>\n",
       "      <td>0</td>\n",
       "      <td>1</td>\n",
       "    </tr>\n",
       "    <tr>\n",
       "      <th>2</th>\n",
       "      <td>18590</td>\n",
       "      <td>427</td>\n",
       "      <td>41356.0</td>\n",
       "      <td>1</td>\n",
       "      <td>120.0</td>\n",
       "      <td>1</td>\n",
       "      <td>2</td>\n",
       "    </tr>\n",
       "    <tr>\n",
       "      <th>3</th>\n",
       "      <td>22700</td>\n",
       "      <td>427</td>\n",
       "      <td>11.0</td>\n",
       "      <td>0</td>\n",
       "      <td>110.0</td>\n",
       "      <td>0</td>\n",
       "      <td>1</td>\n",
       "    </tr>\n",
       "    <tr>\n",
       "      <th>4</th>\n",
       "      <td>18200</td>\n",
       "      <td>427</td>\n",
       "      <td>51390.0</td>\n",
       "      <td>0</td>\n",
       "      <td>110.0</td>\n",
       "      <td>0</td>\n",
       "      <td>2</td>\n",
       "    </tr>\n",
       "  </tbody>\n",
       "</table>\n",
       "</div>"
      ],
      "text/plain": [
       "   price  marca_modelo_codificada      kms  shift_codificada  power  \\\n",
       "0  22900                      427      5.0                 0  110.0   \n",
       "1  19990                      427  24847.0                 0  110.0   \n",
       "2  18590                      427  41356.0                 1  120.0   \n",
       "3  22700                      427     11.0                 0  110.0   \n",
       "4  18200                      427  51390.0                 0  110.0   \n",
       "\n",
       "   fuel_codificada  years_old  \n",
       "0                0          1  \n",
       "1                0          1  \n",
       "2                1          2  \n",
       "3                0          1  \n",
       "4                0          2  "
      ]
     },
     "execution_count": 67,
     "metadata": {},
     "output_type": "execute_result"
    }
   ],
   "source": [
    "nuevo_df = df[[\"price\", \"marca_modelo_codificada\",\"kms\", \"shift_codificada\", \"power\", \"fuel_codificada\", \"years_old\"]].copy()\n",
    "df[\"power\"]=df[\"power\"].astype(int)\n",
    "print(df[\"power\"].dtype)\n",
    "nuevo_df.head()"
   ]
  },
  {
   "cell_type": "code",
   "execution_count": null,
   "id": "702d4d62",
   "metadata": {},
   "outputs": [],
   "source": [
    "#nuevo_df.to_csv('nuevo_df2.csv', index=False) # lo guardamos en un archivo csv\n"
   ]
  },
  {
   "cell_type": "markdown",
   "id": "8d4bdaa0",
   "metadata": {},
   "source": [
    "## 3.3 Identificación valores atípicos"
   ]
  },
  {
   "cell_type": "markdown",
   "id": "df592cf6",
   "metadata": {},
   "source": [
    "Antes de empezar a trabajar con los cmodelos de prediccion voy a mostrar unos graficos de dispersión para detectar si hay algún valor atípico que pudiera falsear los datos de mi prediccion. "
   ]
  },
  {
   "cell_type": "code",
   "execution_count": 68,
   "id": "bca347dc",
   "metadata": {},
   "outputs": [
    {
     "data": {
      "image/png": "[encoded data removed]",
      "text/plain": [
       "<Figure size 640x480 with 1 Axes>"
      ]
     },
     "metadata": {},
     "output_type": "display_data"
    },
    {
     "data": {
      "image/png": "[encoded data removed]",
      "text/plain": [
       "<Figure size 640x480 with 1 Axes>"
      ]
     },
     "metadata": {},
     "output_type": "display_data"
    },
    {
     "data": {
      "image/png": "[encoded data removed]",
      "text/plain": [
       "<Figure size 640x480 with 1 Axes>"
      ]
     },
     "metadata": {},
     "output_type": "display_data"
    },
    {
     "data": {
      "image/png": "[encoded data removed]",
      "text/plain": [
       "<Figure size 640x480 with 1 Axes>"
      ]
     },
     "metadata": {},
     "output_type": "display_data"
    },
    {
     "data": {
      "image/png": "[encoded data removed]",
      "text/plain": [
       "<Figure size 640x480 with 1 Axes>"
      ]
     },
     "metadata": {},
     "output_type": "display_data"
    },
    {
     "data": {
      "image/png": "[encoded data removed]",
      "text/plain": [
       "<Figure size 640x480 with 1 Axes>"
      ]
     },
     "metadata": {},
     "output_type": "display_data"
    },
    {
     "data": {
      "image/png": "[encoded data removed]",
      "text/plain": [
       "<Figure size 640x480 with 1 Axes>"
      ]
     },
     "metadata": {},
     "output_type": "display_data"
    }
   ],
   "source": [
    "for column in nuevo_df.columns:\n",
    "    sns.scatterplot(data=nuevo_df, x=column, y=\"price\")\n",
    "    plt.xlabel(column)\n",
    "    plt.ylabel(\"price\")\n",
    "    plt.title(f\"Scatter Plot: {column} vs price\")\n",
    "    plt.show()"
   ]
  },
  {
   "cell_type": "markdown",
   "id": "354be78a",
   "metadata": {},
   "source": [
    "#### la grafica de \"power\" vamos a volver a hacerla incluyendole una escala ."
   ]
  },
  {
   "cell_type": "code",
   "execution_count": 69,
   "id": "a7a24c27",
   "metadata": {},
   "outputs": [
    {
     "data": {
      "image/png": "[encoded data removed]",
      "text/plain": [
       "<Figure size 640x480 with 1 Axes>"
      ]
     },
     "metadata": {},
     "output_type": "display_data"
    }
   ],
   "source": [
    "plt.scatter(nuevo_df[\"power\"], nuevo_df[\"price\"])\n",
    "\n",
    "plt.xlabel(\"Power\")\n",
    "plt.ylabel(\"Price\")\n",
    "plt.title(\"Scatter Plot: Power vs Price\")\n",
    "# Ajustar la escala del eje x\n",
    "plt.xlim(0, 400000)\n",
    "\n",
    "\n",
    "plt.show()"
   ]
  },
  {
   "cell_type": "code",
   "execution_count": 70,
   "id": "be5c4f73",
   "metadata": {},
   "outputs": [
    {
     "data": {
      "image/png": "[encoded data removed]",
      "text/plain": [
       "<Figure size 800x600 with 1 Axes>"
      ]
     },
     "metadata": {},
     "output_type": "display_data"
    },
    {
     "data": {
      "image/png": "[encoded data removed]",
      "text/plain": [
       "<Figure size 800x600 with 1 Axes>"
      ]
     },
     "metadata": {},
     "output_type": "display_data"
    },
    {
     "data": {
      "image/png": "[encoded data removed]",
      "text/plain": [
       "<Figure size 800x600 with 1 Axes>"
      ]
     },
     "metadata": {},
     "output_type": "display_data"
    },
    {
     "data": {
      "image/png": "[encoded data removed]",
      "text/plain": [
       "<Figure size 800x600 with 1 Axes>"
      ]
     },
     "metadata": {},
     "output_type": "display_data"
    },
    {
     "data": {
      "image/png": "[encoded data removed]",
      "text/plain": [
       "<Figure size 800x600 with 1 Axes>"
      ]
     },
     "metadata": {},
     "output_type": "display_data"
    },
    {
     "data": {
      "image/png": "[encoded data removed]",
      "text/plain": [
       "<Figure size 800x600 with 1 Axes>"
      ]
     },
     "metadata": {},
     "output_type": "display_data"
    },
    {
     "data": {
      "image/png": "[encoded data removed]",
      "text/plain": [
       "<Figure size 800x600 with 1 Axes>"
      ]
     },
     "metadata": {},
     "output_type": "display_data"
    }
   ],
   "source": [
    "for column in nuevo_df.columns:\n",
    "    plt.figure(figsize=(8, 6))\n",
    "    sns.boxplot(data=nuevo_df[column])\n",
    "    plt.xlabel(column)\n",
    "    plt.ylabel(\"Value\")\n",
    "    plt.title(f\"Box Plot: {column}\")\n",
    "    plt.show()\n"
   ]
  },
  {
   "cell_type": "code",
   "execution_count": 71,
   "id": "2296eb91",
   "metadata": {},
   "outputs": [
    {
     "data": {
      "text/plain": [
       "(12565, 7)"
      ]
     },
     "execution_count": 71,
     "metadata": {},
     "output_type": "execute_result"
    }
   ],
   "source": [
    "# Establecer los rangos y valores mínimos en las columnas correspondientes eliminando valores atípicos\n",
    "power_min = 50\n",
    "power_max = 1000\n",
    "year_max = 27\n",
    "price_min = 1000\n",
    "\n",
    "# Filtrar los registros que cumplan con las tres condiciones\n",
    "nuevo_df = nuevo_df[(nuevo_df[\"power\"] >= power_min) & (nuevo_df[\"power\"] <= power_max) &\n",
    "                    (nuevo_df[\"years_old\"] < year_max ) & (nuevo_df[\"price\"] >= price_min)]\n",
    "\n",
    "nuevo_df.shape\n"
   ]
  },
  {
   "cell_type": "code",
   "execution_count": 72,
   "id": "94f6f64e",
   "metadata": {},
   "outputs": [
    {
     "data": {
      "text/html": [
       "<div>\n",
       "<style scoped>\n",
       "    .dataframe tbody tr th:only-of-type {\n",
       "        vertical-align: middle;\n",
       "    }\n",
       "\n",
       "    .dataframe tbody tr th {\n",
       "        vertical-align: top;\n",
       "    }\n",
       "\n",
       "    .dataframe thead th {\n",
       "        text-align: right;\n",
       "    }\n",
       "</style>\n",
       "<table border=\"1\" class=\"dataframe\">\n",
       "  <thead>\n",
       "    <tr style=\"text-align: right;\">\n",
       "      <th></th>\n",
       "      <th>price</th>\n",
       "      <th>marca_modelo_codificada</th>\n",
       "      <th>kms</th>\n",
       "      <th>shift_codificada</th>\n",
       "      <th>power</th>\n",
       "      <th>fuel_codificada</th>\n",
       "      <th>years_old</th>\n",
       "    </tr>\n",
       "  </thead>\n",
       "  <tbody>\n",
       "    <tr>\n",
       "      <th>0</th>\n",
       "      <td>22900</td>\n",
       "      <td>427</td>\n",
       "      <td>5.0</td>\n",
       "      <td>0</td>\n",
       "      <td>110.0</td>\n",
       "      <td>0</td>\n",
       "      <td>1</td>\n",
       "    </tr>\n",
       "    <tr>\n",
       "      <th>1</th>\n",
       "      <td>19990</td>\n",
       "      <td>427</td>\n",
       "      <td>24847.0</td>\n",
       "      <td>0</td>\n",
       "      <td>110.0</td>\n",
       "      <td>0</td>\n",
       "      <td>1</td>\n",
       "    </tr>\n",
       "    <tr>\n",
       "      <th>2</th>\n",
       "      <td>18590</td>\n",
       "      <td>427</td>\n",
       "      <td>41356.0</td>\n",
       "      <td>1</td>\n",
       "      <td>120.0</td>\n",
       "      <td>1</td>\n",
       "      <td>2</td>\n",
       "    </tr>\n",
       "  </tbody>\n",
       "</table>\n",
       "</div>"
      ],
      "text/plain": [
       "   price  marca_modelo_codificada      kms  shift_codificada  power  \\\n",
       "0  22900                      427      5.0                 0  110.0   \n",
       "1  19990                      427  24847.0                 0  110.0   \n",
       "2  18590                      427  41356.0                 1  120.0   \n",
       "\n",
       "   fuel_codificada  years_old  \n",
       "0                0          1  \n",
       "1                0          1  \n",
       "2                1          2  "
      ]
     },
     "execution_count": 72,
     "metadata": {},
     "output_type": "execute_result"
    }
   ],
   "source": [
    "nuevo_df.head(3)"
   ]
  },
  {
   "cell_type": "markdown",
   "id": "cb3733f4",
   "metadata": {},
   "source": [
    "se ha detectado un valor atipico en la columna de Power"
   ]
  },
  {
   "cell_type": "markdown",
   "id": "ba418ad4",
   "metadata": {},
   "source": [
    "# 4. MODELOS DE MACHINE LEARNIG"
   ]
  },
  {
   "cell_type": "markdown",
   "id": "13923799",
   "metadata": {},
   "source": [
    "## 4.1 División de datos en conjuntos de entrenamiento y prueba "
   ]
  },
  {
   "cell_type": "markdown",
   "id": "c0073622",
   "metadata": {},
   "source": [
    "#### Establecemos \"X\"e \"y\""
   ]
  },
  {
   "cell_type": "code",
   "execution_count": 73,
   "id": "5161e0f9",
   "metadata": {},
   "outputs": [],
   "source": [
    "X = nuevo_df.drop(\"price\", axis=1)\n",
    "y = nuevo_df[\"price\"]"
   ]
  },
  {
   "cell_type": "code",
   "execution_count": 74,
   "id": "104822f4",
   "metadata": {},
   "outputs": [
    {
     "data": {
      "text/html": [
       "<div>\n",
       "<style scoped>\n",
       "    .dataframe tbody tr th:only-of-type {\n",
       "        vertical-align: middle;\n",
       "    }\n",
       "\n",
       "    .dataframe tbody tr th {\n",
       "        vertical-align: top;\n",
       "    }\n",
       "\n",
       "    .dataframe thead th {\n",
       "        text-align: right;\n",
       "    }\n",
       "</style>\n",
       "<table border=\"1\" class=\"dataframe\">\n",
       "  <thead>\n",
       "    <tr style=\"text-align: right;\">\n",
       "      <th></th>\n",
       "      <th>marca_modelo_codificada</th>\n",
       "      <th>kms</th>\n",
       "      <th>shift_codificada</th>\n",
       "      <th>power</th>\n",
       "      <th>fuel_codificada</th>\n",
       "      <th>years_old</th>\n",
       "    </tr>\n",
       "  </thead>\n",
       "  <tbody>\n",
       "    <tr>\n",
       "      <th>0</th>\n",
       "      <td>427</td>\n",
       "      <td>5.0</td>\n",
       "      <td>0</td>\n",
       "      <td>110.0</td>\n",
       "      <td>0</td>\n",
       "      <td>1</td>\n",
       "    </tr>\n",
       "    <tr>\n",
       "      <th>1</th>\n",
       "      <td>427</td>\n",
       "      <td>24847.0</td>\n",
       "      <td>0</td>\n",
       "      <td>110.0</td>\n",
       "      <td>0</td>\n",
       "      <td>1</td>\n",
       "    </tr>\n",
       "    <tr>\n",
       "      <th>2</th>\n",
       "      <td>427</td>\n",
       "      <td>41356.0</td>\n",
       "      <td>1</td>\n",
       "      <td>120.0</td>\n",
       "      <td>1</td>\n",
       "      <td>2</td>\n",
       "    </tr>\n",
       "    <tr>\n",
       "      <th>3</th>\n",
       "      <td>427</td>\n",
       "      <td>11.0</td>\n",
       "      <td>0</td>\n",
       "      <td>110.0</td>\n",
       "      <td>0</td>\n",
       "      <td>1</td>\n",
       "    </tr>\n",
       "  </tbody>\n",
       "</table>\n",
       "</div>"
      ],
      "text/plain": [
       "   marca_modelo_codificada      kms  shift_codificada  power  fuel_codificada  \\\n",
       "0                      427      5.0                 0  110.0                0   \n",
       "1                      427  24847.0                 0  110.0                0   \n",
       "2                      427  41356.0                 1  120.0                1   \n",
       "3                      427     11.0                 0  110.0                0   \n",
       "\n",
       "   years_old  \n",
       "0          1  \n",
       "1          1  \n",
       "2          2  \n",
       "3          1  "
      ]
     },
     "execution_count": 74,
     "metadata": {},
     "output_type": "execute_result"
    }
   ],
   "source": [
    "X.head(4)"
   ]
  },
  {
   "cell_type": "markdown",
   "id": "eaa5fc1b",
   "metadata": {},
   "source": [
    "#### Vamos a realizar el entrenamiento dividiendo los datos en entrenamiento y ensayo (80%-20%) y probamos algunos modelos de regresión"
   ]
  },
  {
   "cell_type": "code",
   "execution_count": 75,
   "id": "ca639204",
   "metadata": {},
   "outputs": [],
   "source": [
    "X_train, X_test, y_train, y_test = train_test_split(X,y, test_size=0.2, random_state=42)"
   ]
  },
  {
   "cell_type": "markdown",
   "id": "82fa3909",
   "metadata": {},
   "source": [
    "## 4.2  Prueba de modelos de Machine Learning"
   ]
  },
  {
   "cell_type": "markdown",
   "id": "3c827615",
   "metadata": {},
   "source": [
    "### - Regresión Lineal"
   ]
  },
  {
   "cell_type": "code",
   "execution_count": 76,
   "id": "f0eb21cc",
   "metadata": {},
   "outputs": [
    {
     "name": "stdout",
     "output_type": "stream",
     "text": [
      "Coeficiente de determinación R2: 0.6294519302453286\n",
      "Mean Squared Error (MSE): 192828466.7083741\n"
     ]
    }
   ],
   "source": [
    "modelo_LG = LinearRegression()\n",
    "\n",
    "# Entreno el modelo utilizando el conjunto de entrenamiento\n",
    "modelo_LG.fit(X_train, y_train)\n",
    "\n",
    "# Realizo predicciones en el conjunto de prueba\n",
    "y_pred = modelo_LG.predict(X_test)\n",
    "\n",
    "r2_RL = r2_score(y_test, y_pred)\n",
    "print(\"Coeficiente de determinación R2:\", r2_RL)\n",
    "mse = mean_squared_error(y_test, y_pred)\n",
    "print(\"Mean Squared Error (MSE):\", mse)\n",
    "\n"
   ]
  },
  {
   "cell_type": "markdown",
   "id": "5f7678a4",
   "metadata": {},
   "source": [
    "### - Ramdon Forest Regression"
   ]
  },
  {
   "cell_type": "code",
   "execution_count": 77,
   "id": "32b78117",
   "metadata": {},
   "outputs": [
    {
     "name": "stdout",
     "output_type": "stream",
     "text": [
      "Coeficiente de determinación R2: 0.8852850519349397\n",
      "Mean Squared Error (MSE): 59696188.83337198\n"
     ]
    }
   ],
   "source": [
    "modelo_RF = RandomForestRegressor(random_state=42)\n",
    "modelo_RF.fit(X_train, y_train)\n",
    "y_pred = modelo_RF.predict(X_test)\n",
    "\n",
    "r2_RF = r2_score(y_test, y_pred)\n",
    "print(\"Coeficiente de determinación R2:\", r2_RF)\n",
    "mse = mean_squared_error(y_test, y_pred)\n",
    "print(\"Mean Squared Error (MSE):\", mse)\n"
   ]
  },
  {
   "cell_type": "markdown",
   "id": "acef0771",
   "metadata": {},
   "source": [
    "### - K-Nearest Neighbors"
   ]
  },
  {
   "cell_type": "code",
   "execution_count": 78,
   "id": "48a72541",
   "metadata": {},
   "outputs": [
    {
     "name": "stdout",
     "output_type": "stream",
     "text": [
      "Coeficiente de determinación R2: 0.6000557120582963\n",
      "Mean Squared Error (MSE): 208125881.9230402\n"
     ]
    }
   ],
   "source": [
    "modelo_KN = KNeighborsRegressor(n_neighbors=5)\n",
    "modelo_KN.fit(X_train, y_train)\n",
    "y_pred = modelo_KN.predict(X_test)\n",
    "\n",
    "r2_KN = r2_score(y_test, y_pred)\n",
    "print(\"Coeficiente de determinación R2:\", r2_KN)\n",
    "mse = mean_squared_error(y_test, y_pred)\n",
    "print(\"Mean Squared Error (MSE):\", mse)\n"
   ]
  },
  {
   "cell_type": "markdown",
   "id": "aab827a7",
   "metadata": {},
   "source": [
    "### - Decision Tree Regression\n"
   ]
  },
  {
   "cell_type": "code",
   "execution_count": 79,
   "id": "430be782",
   "metadata": {},
   "outputs": [
    {
     "name": "stdout",
     "output_type": "stream",
     "text": [
      "Coeficiente de determinación R2 (Árboles de Decisión): 0.8307175076249836\n",
      "Mean Squared Error (MSE): 208125881.9230402\n"
     ]
    }
   ],
   "source": [
    "modelo_DT = DecisionTreeRegressor(random_state=42)\n",
    "modelo_DT.fit(X_train, y_train)\n",
    "y_pred_arbol = modelo_DT.predict(X_test)\n",
    "\n",
    "r2_arbol = r2_score(y_test, y_pred_arbol)\n",
    "print(\"Coeficiente de determinación R2 (Árboles de Decisión):\", r2_arbol)\n",
    "mse = mean_squared_error(y_test, y_pred)\n",
    "print(\"Mean Squared Error (MSE):\", mse)"
   ]
  },
  {
   "cell_type": "markdown",
   "id": "f1d52cd5",
   "metadata": {},
   "source": [
    "## 4.3 Selección del modelo"
   ]
  },
  {
   "cell_type": "markdown",
   "id": "f86c399e",
   "metadata": {},
   "source": [
    "#### Viendo los resultados , nos quedaremos con el modelo de Ramdom Forest Regresion"
   ]
  },
  {
   "cell_type": "markdown",
   "id": "ab7fe9fb",
   "metadata": {},
   "source": [
    "#### Guardamos la prediccion de modelo Ramdom Forest en un archivo \"pkl\""
   ]
  },
  {
   "cell_type": "code",
   "execution_count": 80,
   "id": "e2af2154",
   "metadata": {},
   "outputs": [],
   "source": [
    "with open('modelo.pkl2', 'wb') as f:\n",
    "    pickle.dump(modelo_RF, f)"
   ]
  },
  {
   "cell_type": "code",
   "execution_count": 82,
   "id": "5efb25db",
   "metadata": {},
   "outputs": [
    {
     "name": "stdout",
     "output_type": "stream",
     "text": [
      "Predicciones del precio: [16995.63666667]\n"
     ]
    }
   ],
   "source": [
    "nuevos_datos = pd.DataFrame({\n",
    "    'marca_modelo_codificada': [446],\n",
    "    'kms': [50000],\n",
    "    'shift_codificada': [0],\n",
    "    'power': [110.0],\n",
    "    'fuel_codificada': [0],\n",
    "    'years_old': [5]\n",
    "})\n",
    "\n",
    "# Realizar predicciones utilizando el modelo cargado\n",
    "predicciones = modelo_RF.predict(nuevos_datos)\n",
    "\n",
    "# Imprimir las predicciones\n",
    "print(\"Predicciones del precio:\", predicciones)"
   ]
  },
  {
   "cell_type": "code",
   "execution_count": null,
   "id": "160fed5c",
   "metadata": {},
   "outputs": [],
   "source": [
    "df.head()"
   ]
  },
  {
   "cell_type": "markdown",
   "id": "923fd5a4",
   "metadata": {},
   "source": [
    "## df streamlit"
   ]
  },
  {
   "cell_type": "code",
   "execution_count": 83,
   "id": "3ebf7e39",
   "metadata": {},
   "outputs": [
    {
     "data": {
      "text/html": [
       "<div>\n",
       "<style scoped>\n",
       "    .dataframe tbody tr th:only-of-type {\n",
       "        vertical-align: middle;\n",
       "    }\n",
       "\n",
       "    .dataframe tbody tr th {\n",
       "        vertical-align: top;\n",
       "    }\n",
       "\n",
       "    .dataframe thead th {\n",
       "        text-align: right;\n",
       "    }\n",
       "</style>\n",
       "<table border=\"1\" class=\"dataframe\">\n",
       "  <thead>\n",
       "    <tr style=\"text-align: right;\">\n",
       "      <th></th>\n",
       "      <th>vehicle_type</th>\n",
       "      <th>make</th>\n",
       "      <th>model</th>\n",
       "      <th>version</th>\n",
       "      <th>fuel</th>\n",
       "      <th>year</th>\n",
       "      <th>kms</th>\n",
       "      <th>power</th>\n",
       "      <th>shift</th>\n",
       "      <th>price</th>\n",
       "      <th>currency</th>\n",
       "      <th>location</th>\n",
       "    </tr>\n",
       "  </thead>\n",
       "  <tbody>\n",
       "    <tr>\n",
       "      <th>0</th>\n",
       "      <td>car</td>\n",
       "      <td>Opel</td>\n",
       "      <td>Crossland</td>\n",
       "      <td>1.2 GAS 110 GS Line 5p S/S</td>\n",
       "      <td>Gasolina</td>\n",
       "      <td>2022</td>\n",
       "      <td>5.0</td>\n",
       "      <td>110.0</td>\n",
       "      <td>manual</td>\n",
       "      <td>22900</td>\n",
       "      <td>EUR</td>\n",
       "      <td>Pineda de Mar</td>\n",
       "    </tr>\n",
       "    <tr>\n",
       "      <th>1</th>\n",
       "      <td>car</td>\n",
       "      <td>Opel</td>\n",
       "      <td>Crossland</td>\n",
       "      <td>1.2 81kW (110CV) GS Line</td>\n",
       "      <td>Gasolina</td>\n",
       "      <td>2022</td>\n",
       "      <td>24847.0</td>\n",
       "      <td>110.0</td>\n",
       "      <td>manual</td>\n",
       "      <td>19990</td>\n",
       "      <td>EUR</td>\n",
       "      <td>Coslada</td>\n",
       "    </tr>\n",
       "    <tr>\n",
       "      <th>2</th>\n",
       "      <td>car</td>\n",
       "      <td>Opel</td>\n",
       "      <td>Crossland</td>\n",
       "      <td>1.5D 88kW (120CV) Business Elegance Auto</td>\n",
       "      <td>Diésel</td>\n",
       "      <td>2021</td>\n",
       "      <td>41356.0</td>\n",
       "      <td>120.0</td>\n",
       "      <td>automatic</td>\n",
       "      <td>18590</td>\n",
       "      <td>EUR</td>\n",
       "      <td>Madrid</td>\n",
       "    </tr>\n",
       "    <tr>\n",
       "      <th>3</th>\n",
       "      <td>car</td>\n",
       "      <td>Opel</td>\n",
       "      <td>Crossland</td>\n",
       "      <td>GS-Line 1.2 GAS MT6 S/S 110cv</td>\n",
       "      <td>Gasolina</td>\n",
       "      <td>2022</td>\n",
       "      <td>11.0</td>\n",
       "      <td>110.0</td>\n",
       "      <td>manual</td>\n",
       "      <td>22700</td>\n",
       "      <td>EUR</td>\n",
       "      <td>Sabadell</td>\n",
       "    </tr>\n",
       "    <tr>\n",
       "      <th>5</th>\n",
       "      <td>car</td>\n",
       "      <td>Opel</td>\n",
       "      <td>Crossland</td>\n",
       "      <td>1.2 GS LINE 110 CV 5P</td>\n",
       "      <td>Gasolina</td>\n",
       "      <td>2021</td>\n",
       "      <td>51390.0</td>\n",
       "      <td>110.0</td>\n",
       "      <td>manual</td>\n",
       "      <td>18200</td>\n",
       "      <td>EUR</td>\n",
       "      <td>Málaga</td>\n",
       "    </tr>\n",
       "    <tr>\n",
       "      <th>...</th>\n",
       "      <td>...</td>\n",
       "      <td>...</td>\n",
       "      <td>...</td>\n",
       "      <td>...</td>\n",
       "      <td>...</td>\n",
       "      <td>...</td>\n",
       "      <td>...</td>\n",
       "      <td>...</td>\n",
       "      <td>...</td>\n",
       "      <td>...</td>\n",
       "      <td>...</td>\n",
       "      <td>...</td>\n",
       "    </tr>\n",
       "    <tr>\n",
       "      <th>99931</th>\n",
       "      <td>car</td>\n",
       "      <td>Citroen</td>\n",
       "      <td>C4 Picasso</td>\n",
       "      <td>BlueHDi 88KW (120CV) Feel</td>\n",
       "      <td>Diésel</td>\n",
       "      <td>2017</td>\n",
       "      <td>71330.0</td>\n",
       "      <td>120.0</td>\n",
       "      <td>manual</td>\n",
       "      <td>18200</td>\n",
       "      <td>EUR</td>\n",
       "      <td>Espinardo</td>\n",
       "    </tr>\n",
       "    <tr>\n",
       "      <th>99947</th>\n",
       "      <td>car</td>\n",
       "      <td>Citroen</td>\n",
       "      <td>C4 Picasso</td>\n",
       "      <td>BlueHDi 150cv Exclusive</td>\n",
       "      <td>Diésel</td>\n",
       "      <td>2014</td>\n",
       "      <td>109350.0</td>\n",
       "      <td>150.0</td>\n",
       "      <td>manual</td>\n",
       "      <td>11690</td>\n",
       "      <td>EUR</td>\n",
       "      <td>Ourense</td>\n",
       "    </tr>\n",
       "    <tr>\n",
       "      <th>99948</th>\n",
       "      <td>car</td>\n",
       "      <td>Citroen</td>\n",
       "      <td>C4 Picasso</td>\n",
       "      <td>PureTech SS 6v Live</td>\n",
       "      <td>Gasolina</td>\n",
       "      <td>2017</td>\n",
       "      <td>108697.0</td>\n",
       "      <td>130.0</td>\n",
       "      <td>manual</td>\n",
       "      <td>13199</td>\n",
       "      <td>EUR</td>\n",
       "      <td>Madrid</td>\n",
       "    </tr>\n",
       "    <tr>\n",
       "      <th>99996</th>\n",
       "      <td>car</td>\n",
       "      <td>Citroen</td>\n",
       "      <td>C4 Picasso</td>\n",
       "      <td>Seduction</td>\n",
       "      <td>Diésel</td>\n",
       "      <td>2013</td>\n",
       "      <td>173035.0</td>\n",
       "      <td>111.0</td>\n",
       "      <td>automatic</td>\n",
       "      <td>9290</td>\n",
       "      <td>EUR</td>\n",
       "      <td>Valencia</td>\n",
       "    </tr>\n",
       "    <tr>\n",
       "      <th>99998</th>\n",
       "      <td>car</td>\n",
       "      <td>Citroen</td>\n",
       "      <td>C4 Picasso</td>\n",
       "      <td>Millenium</td>\n",
       "      <td>Diésel</td>\n",
       "      <td>2012</td>\n",
       "      <td>178131.0</td>\n",
       "      <td>110.0</td>\n",
       "      <td>manual</td>\n",
       "      <td>7950</td>\n",
       "      <td>EUR</td>\n",
       "      <td>Valencia</td>\n",
       "    </tr>\n",
       "  </tbody>\n",
       "</table>\n",
       "<p>13749 rows × 12 columns</p>\n",
       "</div>"
      ],
      "text/plain": [
       "      vehicle_type     make       model  \\\n",
       "0              car     Opel   Crossland   \n",
       "1              car     Opel   Crossland   \n",
       "2              car     Opel   Crossland   \n",
       "3              car     Opel   Crossland   \n",
       "5              car     Opel   Crossland   \n",
       "...            ...      ...         ...   \n",
       "99931          car  Citroen  C4 Picasso   \n",
       "99947          car  Citroen  C4 Picasso   \n",
       "99948          car  Citroen  C4 Picasso   \n",
       "99996          car  Citroen  C4 Picasso   \n",
       "99998          car  Citroen  C4 Picasso   \n",
       "\n",
       "                                        version      fuel  year       kms  \\\n",
       "0                    1.2 GAS 110 GS Line 5p S/S  Gasolina  2022       5.0   \n",
       "1                      1.2 81kW (110CV) GS Line  Gasolina  2022   24847.0   \n",
       "2      1.5D 88kW (120CV) Business Elegance Auto    Diésel  2021   41356.0   \n",
       "3                 GS-Line 1.2 GAS MT6 S/S 110cv  Gasolina  2022      11.0   \n",
       "5                         1.2 GS LINE 110 CV 5P  Gasolina  2021   51390.0   \n",
       "...                                         ...       ...   ...       ...   \n",
       "99931                 BlueHDi 88KW (120CV) Feel    Diésel  2017   71330.0   \n",
       "99947                   BlueHDi 150cv Exclusive    Diésel  2014  109350.0   \n",
       "99948                       PureTech SS 6v Live  Gasolina  2017  108697.0   \n",
       "99996                                 Seduction    Diésel  2013  173035.0   \n",
       "99998                                 Millenium    Diésel  2012  178131.0   \n",
       "\n",
       "       power      shift  price currency       location  \n",
       "0      110.0     manual  22900      EUR  Pineda de Mar  \n",
       "1      110.0     manual  19990      EUR        Coslada  \n",
       "2      120.0  automatic  18590      EUR         Madrid  \n",
       "3      110.0     manual  22700      EUR       Sabadell  \n",
       "5      110.0     manual  18200      EUR         Málaga  \n",
       "...      ...        ...    ...      ...            ...  \n",
       "99931  120.0     manual  18200      EUR      Espinardo  \n",
       "99947  150.0     manual  11690      EUR        Ourense  \n",
       "99948  130.0     manual  13199      EUR         Madrid  \n",
       "99996  111.0  automatic   9290      EUR       Valencia  \n",
       "99998  110.0     manual   7950      EUR       Valencia  \n",
       "\n",
       "[13749 rows x 12 columns]"
      ]
     },
     "execution_count": 83,
     "metadata": {},
     "output_type": "execute_result"
    }
   ],
   "source": [
    "df_streamlit"
   ]
  },
  {
   "cell_type": "code",
   "execution_count": 84,
   "id": "2e9999cd",
   "metadata": {},
   "outputs": [
    {
     "data": {
      "text/plain": [
       "(12565, 12)"
      ]
     },
     "execution_count": 84,
     "metadata": {},
     "output_type": "execute_result"
    }
   ],
   "source": [
    "power_min = 50\n",
    "power_max = 1000\n",
    "year_min = 1996\n",
    "price_min = 1000\n",
    "\n",
    "# Filtrar los registros que cumplan con las tres condiciones\n",
    "df_streamlit = df_streamlit[(df_streamlit[\"power\"] >= power_min) & (df_streamlit[\"power\"] <= power_max) &\n",
    "                    (df_streamlit[\"year\"] > year_min ) & (df_streamlit[\"price\"] >= price_min)]\n",
    "\n",
    "df_streamlit.shape"
   ]
  },
  {
   "cell_type": "code",
   "execution_count": 85,
   "id": "5e9c8d4a",
   "metadata": {},
   "outputs": [
    {
     "data": {
      "text/html": [
       "<div>\n",
       "<style scoped>\n",
       "    .dataframe tbody tr th:only-of-type {\n",
       "        vertical-align: middle;\n",
       "    }\n",
       "\n",
       "    .dataframe tbody tr th {\n",
       "        vertical-align: top;\n",
       "    }\n",
       "\n",
       "    .dataframe thead th {\n",
       "        text-align: right;\n",
       "    }\n",
       "</style>\n",
       "<table border=\"1\" class=\"dataframe\">\n",
       "  <thead>\n",
       "    <tr style=\"text-align: right;\">\n",
       "      <th></th>\n",
       "      <th>vehicle_type</th>\n",
       "      <th>make</th>\n",
       "      <th>model</th>\n",
       "      <th>version</th>\n",
       "      <th>fuel</th>\n",
       "      <th>year</th>\n",
       "      <th>kms</th>\n",
       "      <th>power</th>\n",
       "      <th>shift</th>\n",
       "      <th>price</th>\n",
       "      <th>currency</th>\n",
       "      <th>location</th>\n",
       "    </tr>\n",
       "  </thead>\n",
       "  <tbody>\n",
       "    <tr>\n",
       "      <th>0</th>\n",
       "      <td>car</td>\n",
       "      <td>Opel</td>\n",
       "      <td>Crossland</td>\n",
       "      <td>1.2 GAS 110 GS Line 5p S/S</td>\n",
       "      <td>Gasolina</td>\n",
       "      <td>2022</td>\n",
       "      <td>5.0</td>\n",
       "      <td>110.0</td>\n",
       "      <td>manual</td>\n",
       "      <td>22900</td>\n",
       "      <td>EUR</td>\n",
       "      <td>Pineda de Mar</td>\n",
       "    </tr>\n",
       "    <tr>\n",
       "      <th>1</th>\n",
       "      <td>car</td>\n",
       "      <td>Opel</td>\n",
       "      <td>Crossland</td>\n",
       "      <td>1.2 81kW (110CV) GS Line</td>\n",
       "      <td>Gasolina</td>\n",
       "      <td>2022</td>\n",
       "      <td>24847.0</td>\n",
       "      <td>110.0</td>\n",
       "      <td>manual</td>\n",
       "      <td>19990</td>\n",
       "      <td>EUR</td>\n",
       "      <td>Coslada</td>\n",
       "    </tr>\n",
       "    <tr>\n",
       "      <th>2</th>\n",
       "      <td>car</td>\n",
       "      <td>Opel</td>\n",
       "      <td>Crossland</td>\n",
       "      <td>1.5D 88kW (120CV) Business Elegance Auto</td>\n",
       "      <td>Diésel</td>\n",
       "      <td>2021</td>\n",
       "      <td>41356.0</td>\n",
       "      <td>120.0</td>\n",
       "      <td>automatic</td>\n",
       "      <td>18590</td>\n",
       "      <td>EUR</td>\n",
       "      <td>Madrid</td>\n",
       "    </tr>\n",
       "    <tr>\n",
       "      <th>3</th>\n",
       "      <td>car</td>\n",
       "      <td>Opel</td>\n",
       "      <td>Crossland</td>\n",
       "      <td>GS-Line 1.2 GAS MT6 S/S 110cv</td>\n",
       "      <td>Gasolina</td>\n",
       "      <td>2022</td>\n",
       "      <td>11.0</td>\n",
       "      <td>110.0</td>\n",
       "      <td>manual</td>\n",
       "      <td>22700</td>\n",
       "      <td>EUR</td>\n",
       "      <td>Sabadell</td>\n",
       "    </tr>\n",
       "    <tr>\n",
       "      <th>5</th>\n",
       "      <td>car</td>\n",
       "      <td>Opel</td>\n",
       "      <td>Crossland</td>\n",
       "      <td>1.2 GS LINE 110 CV 5P</td>\n",
       "      <td>Gasolina</td>\n",
       "      <td>2021</td>\n",
       "      <td>51390.0</td>\n",
       "      <td>110.0</td>\n",
       "      <td>manual</td>\n",
       "      <td>18200</td>\n",
       "      <td>EUR</td>\n",
       "      <td>Málaga</td>\n",
       "    </tr>\n",
       "  </tbody>\n",
       "</table>\n",
       "</div>"
      ],
      "text/plain": [
       "  vehicle_type  make      model                                   version  \\\n",
       "0          car  Opel  Crossland                1.2 GAS 110 GS Line 5p S/S   \n",
       "1          car  Opel  Crossland                  1.2 81kW (110CV) GS Line   \n",
       "2          car  Opel  Crossland  1.5D 88kW (120CV) Business Elegance Auto   \n",
       "3          car  Opel  Crossland             GS-Line 1.2 GAS MT6 S/S 110cv   \n",
       "5          car  Opel  Crossland                     1.2 GS LINE 110 CV 5P   \n",
       "\n",
       "       fuel  year      kms  power      shift  price currency       location  \n",
       "0  Gasolina  2022      5.0  110.0     manual  22900      EUR  Pineda de Mar  \n",
       "1  Gasolina  2022  24847.0  110.0     manual  19990      EUR        Coslada  \n",
       "2    Diésel  2021  41356.0  120.0  automatic  18590      EUR         Madrid  \n",
       "3  Gasolina  2022     11.0  110.0     manual  22700      EUR       Sabadell  \n",
       "5  Gasolina  2021  51390.0  110.0     manual  18200      EUR         Málaga  "
      ]
     },
     "execution_count": 85,
     "metadata": {},
     "output_type": "execute_result"
    }
   ],
   "source": [
    "df_streamlit.head()\n"
   ]
  },
  {
   "cell_type": "code",
   "execution_count": 86,
   "id": "93b21b1a",
   "metadata": {},
   "outputs": [],
   "source": [
    "df_streamlit = df_streamlit.drop([\"vehicle_type\"],axis=1)"
   ]
  },
  {
   "cell_type": "code",
   "execution_count": 87,
   "id": "949a7847",
   "metadata": {},
   "outputs": [
    {
     "data": {
      "text/html": [
       "<div>\n",
       "<style scoped>\n",
       "    .dataframe tbody tr th:only-of-type {\n",
       "        vertical-align: middle;\n",
       "    }\n",
       "\n",
       "    .dataframe tbody tr th {\n",
       "        vertical-align: top;\n",
       "    }\n",
       "\n",
       "    .dataframe thead th {\n",
       "        text-align: right;\n",
       "    }\n",
       "</style>\n",
       "<table border=\"1\" class=\"dataframe\">\n",
       "  <thead>\n",
       "    <tr style=\"text-align: right;\">\n",
       "      <th></th>\n",
       "      <th>make</th>\n",
       "      <th>model</th>\n",
       "      <th>version</th>\n",
       "      <th>fuel</th>\n",
       "      <th>year</th>\n",
       "      <th>kms</th>\n",
       "      <th>power</th>\n",
       "      <th>shift</th>\n",
       "      <th>price</th>\n",
       "      <th>currency</th>\n",
       "      <th>location</th>\n",
       "    </tr>\n",
       "  </thead>\n",
       "  <tbody>\n",
       "    <tr>\n",
       "      <th>0</th>\n",
       "      <td>Opel</td>\n",
       "      <td>Crossland</td>\n",
       "      <td>1.2 GAS 110 GS Line 5p S/S</td>\n",
       "      <td>Gasolina</td>\n",
       "      <td>2022</td>\n",
       "      <td>5.0</td>\n",
       "      <td>110.0</td>\n",
       "      <td>manual</td>\n",
       "      <td>22900</td>\n",
       "      <td>EUR</td>\n",
       "      <td>Pineda de Mar</td>\n",
       "    </tr>\n",
       "    <tr>\n",
       "      <th>1</th>\n",
       "      <td>Opel</td>\n",
       "      <td>Crossland</td>\n",
       "      <td>1.2 81kW (110CV) GS Line</td>\n",
       "      <td>Gasolina</td>\n",
       "      <td>2022</td>\n",
       "      <td>24847.0</td>\n",
       "      <td>110.0</td>\n",
       "      <td>manual</td>\n",
       "      <td>19990</td>\n",
       "      <td>EUR</td>\n",
       "      <td>Coslada</td>\n",
       "    </tr>\n",
       "    <tr>\n",
       "      <th>2</th>\n",
       "      <td>Opel</td>\n",
       "      <td>Crossland</td>\n",
       "      <td>1.5D 88kW (120CV) Business Elegance Auto</td>\n",
       "      <td>Diésel</td>\n",
       "      <td>2021</td>\n",
       "      <td>41356.0</td>\n",
       "      <td>120.0</td>\n",
       "      <td>automatic</td>\n",
       "      <td>18590</td>\n",
       "      <td>EUR</td>\n",
       "      <td>Madrid</td>\n",
       "    </tr>\n",
       "    <tr>\n",
       "      <th>3</th>\n",
       "      <td>Opel</td>\n",
       "      <td>Crossland</td>\n",
       "      <td>GS-Line 1.2 GAS MT6 S/S 110cv</td>\n",
       "      <td>Gasolina</td>\n",
       "      <td>2022</td>\n",
       "      <td>11.0</td>\n",
       "      <td>110.0</td>\n",
       "      <td>manual</td>\n",
       "      <td>22700</td>\n",
       "      <td>EUR</td>\n",
       "      <td>Sabadell</td>\n",
       "    </tr>\n",
       "    <tr>\n",
       "      <th>5</th>\n",
       "      <td>Opel</td>\n",
       "      <td>Crossland</td>\n",
       "      <td>1.2 GS LINE 110 CV 5P</td>\n",
       "      <td>Gasolina</td>\n",
       "      <td>2021</td>\n",
       "      <td>51390.0</td>\n",
       "      <td>110.0</td>\n",
       "      <td>manual</td>\n",
       "      <td>18200</td>\n",
       "      <td>EUR</td>\n",
       "      <td>Málaga</td>\n",
       "    </tr>\n",
       "  </tbody>\n",
       "</table>\n",
       "</div>"
      ],
      "text/plain": [
       "   make      model                                   version      fuel  year  \\\n",
       "0  Opel  Crossland                1.2 GAS 110 GS Line 5p S/S  Gasolina  2022   \n",
       "1  Opel  Crossland                  1.2 81kW (110CV) GS Line  Gasolina  2022   \n",
       "2  Opel  Crossland  1.5D 88kW (120CV) Business Elegance Auto    Diésel  2021   \n",
       "3  Opel  Crossland             GS-Line 1.2 GAS MT6 S/S 110cv  Gasolina  2022   \n",
       "5  Opel  Crossland                     1.2 GS LINE 110 CV 5P  Gasolina  2021   \n",
       "\n",
       "       kms  power      shift  price currency       location  \n",
       "0      5.0  110.0     manual  22900      EUR  Pineda de Mar  \n",
       "1  24847.0  110.0     manual  19990      EUR        Coslada  \n",
       "2  41356.0  120.0  automatic  18590      EUR         Madrid  \n",
       "3     11.0  110.0     manual  22700      EUR       Sabadell  \n",
       "5  51390.0  110.0     manual  18200      EUR         Málaga  "
      ]
     },
     "execution_count": 87,
     "metadata": {},
     "output_type": "execute_result"
    }
   ],
   "source": [
    "df_streamlit.head()\n"
   ]
  },
  {
   "cell_type": "code",
   "execution_count": 88,
   "id": "d1da7b2f",
   "metadata": {},
   "outputs": [
    {
     "data": {
      "text/plain": [
       "make         0\n",
       "model        0\n",
       "version     54\n",
       "fuel         0\n",
       "year         0\n",
       "kms          0\n",
       "power        0\n",
       "shift        0\n",
       "price        0\n",
       "currency     0\n",
       "location     0\n",
       "dtype: int64"
      ]
     },
     "execution_count": 88,
     "metadata": {},
     "output_type": "execute_result"
    }
   ],
   "source": [
    "valores_vacios = df_streamlit.isna().sum()\n",
    "valores_vacios"
   ]
  },
  {
   "cell_type": "code",
   "execution_count": 89,
   "id": "eec1d52d",
   "metadata": {},
   "outputs": [
    {
     "data": {
      "text/plain": [
       "664"
      ]
     },
     "execution_count": 89,
     "metadata": {},
     "output_type": "execute_result"
    }
   ],
   "source": [
    "ubicaciones_unicas = df_streamlit['location'].unique()\n",
    "len(ubicaciones_unicas)\n"
   ]
  },
  {
   "cell_type": "markdown",
   "id": "8a6abd0f",
   "metadata": {},
   "source": [
    "### vamos a calcular la latitud y longitud de cada ubicación para luego usarlas en nuestra App"
   ]
  },
  {
   "cell_type": "code",
   "execution_count": 90,
   "id": "ef82051a",
   "metadata": {},
   "outputs": [
    {
     "data": {
      "text/plain": [
       "664"
      ]
     },
     "execution_count": 90,
     "metadata": {},
     "output_type": "execute_result"
    }
   ],
   "source": [
    "import geopy.geocoders as geocoders\n",
    "\n",
    "geolocator = geocoders.Nominatim(user_agent='my_app')\n",
    "\n",
    "coordenadas = []\n",
    "\n",
    "for ubicacion in ubicaciones_unicas:\n",
    "    try:\n",
    "        location = geolocator.geocode(ubicacion)\n",
    "        if location is not None:\n",
    "            lat = location.latitude\n",
    "            lon = location.longitude\n",
    "            coordenadas.append((ubicacion, lat, lon))\n",
    "        else:\n",
    "            coordenadas.append((ubicacion, None, None))\n",
    "    except:\n",
    "        coordenadas.append((ubicacion, None, None))\n",
    "len(coordenadas)\n",
    "# Imprimir las coordenadas obtenidas\n",
    "#for ubicacion, lat, lon in coordenadas:\n",
    "#    print(f'Ubicación: {ubicacion}, Latitud: {lat}, Longitud: {lon}')"
   ]
  },
  {
   "cell_type": "markdown",
   "id": "62c7bd8f",
   "metadata": {},
   "source": [
    "### Creamos un dataframe con las coordenadas unicas"
   ]
  },
  {
   "cell_type": "code",
   "execution_count": 91,
   "id": "def5e1c6",
   "metadata": {},
   "outputs": [
    {
     "data": {
      "text/html": [
       "<div>\n",
       "<style scoped>\n",
       "    .dataframe tbody tr th:only-of-type {\n",
       "        vertical-align: middle;\n",
       "    }\n",
       "\n",
       "    .dataframe tbody tr th {\n",
       "        vertical-align: top;\n",
       "    }\n",
       "\n",
       "    .dataframe thead th {\n",
       "        text-align: right;\n",
       "    }\n",
       "</style>\n",
       "<table border=\"1\" class=\"dataframe\">\n",
       "  <thead>\n",
       "    <tr style=\"text-align: right;\">\n",
       "      <th></th>\n",
       "      <th>location</th>\n",
       "      <th>latitude</th>\n",
       "      <th>longitude</th>\n",
       "    </tr>\n",
       "  </thead>\n",
       "  <tbody>\n",
       "    <tr>\n",
       "      <th>0</th>\n",
       "      <td>Pineda de Mar</td>\n",
       "      <td>41.627681</td>\n",
       "      <td>2.689871</td>\n",
       "    </tr>\n",
       "    <tr>\n",
       "      <th>1</th>\n",
       "      <td>Coslada</td>\n",
       "      <td>40.423802</td>\n",
       "      <td>-3.555288</td>\n",
       "    </tr>\n",
       "    <tr>\n",
       "      <th>2</th>\n",
       "      <td>Madrid</td>\n",
       "      <td>40.416705</td>\n",
       "      <td>-3.703582</td>\n",
       "    </tr>\n",
       "    <tr>\n",
       "      <th>3</th>\n",
       "      <td>Sabadell</td>\n",
       "      <td>41.510280</td>\n",
       "      <td>2.112326</td>\n",
       "    </tr>\n",
       "    <tr>\n",
       "      <th>4</th>\n",
       "      <td>Málaga</td>\n",
       "      <td>36.721303</td>\n",
       "      <td>-4.421637</td>\n",
       "    </tr>\n",
       "  </tbody>\n",
       "</table>\n",
       "</div>"
      ],
      "text/plain": [
       "        location   latitude  longitude\n",
       "0  Pineda de Mar  41.627681   2.689871\n",
       "1        Coslada  40.423802  -3.555288\n",
       "2         Madrid  40.416705  -3.703582\n",
       "3       Sabadell  41.510280   2.112326\n",
       "4         Málaga  36.721303  -4.421637"
      ]
     },
     "execution_count": 91,
     "metadata": {},
     "output_type": "execute_result"
    }
   ],
   "source": [
    "df_coordenadas = pd.DataFrame(coordenadas, columns=['location','latitude', 'longitude'])\n",
    "df_coordenadas.head()"
   ]
  },
  {
   "cell_type": "markdown",
   "id": "24386deb",
   "metadata": {},
   "source": [
    "### Vamos a añadir cada coodenada a la ubicación de nuestro dataframe"
   ]
  },
  {
   "cell_type": "code",
   "execution_count": 93,
   "id": "3910d367",
   "metadata": {},
   "outputs": [],
   "source": [
    "coordenadas_dict = df_coordenadas.set_index('location').to_dict(orient='index')\n"
   ]
  },
  {
   "cell_type": "code",
   "execution_count": 94,
   "id": "7dd0ee83",
   "metadata": {},
   "outputs": [],
   "source": [
    "df_streamlit['latitude'] = df_streamlit['location'].map(lambda x: coordenadas_dict.get(x, {}).get('latitude'))\n",
    "df_streamlit['longitude'] = df_streamlit['location'].map(lambda x: coordenadas_dict.get(x, {}).get('longitude'))"
   ]
  },
  {
   "cell_type": "code",
   "execution_count": 95,
   "id": "fb4275e9",
   "metadata": {},
   "outputs": [
    {
     "data": {
      "text/html": [
       "<div>\n",
       "<style scoped>\n",
       "    .dataframe tbody tr th:only-of-type {\n",
       "        vertical-align: middle;\n",
       "    }\n",
       "\n",
       "    .dataframe tbody tr th {\n",
       "        vertical-align: top;\n",
       "    }\n",
       "\n",
       "    .dataframe thead th {\n",
       "        text-align: right;\n",
       "    }\n",
       "</style>\n",
       "<table border=\"1\" class=\"dataframe\">\n",
       "  <thead>\n",
       "    <tr style=\"text-align: right;\">\n",
       "      <th></th>\n",
       "      <th>make</th>\n",
       "      <th>model</th>\n",
       "      <th>version</th>\n",
       "      <th>fuel</th>\n",
       "      <th>year</th>\n",
       "      <th>kms</th>\n",
       "      <th>power</th>\n",
       "      <th>shift</th>\n",
       "      <th>price</th>\n",
       "      <th>currency</th>\n",
       "      <th>location</th>\n",
       "      <th>latitude</th>\n",
       "      <th>longitude</th>\n",
       "    </tr>\n",
       "  </thead>\n",
       "  <tbody>\n",
       "    <tr>\n",
       "      <th>0</th>\n",
       "      <td>Opel</td>\n",
       "      <td>Crossland</td>\n",
       "      <td>1.2 GAS 110 GS Line 5p S/S</td>\n",
       "      <td>Gasolina</td>\n",
       "      <td>2022</td>\n",
       "      <td>5.0</td>\n",
       "      <td>110.0</td>\n",
       "      <td>manual</td>\n",
       "      <td>22900</td>\n",
       "      <td>EUR</td>\n",
       "      <td>Pineda de Mar</td>\n",
       "      <td>41.627681</td>\n",
       "      <td>2.689871</td>\n",
       "    </tr>\n",
       "    <tr>\n",
       "      <th>1</th>\n",
       "      <td>Opel</td>\n",
       "      <td>Crossland</td>\n",
       "      <td>1.2 81kW (110CV) GS Line</td>\n",
       "      <td>Gasolina</td>\n",
       "      <td>2022</td>\n",
       "      <td>24847.0</td>\n",
       "      <td>110.0</td>\n",
       "      <td>manual</td>\n",
       "      <td>19990</td>\n",
       "      <td>EUR</td>\n",
       "      <td>Coslada</td>\n",
       "      <td>40.423802</td>\n",
       "      <td>-3.555288</td>\n",
       "    </tr>\n",
       "    <tr>\n",
       "      <th>2</th>\n",
       "      <td>Opel</td>\n",
       "      <td>Crossland</td>\n",
       "      <td>1.5D 88kW (120CV) Business Elegance Auto</td>\n",
       "      <td>Diésel</td>\n",
       "      <td>2021</td>\n",
       "      <td>41356.0</td>\n",
       "      <td>120.0</td>\n",
       "      <td>automatic</td>\n",
       "      <td>18590</td>\n",
       "      <td>EUR</td>\n",
       "      <td>Madrid</td>\n",
       "      <td>40.416705</td>\n",
       "      <td>-3.703582</td>\n",
       "    </tr>\n",
       "    <tr>\n",
       "      <th>3</th>\n",
       "      <td>Opel</td>\n",
       "      <td>Crossland</td>\n",
       "      <td>GS-Line 1.2 GAS MT6 S/S 110cv</td>\n",
       "      <td>Gasolina</td>\n",
       "      <td>2022</td>\n",
       "      <td>11.0</td>\n",
       "      <td>110.0</td>\n",
       "      <td>manual</td>\n",
       "      <td>22700</td>\n",
       "      <td>EUR</td>\n",
       "      <td>Sabadell</td>\n",
       "      <td>41.510280</td>\n",
       "      <td>2.112326</td>\n",
       "    </tr>\n",
       "    <tr>\n",
       "      <th>5</th>\n",
       "      <td>Opel</td>\n",
       "      <td>Crossland</td>\n",
       "      <td>1.2 GS LINE 110 CV 5P</td>\n",
       "      <td>Gasolina</td>\n",
       "      <td>2021</td>\n",
       "      <td>51390.0</td>\n",
       "      <td>110.0</td>\n",
       "      <td>manual</td>\n",
       "      <td>18200</td>\n",
       "      <td>EUR</td>\n",
       "      <td>Málaga</td>\n",
       "      <td>36.721303</td>\n",
       "      <td>-4.421637</td>\n",
       "    </tr>\n",
       "  </tbody>\n",
       "</table>\n",
       "</div>"
      ],
      "text/plain": [
       "   make      model                                   version      fuel  year  \\\n",
       "0  Opel  Crossland                1.2 GAS 110 GS Line 5p S/S  Gasolina  2022   \n",
       "1  Opel  Crossland                  1.2 81kW (110CV) GS Line  Gasolina  2022   \n",
       "2  Opel  Crossland  1.5D 88kW (120CV) Business Elegance Auto    Diésel  2021   \n",
       "3  Opel  Crossland             GS-Line 1.2 GAS MT6 S/S 110cv  Gasolina  2022   \n",
       "5  Opel  Crossland                     1.2 GS LINE 110 CV 5P  Gasolina  2021   \n",
       "\n",
       "       kms  power      shift  price currency       location   latitude  \\\n",
       "0      5.0  110.0     manual  22900      EUR  Pineda de Mar  41.627681   \n",
       "1  24847.0  110.0     manual  19990      EUR        Coslada  40.423802   \n",
       "2  41356.0  120.0  automatic  18590      EUR         Madrid  40.416705   \n",
       "3     11.0  110.0     manual  22700      EUR       Sabadell  41.510280   \n",
       "5  51390.0  110.0     manual  18200      EUR         Málaga  36.721303   \n",
       "\n",
       "   longitude  \n",
       "0   2.689871  \n",
       "1  -3.555288  \n",
       "2  -3.703582  \n",
       "3   2.112326  \n",
       "5  -4.421637  "
      ]
     },
     "execution_count": 95,
     "metadata": {},
     "output_type": "execute_result"
    }
   ],
   "source": [
    "df_streamlit.head()"
   ]
  },
  {
   "cell_type": "code",
   "execution_count": 96,
   "id": "4fca6733",
   "metadata": {},
   "outputs": [
    {
     "data": {
      "text/plain": [
       "(12565, 13)"
      ]
     },
     "execution_count": 96,
     "metadata": {},
     "output_type": "execute_result"
    }
   ],
   "source": [
    "df_streamlit.shape"
   ]
  },
  {
   "cell_type": "code",
   "execution_count": 97,
   "id": "2f0037d2",
   "metadata": {},
   "outputs": [],
   "source": [
    "df_streamlit.to_csv(\"df_streamlit.csv\", index=False)"
   ]
  },
  {
   "cell_type": "code",
   "execution_count": null,
   "id": "a871378b",
   "metadata": {},
   "outputs": [],
   "source": []
  }
 ],
 "metadata": {
  "kernelspec": {
   "display_name": "Python 3 (ipykernel)",
   "language": "python",
   "name": "python3"
  },
  "language_info": {
   "codemirror_mode": {
    "name": "ipython",
    "version": 3
   },
   "file_extension": ".py",
   "mimetype": "text/x-python",
   "name": "python",
   "nbconvert_exporter": "python",
   "pygments_lexer": "ipython3",
   "version": "3.8.5"
  }
 },
 "nbformat": 4,
 "nbformat_minor": 5
}
